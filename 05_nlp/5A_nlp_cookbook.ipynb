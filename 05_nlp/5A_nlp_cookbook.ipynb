{
 "cells": [
  {
   "cell_type": "markdown",
   "metadata": {},
   "source": [
    "# (5A) Natural Language Processing (NLP) Cookbook, part 1\n",
    "\n",
    "So far, our three primary steps of text analysis have consisted of:\n",
    "\n",
    "1. **Reading** the file:\n",
    "    * Filename --> String of entire text\n",
    "2. **Tokenizing** the string:\n",
    "    * String --> List of individual words\n",
    "3. **Counting** the tokens:\n",
    "    * List --> Dictionary of word counts (word as key, count as value)\n",
    "    \n",
    "    \n",
    "Cool. But how can we get more granular information from texts? What about all the other things Natural Language Processing can do, like:\n",
    "\n",
    "* Identify parts of speech? (nouns, verbs, adjectives, ...)\n",
    "* Detect proper nouns of places and people?\n",
    "* Identify sentence boundaries?\n",
    "* Describe sentence syntax? (clauses, subject-object and other \"dependencies\", etc)\n",
    "* Identify noun phrases? (\"natural language processing\", \"education department\", etc)\n",
    "* Sentiment analysis? (estimating positive/negative sentiment of text)"
   ]
  },
  {
   "cell_type": "markdown",
   "metadata": {},
   "source": [
    "We don't need to reinvent the wheel. (Although, if you *did* reinvent the wheel, wouldn't that be kind of cool?) There are a number of great software packages out there for natural language processing in Python.\n",
    "\n",
    "This notebook is organized a bit differently. On the top level are basic NLP tasks, and then within each, I'll identify a few different ways to accomplish that NLP task. For instance, how can we tokenize words again? (Perhaps the simplest NLP task.)\n",
    "\n",
    "-----\n",
    "\n",
    "## How can I tokenize a string into a list of words?\n",
    "\n",
    "Let's compare a number of ways to tokenize a string."
   ]
  },
  {
   "cell_type": "code",
   "execution_count": 1,
   "metadata": {},
   "outputs": [],
   "source": [
    "# English\n",
    "string = \"We don't need to re-invent the wheel!\"\n",
    "\n",
    "# Spanish\n",
    "string_es = '¡No necesitamos reinventar la rueda!'\n",
    "\n",
    "# German\n",
    "string_de = 'Wir brauchen nicht das Rad neu erfinden!'\n",
    "\n",
    "# French\n",
    "string_fr = \"Nous n'avons pas besoin de réinventer la roue!\"\n",
    "\n",
    "# Chinese (simplified)\n",
    "string_zh = '我们不需要重新发明轮子！'"
   ]
  },
  {
   "cell_type": "markdown",
   "metadata": {},
   "source": [
    "### (0) Just using string's .split()"
   ]
  },
  {
   "cell_type": "code",
   "execution_count": 2,
   "metadata": {},
   "outputs": [
    {
     "name": "stdout",
     "output_type": "stream",
     "text": [
      "['We', \"don't\", 'need', 'to', 're-invent', 'the', 'wheel!']\n",
      "7\n"
     ]
    }
   ],
   "source": [
    "# \"tokenize\"\n",
    "words = string.split()\n",
    "\n",
    "# print words\n",
    "print(words)\n",
    "\n",
    "# print number of words\n",
    "print(len(words))"
   ]
  },
  {
   "cell_type": "markdown",
   "metadata": {},
   "source": [
    "### (1) NLTK\n",
    "\n",
    "This is the one we've worked with so far. NLTK is used most often in academic settings, and by people prototyping algorithms and processing pipelines. Depending on the task, it can support many languages, if you download the appropriate language models.\n",
    "\n",
    "For tokenization, NLTK uses a punctuation-based tokenizer. This should work decently well, but not perfectly, for any language for which spaces and punctuation marks delimit words and sentences."
   ]
  },
  {
   "cell_type": "code",
   "execution_count": 3,
   "metadata": {},
   "outputs": [
    {
     "name": "stdout",
     "output_type": "stream",
     "text": [
      "['We', 'do', \"n't\", 'need', 'to', 're-invent', 'the', 'wheel', '!']\n",
      "9\n"
     ]
    }
   ],
   "source": [
    "# import nltk once to use its functions\n",
    "import nltk\n",
    "\n",
    "# tokenize\n",
    "words = nltk.word_tokenize(string)\n",
    "\n",
    "# print words\n",
    "print(words)\n",
    "\n",
    "# print number of words\n",
    "print(len(words))"
   ]
  },
  {
   "cell_type": "markdown",
   "metadata": {},
   "source": [
    "### (2) TextBlob (recommended)\n",
    "\n",
    "I recommend that we start to move from NLTK to TextBlob, which is built on top of NLTK and [pattern](https://github.com/clips/pattern), and which makes a number of basic NLP tasks extremely easy. TextBlob works for English, French, and German. To install, type in the Terminal:\n",
    "\n",
    "```\n",
    "pip install textblob\n",
    "```\n",
    "\n",
    "For French or German, add:\n",
    "```\n",
    "pip install textblob-fr    # French\n",
    "pip install textblob-de    # German\n",
    "```"
   ]
  },
  {
   "cell_type": "code",
   "execution_count": 4,
   "metadata": {},
   "outputs": [
    {
     "name": "stdout",
     "output_type": "stream",
     "text": [
      "['We', 'do', \"n't\", 'need', 'to', 're-invent', 'the', 'wheel']\n",
      "8\n"
     ]
    }
   ],
   "source": [
    "# from textblob, import the main 'class': TextBlob\n",
    "from textblob import TextBlob\n",
    "\n",
    "# create a textblob object\n",
    "blob = TextBlob(string)\n",
    "\n",
    "# print words\n",
    "print(blob.words)\n",
    "\n",
    "# print number of words\n",
    "print(len(blob.words))"
   ]
  },
  {
   "cell_type": "code",
   "execution_count": 5,
   "metadata": {},
   "outputs": [
    {
     "name": "stdout",
     "output_type": "stream",
     "text": [
      "['We', 'do', \"n't\", 'need', 'to', 're-invent', 'the', 'wheel', '!']\n",
      "9\n"
     ]
    }
   ],
   "source": [
    "# print tokens (words with punctuation)\n",
    "print(blob.tokens)\n",
    "\n",
    "# print number of tokens (words with punctuation)\n",
    "print(len(blob.tokens))"
   ]
  },
  {
   "cell_type": "markdown",
   "metadata": {},
   "source": [
    "### (3) Polyglot (for non-English, non-French, non-German text)\n",
    "\n",
    "[Polyglot](https://polyglot.readthedocs.io/) is a really cool package, built on top of TextBlob, which supports up to 140 different languages depending on the NLP task. This increase in linguistic range comes at a cost of accuracy, however. The tools was trained using Wikipedia as a Rosetta Stone, calibrating languages' models against each other by using the \"same\" articles in those languages. The other costs of using Polyglot: the documentation isn't that great, and it doesn't seem to be actively updated.\n",
    "\n",
    "*Installation is also kind of a pain in the neck.* I recommend installing this only if you are planning to work with non-English, non-French, non-German text. To do so, paste the following into Terminal:\n",
    "\n",
    "    conda install -c conda-forge pyicu\n",
    "    pip install pycld2\n",
    "    pip install morfessor\n",
    "    pip install polyglot\n",
    "    polyglot download LANG:en   # for english\n",
    "    polyglot download LANG:es   # for spanish (optional)\n",
    "    polyglot download LANG:xx   # where xx is the two-letter language code\n",
    "   \n",
    "See [the website](https://polyglot.readthedocs.io/) for more details."
   ]
  },
  {
   "cell_type": "code",
   "execution_count": 6,
   "metadata": {},
   "outputs": [
    {
     "name": "stdout",
     "output_type": "stream",
     "text": [
      "['We', \"don't\", 'need', 'to', 're', '-', 'invent', 'the', 'wheel', '!']\n",
      "10\n"
     ]
    }
   ],
   "source": [
    "# let's try this...\n",
    "try:\n",
    "    # to use polyglot, import its \"Text\" object:\n",
    "    from polyglot.text import Text\n",
    "\n",
    "    # then wrap that Text object around any string\n",
    "    pg_text = Text(string)\n",
    "\n",
    "    # print words\n",
    "    print(pg_text.words)\n",
    "\n",
    "    # print number of words\n",
    "    print(len(pg_text.words))\n",
    "except ImportError:\n",
    "    print('Polyglot not installed! To do so, follow the instructions above.')"
   ]
  },
  {
   "cell_type": "markdown",
   "metadata": {},
   "source": [
    "### (4) Spacy\n",
    "\n",
    "[Spacy](http://spacy.io) is industrial-strength NLP. It's the fastest, most powerful, and most accurate. It can also work on [several languages besides English](https://spacy.io/models). But it's also kinda ugly and confusing to use. I recommend using this only if you are working on hundreds of texts and feel extremely comfortable with all the things we've been doing so far.\n",
    "\n",
    "To install:\n",
    "\n",
    "    pip install spacy\n",
    "    python -m spacy download en_core_web_sm\n",
    "\n",
    "Here's a toy example of spacy:"
   ]
  },
  {
   "cell_type": "code",
   "execution_count": 7,
   "metadata": {},
   "outputs": [
    {
     "name": "stdout",
     "output_type": "stream",
     "text": [
      "[We, do, n't, need, to, re, -, invent, the, wheel, !]\n",
      "11\n"
     ]
    }
   ],
   "source": [
    "try:\n",
    "    # import spacy\n",
    "    import spacy\n",
    "\n",
    "    # load its default English model\n",
    "    nlp = spacy.load(\"en_core_web_sm\")\n",
    "\n",
    "    # create a spacy text object\n",
    "    doc = nlp(string)\n",
    "\n",
    "    # print words\n",
    "    print(list(doc))\n",
    "\n",
    "    # print number of words\n",
    "    print(len(doc))\n",
    "except ImportError:\n",
    "    print(\"spacy not installed. Please follow directions above.\")"
   ]
  },
  {
   "cell_type": "markdown",
   "metadata": {},
   "source": [
    "### Practice"
   ]
  },
  {
   "cell_type": "code",
   "execution_count": 8,
   "metadata": {},
   "outputs": [
    {
     "data": {
      "text/plain": [
       "0.7168141592920354"
      ]
     },
     "execution_count": 8,
     "metadata": {},
     "output_type": "execute_result"
    }
   ],
   "source": [
    "## @TODO: \n",
    "# - Import textblob\n",
    "# - Make a 'blob' from the string (string_arendt) below\n",
    "# - Print the number of words\n",
    "# - Print the number of UNIQUE words\n",
    "# - Calculate the TTR\n",
    "\n",
    "string_arendt = \"\"\"For the sciences today\n",
    "have been forced to adopt a \"language\" of mathematical symbols\n",
    "which, though it was originally meant only as an abbreviation for\n",
    "spoken statements, now contains statements that in no way can be\n",
    "translated back into speech. The reason why it may be wise to\n",
    "distrust the political judgment of scientists qua scientists is not\n",
    "primarily their lack of \"character\" -- that they did not refuse to\n",
    "develop atomic weapons -- or their naivete -- that they did not\n",
    "understand that once these weapons were developed they would\n",
    "be the last to be consulted about their use -- but precisely the fact\n",
    "that they move in a world where speech has lost its power.\"\"\"\n",
    "\n",
    "blob = TextBlob(string_arendt).lower()\n",
    "\n",
    "num_words = len(blob.words)\n",
    "\n",
    "num_unique_words = len(set(blob.words))\n",
    "\n",
    "ttr = num_unique_words / num_words\n",
    "\n",
    "ttr"
   ]
  },
  {
   "cell_type": "markdown",
   "metadata": {},
   "source": [
    "## How can I count words?"
   ]
  },
  {
   "cell_type": "code",
   "execution_count": 9,
   "metadata": {},
   "outputs": [],
   "source": [
    "# sample list of words\n",
    "list_stein = ['a','rose','is','a','rose','is','a','rose','.']"
   ]
  },
  {
   "cell_type": "markdown",
   "metadata": {},
   "source": [
    "### (0) Python\n",
    "\n",
    "This was the first way we were doing things."
   ]
  },
  {
   "cell_type": "code",
   "execution_count": 10,
   "metadata": {},
   "outputs": [],
   "source": [
    "# We can write our own counter function\n",
    "def count(words):\n",
    "    # make an empty dictionary\n",
    "    dict_of_counts = {}\n",
    "    \n",
    "    # loop over words\n",
    "    for word in words:\n",
    "        # if the word is in the dictionary\n",
    "        if word in dict_of_counts:\n",
    "            # add 1 to its entry\n",
    "            dict_of_counts[word]+=1\n",
    "        else:\n",
    "            # initialize its entry with 1\n",
    "            dict_of_counts[word]=1\n",
    "            \n",
    "    # return dict of counts\n",
    "    return dict_of_counts"
   ]
  },
  {
   "cell_type": "code",
   "execution_count": 11,
   "metadata": {},
   "outputs": [
    {
     "data": {
      "text/plain": [
       "{'a': 3, 'rose': 3, 'is': 2, '.': 1}"
      ]
     },
     "execution_count": 11,
     "metadata": {},
     "output_type": "execute_result"
    }
   ],
   "source": [
    "# We can create a dictionary of counts using our function\n",
    "count_dict = count(list_stein)\n",
    "count_dict"
   ]
  },
  {
   "cell_type": "code",
   "execution_count": 12,
   "metadata": {},
   "outputs": [
    {
     "ename": "KeyError",
     "evalue": "'daffodil'",
     "output_type": "error",
     "traceback": [
      "\u001b[0;31m--------------------------------------------------\u001b[0m",
      "\u001b[0;31mKeyError\u001b[0m         Traceback (most recent call last)",
      "\u001b[0;32m<ipython-input-12-da1c35b77f02>\u001b[0m in \u001b[0;36m<module>\u001b[0;34m\u001b[0m\n\u001b[1;32m      1\u001b[0m \u001b[0;31m# But this will break, because 'daffodil' is not in the count dictionary\u001b[0m\u001b[0;34m\u001b[0m\u001b[0;34m\u001b[0m\u001b[0;34m\u001b[0m\u001b[0m\n\u001b[0;32m----> 2\u001b[0;31m \u001b[0mcount_dict\u001b[0m\u001b[0;34m[\u001b[0m\u001b[0;34m'daffodil'\u001b[0m\u001b[0;34m]\u001b[0m\u001b[0;34m\u001b[0m\u001b[0;34m\u001b[0m\u001b[0m\n\u001b[0m",
      "\u001b[0;31mKeyError\u001b[0m: 'daffodil'"
     ]
    }
   ],
   "source": [
    "# But this will break, because 'daffodil' is not in the count dictionary\n",
    "count_dict['daffodil']"
   ]
  },
  {
   "cell_type": "code",
   "execution_count": 13,
   "metadata": {},
   "outputs": [
    {
     "data": {
      "text/plain": [
       "0"
      ]
     },
     "execution_count": 13,
     "metadata": {},
     "output_type": "execute_result"
    }
   ],
   "source": [
    "# This will make sure we get a default value (0, in this case) if 'daffodil' is not in the count dictionary\n",
    "count_dict.get('daffodil',0)"
   ]
  },
  {
   "cell_type": "markdown",
   "metadata": {},
   "source": [
    "### (1) Counter\n",
    "\n",
    "Python includes a very helpful variant on the dictionary called 'Counter'."
   ]
  },
  {
   "cell_type": "code",
   "execution_count": 14,
   "metadata": {},
   "outputs": [
    {
     "data": {
      "text/plain": [
       "Counter({'a': 3, 'rose': 3, 'is': 2, '.': 1})"
      ]
     },
     "execution_count": 14,
     "metadata": {},
     "output_type": "execute_result"
    }
   ],
   "source": [
    "# Counter must be imported\n",
    "from collections import Counter\n",
    "\n",
    "# This is the first way you can make a Counter: just pass it a list of tokens\n",
    "count_dict = Counter(list_stein)\n",
    "\n",
    "# show\n",
    "count_dict"
   ]
  },
  {
   "cell_type": "code",
   "execution_count": 15,
   "metadata": {},
   "outputs": [
    {
     "data": {
      "text/plain": [
       "Counter({'a': 3, 'rose': 3, 'is': 2, '.': 1})"
      ]
     },
     "execution_count": 15,
     "metadata": {},
     "output_type": "execute_result"
    }
   ],
   "source": [
    "# Another way is to start from an empty one\n",
    "count_dict = Counter()\n",
    "\n",
    "# ...and then loop through and add 1 each time\n",
    "for word in list_stein:\n",
    "    count_dict[word]+=1    # no need to check if it's there!\n",
    "    \n",
    "# show\n",
    "count_dict"
   ]
  },
  {
   "cell_type": "code",
   "execution_count": 16,
   "metadata": {},
   "outputs": [
    {
     "data": {
      "text/plain": [
       "0"
      ]
     },
     "execution_count": 16,
     "metadata": {},
     "output_type": "execute_result"
    }
   ],
   "source": [
    "# A counter will automatically give us a default value of 0 if the word is not there\n",
    "count_dict['daffodil']"
   ]
  },
  {
   "cell_type": "markdown",
   "metadata": {},
   "source": [
    "### (2) textblob\n",
    "\n",
    "The simplest way to count all the words in a text is to just grab the `.word_counts` attribute of a textblob."
   ]
  },
  {
   "cell_type": "code",
   "execution_count": 17,
   "metadata": {},
   "outputs": [
    {
     "data": {
      "text/plain": [
       "defaultdict(int, {'a': 3, 'rose': 3, 'is': 2})"
      ]
     },
     "execution_count": 17,
     "metadata": {},
     "output_type": "execute_result"
    }
   ],
   "source": [
    "# first, make a blob\n",
    "blob = TextBlob(\"a rose is a rose is a rose.\")\n",
    "\n",
    "# then grab the counter\n",
    "count_dict = blob.word_counts\n",
    "\n",
    "# show (note the lack of period: this is without punctuation)\n",
    "count_dict"
   ]
  },
  {
   "cell_type": "code",
   "execution_count": 18,
   "metadata": {},
   "outputs": [
    {
     "data": {
      "text/plain": [
       "0"
      ]
     },
     "execution_count": 18,
     "metadata": {},
     "output_type": "execute_result"
    }
   ],
   "source": [
    "# this will also give us a default value of 0\n",
    "count_dict['daffodil']"
   ]
  },
  {
   "cell_type": "markdown",
   "metadata": {},
   "source": [
    "## How can I tokenize sentences?\n",
    "\n",
    "If word tokenization is the process of splitting an undifferentiated string into a list of words, then sentence tokenization is the process of splitting an undifferentiated string into a list of sentences.\n",
    "\n",
    "Here's a few different ways."
   ]
  },
  {
   "cell_type": "code",
   "execution_count": 19,
   "metadata": {},
   "outputs": [],
   "source": [
    "para_labor = \"\"\"Ever since he's been here, never stopped working. Always working.\n",
    "Washing dishes. Chopping vegetables. Cleaning floors. Cooking hamburgers. Painting walls.\n",
    "Laying brick. Cutting hedges. Mowing lawn. Digging ditches. Sweeping trash.\"\"\""
   ]
  },
  {
   "cell_type": "markdown",
   "metadata": {},
   "source": [
    "### (1) NLTK"
   ]
  },
  {
   "cell_type": "code",
   "execution_count": 20,
   "metadata": {},
   "outputs": [
    {
     "name": "stdout",
     "output_type": "stream",
     "text": [
      "12\n"
     ]
    },
    {
     "data": {
      "text/plain": [
       "[\"Ever since he's been here, never stopped working.\",\n",
       " 'Always working.',\n",
       " 'Washing dishes.',\n",
       " 'Chopping vegetables.',\n",
       " 'Cleaning floors.',\n",
       " 'Cooking hamburgers.',\n",
       " 'Painting walls.',\n",
       " 'Laying brick.',\n",
       " 'Cutting hedges.',\n",
       " 'Mowing lawn.',\n",
       " 'Digging ditches.',\n",
       " 'Sweeping trash.']"
      ]
     },
     "execution_count": 20,
     "metadata": {},
     "output_type": "execute_result"
    }
   ],
   "source": [
    "# tokenize\n",
    "sentences = nltk.sent_tokenize(para_labor)\n",
    "\n",
    "# print number of sentences\n",
    "print(len(sentences))\n",
    "\n",
    "# show sentences\n",
    "sentences"
   ]
  },
  {
   "cell_type": "markdown",
   "metadata": {},
   "source": [
    "### (2) textblob (recommended)"
   ]
  },
  {
   "cell_type": "code",
   "execution_count": 21,
   "metadata": {},
   "outputs": [
    {
     "name": "stdout",
     "output_type": "stream",
     "text": [
      "12\n"
     ]
    },
    {
     "data": {
      "text/plain": [
       "[Sentence(\"Ever since he's been here, never stopped working.\"),\n",
       " Sentence(\"Always working.\"),\n",
       " Sentence(\"Washing dishes.\"),\n",
       " Sentence(\"Chopping vegetables.\"),\n",
       " Sentence(\"Cleaning floors.\"),\n",
       " Sentence(\"Cooking hamburgers.\"),\n",
       " Sentence(\"Painting walls.\"),\n",
       " Sentence(\"Laying brick.\"),\n",
       " Sentence(\"Cutting hedges.\"),\n",
       " Sentence(\"Mowing lawn.\"),\n",
       " Sentence(\"Digging ditches.\"),\n",
       " Sentence(\"Sweeping trash.\")]"
      ]
     },
     "execution_count": 21,
     "metadata": {},
     "output_type": "execute_result"
    }
   ],
   "source": [
    "# first make a blob\n",
    "blob = TextBlob(para_labor)\n",
    "\n",
    "# Then the sentences are just magically at .sentences\n",
    "sentences = blob.sentences\n",
    "\n",
    "# Print number of sentences\n",
    "print(len(sentences))\n",
    "\n",
    "# Show sentences\n",
    "sentences"
   ]
  },
  {
   "cell_type": "code",
   "execution_count": 22,
   "metadata": {},
   "outputs": [],
   "source": [
    "# Get first sentence\n",
    "first_sent = blob.sentences[0]"
   ]
  },
  {
   "cell_type": "code",
   "execution_count": 23,
   "metadata": {},
   "outputs": [
    {
     "data": {
      "text/plain": [
       "WordList(['Ever', 'since', 'he', \"'s\", 'been', 'here', 'never', 'stopped', 'working'])"
      ]
     },
     "execution_count": 23,
     "metadata": {},
     "output_type": "execute_result"
    }
   ],
   "source": [
    "# Get that sentence's words\n",
    "first_sent.words"
   ]
  },
  {
   "cell_type": "code",
   "execution_count": 24,
   "metadata": {},
   "outputs": [
    {
     "data": {
      "text/plain": [
       "WordList(['Sweeping', 'trash'])"
      ]
     },
     "execution_count": 24,
     "metadata": {},
     "output_type": "execute_result"
    }
   ],
   "source": [
    "blob.sentences[-1].words"
   ]
  },
  {
   "cell_type": "markdown",
   "metadata": {},
   "source": [
    "#### How can I calculate the average length of sentences?"
   ]
  },
  {
   "cell_type": "code",
   "execution_count": 25,
   "metadata": {},
   "outputs": [
    {
     "name": "stdout",
     "output_type": "stream",
     "text": [
      "2.5833333333333335\n"
     ]
    }
   ],
   "source": [
    "# Get average words per sentence\n",
    "num_words = len(blob.words)\n",
    "num_sents = len(blob.sentences)\n",
    "wps = num_words / num_sents\n",
    "\n",
    "print(wps)"
   ]
  },
  {
   "cell_type": "markdown",
   "metadata": {},
   "source": [
    "#### How can I calculate the median length of sentences?"
   ]
  },
  {
   "cell_type": "code",
   "execution_count": 26,
   "metadata": {},
   "outputs": [
    {
     "name": "stdout",
     "output_type": "stream",
     "text": [
      "[9, 2, 2, 2, 2, 2, 2, 2, 2, 2, 2, 2]\n",
      "2.0\n"
     ]
    }
   ],
   "source": [
    "### Calculate the MEDIAN length of sentences\n",
    "\n",
    "# numpy has a lot useful stats functions\n",
    "import numpy as np\n",
    "\n",
    "# set an empty list which we'll use to store the lengths of the sentences\n",
    "sent_lens = []\n",
    "\n",
    "# for every sentence...\n",
    "for sent in blob.sentences:\n",
    "    \n",
    "    # get the number of words\n",
    "    num_sent_words = len(sent.words)\n",
    "        \n",
    "    # add this length to the list of sentence lengths\n",
    "    sent_lens.append(num_sent_words)\n",
    "    \n",
    "# once, we're done looping, print sent_lens\n",
    "print(sent_lens)\n",
    "\n",
    "# print the median\n",
    "median_len = np.median(sent_lens)\n",
    "print(median_len)"
   ]
  },
  {
   "cell_type": "markdown",
   "metadata": {},
   "source": [
    "## How can I get the parts of speech?"
   ]
  },
  {
   "cell_type": "markdown",
   "metadata": {},
   "source": [
    "### (1) NLTK\n",
    "\n",
    "English only (by default). NLTK's tagset (as well as textblob's) is drawn from the [Penn Treebank Tagset](https://www.ling.upenn.edu/courses/Fall_2003/ling001/penn_treebank_pos.html)."
   ]
  },
  {
   "cell_type": "code",
   "execution_count": 27,
   "metadata": {},
   "outputs": [
    {
     "data": {
      "text/plain": [
       "[('We', 'PRP'),\n",
       " ('do', 'VBP'),\n",
       " (\"n't\", 'RB'),\n",
       " ('need', 'VB'),\n",
       " ('to', 'TO'),\n",
       " ('re-invent', 'VB'),\n",
       " ('the', 'DT'),\n",
       " ('wheel', 'NN'),\n",
       " ('!', '.')]"
      ]
     },
     "execution_count": 27,
     "metadata": {},
     "output_type": "execute_result"
    }
   ],
   "source": [
    "# first you need to tokenize\n",
    "words = nltk.word_tokenize(string)\n",
    "\n",
    "# then you can part of speech tag\n",
    "tags = nltk.pos_tag(words)\n",
    "\n",
    "# show tags\n",
    "tags"
   ]
  },
  {
   "cell_type": "code",
   "execution_count": 28,
   "metadata": {},
   "outputs": [
    {
     "data": {
      "text/plain": [
       "('We', 'PRP')"
      ]
     },
     "execution_count": 28,
     "metadata": {},
     "output_type": "execute_result"
    }
   ],
   "source": [
    "# Each of these is a 'tuple': a baby list with just two things in it\n",
    "babylist = tags[0]\n",
    "babylist"
   ]
  },
  {
   "cell_type": "code",
   "execution_count": 29,
   "metadata": {},
   "outputs": [
    {
     "data": {
      "text/plain": [
       "'We'"
      ]
     },
     "execution_count": 29,
     "metadata": {},
     "output_type": "execute_result"
    }
   ],
   "source": [
    "# This means we can get the first thing in this baby list the same way\n",
    "babylist[0]"
   ]
  },
  {
   "cell_type": "code",
   "execution_count": 30,
   "metadata": {},
   "outputs": [
    {
     "data": {
      "text/plain": [
       "'PRP'"
      ]
     },
     "execution_count": 30,
     "metadata": {},
     "output_type": "execute_result"
    }
   ],
   "source": [
    "# And the second thing\n",
    "babylist[1]"
   ]
  },
  {
   "cell_type": "code",
   "execution_count": 31,
   "metadata": {},
   "outputs": [
    {
     "ename": "AttributeError",
     "evalue": "'tuple' object has no attribute 'append'",
     "output_type": "error",
     "traceback": [
      "\u001b[0;31m--------------------------------------------------\u001b[0m",
      "\u001b[0;31mAttributeError\u001b[0m   Traceback (most recent call last)",
      "\u001b[0;32m<ipython-input-31-e69aec81090f>\u001b[0m in \u001b[0;36m<module>\u001b[0;34m\u001b[0m\n\u001b[1;32m      1\u001b[0m \u001b[0;31m# A tuple is a 'frozen' list. Nothing can be added to it\u001b[0m\u001b[0;34m\u001b[0m\u001b[0;34m\u001b[0m\u001b[0;34m\u001b[0m\u001b[0m\n\u001b[0;32m----> 2\u001b[0;31m \u001b[0mbabylist\u001b[0m\u001b[0;34m.\u001b[0m\u001b[0mappend\u001b[0m\u001b[0;34m(\u001b[0m\u001b[0;34m'this will not work'\u001b[0m\u001b[0;34m)\u001b[0m\u001b[0;34m\u001b[0m\u001b[0;34m\u001b[0m\u001b[0m\n\u001b[0m",
      "\u001b[0;31mAttributeError\u001b[0m: 'tuple' object has no attribute 'append'"
     ]
    }
   ],
   "source": [
    "# A tuple is a 'frozen' list. Nothing can be added to it\n",
    "babylist.append('this will not work')"
   ]
  },
  {
   "cell_type": "code",
   "execution_count": 32,
   "metadata": {},
   "outputs": [
    {
     "name": "stdout",
     "output_type": "stream",
     "text": [
      "wheel\n"
     ]
    }
   ],
   "source": [
    "# We can loop over the words and tags like this:\n",
    "for babylist in tags:\n",
    "    \n",
    "    word = babylist[0]\n",
    "    \n",
    "    tag = babylist[1]\n",
    "    \n",
    "    if tag == 'NN':\n",
    "        print(word)"
   ]
  },
  {
   "cell_type": "code",
   "execution_count": 33,
   "metadata": {},
   "outputs": [
    {
     "name": "stdout",
     "output_type": "stream",
     "text": [
      "wheel\n"
     ]
    }
   ],
   "source": [
    "# We can also loop over it like this\n",
    "for word,tag in tags:\n",
    "    # Print if noun\n",
    "    if tag=='NN':\n",
    "        print(word)"
   ]
  },
  {
   "cell_type": "markdown",
   "metadata": {},
   "source": [
    "### (2) textblob (recommended)"
   ]
  },
  {
   "cell_type": "code",
   "execution_count": 34,
   "metadata": {},
   "outputs": [],
   "source": [
    "#nltk.download('averaged_perceptron_tagger')"
   ]
  },
  {
   "cell_type": "code",
   "execution_count": 35,
   "metadata": {},
   "outputs": [
    {
     "data": {
      "text/plain": [
       "[('We', 'PRP'),\n",
       " ('do', 'VBP'),\n",
       " (\"n't\", 'RB'),\n",
       " ('need', 'VB'),\n",
       " ('to', 'TO'),\n",
       " ('re-invent', 'VB'),\n",
       " ('the', 'DT'),\n",
       " ('wheel', 'NN')]"
      ]
     },
     "execution_count": 35,
     "metadata": {},
     "output_type": "execute_result"
    }
   ],
   "source": [
    "# first make a blob\n",
    "blob = TextBlob(string)\n",
    "\n",
    "# then the tags are just magically at .tags\n",
    "tags = blob.tags\n",
    "\n",
    "# show tags\n",
    "tags"
   ]
  },
  {
   "cell_type": "code",
   "execution_count": 36,
   "metadata": {},
   "outputs": [
    {
     "name": "stdout",
     "output_type": "stream",
     "text": [
      "wheel\n"
     ]
    }
   ],
   "source": [
    "# Loop over words and tags in the same way as above\n",
    "for word,tag in tags:\n",
    "    # Print if noun\n",
    "    if tag=='NN':\n",
    "        print(word)"
   ]
  },
  {
   "cell_type": "markdown",
   "metadata": {},
   "source": [
    "### (3) polyglot\n",
    "\n",
    "Polyglot uses a [simplified tag set](https://polyglot.readthedocs.io/en/latest/POS.html)."
   ]
  },
  {
   "cell_type": "code",
   "execution_count": 37,
   "metadata": {},
   "outputs": [
    {
     "name": "stdout",
     "output_type": "stream",
     "text": [
      "[('¡', 'PUNCT'),\n",
      " ('No', 'ADV'),\n",
      " ('necesitamos', 'VERB'),\n",
      " ('reinventar', 'VERB'),\n",
      " ('la', 'DET'),\n",
      " ('rueda', 'NOUN'),\n",
      " ('!', 'PUNCT')]\n"
     ]
    }
   ],
   "source": [
    "try:\n",
    "    # First make a polyglot text\n",
    "    from polyglot.text import Text\n",
    "    text = Text(string_es)\n",
    "\n",
    "    # Then get the tags at .pos_tags\n",
    "    tags = text.pos_tags\n",
    "\n",
    "    # print tags\n",
    "    from pprint import pprint   # this is a prettier print function\n",
    "    pprint(tags)\n",
    "except ImportError:\n",
    "    print('Polyglot not installed. Please see installation instructions above.')"
   ]
  },
  {
   "cell_type": "code",
   "execution_count": 38,
   "metadata": {},
   "outputs": [
    {
     "name": "stdout",
     "output_type": "stream",
     "text": [
      "rueda\n"
     ]
    }
   ],
   "source": [
    "# You can loop over these in the same way, too\n",
    "for word,tag in tags:\n",
    "    if tag=='NOUN':\n",
    "        print(word)"
   ]
  },
  {
   "cell_type": "markdown",
   "metadata": {},
   "source": [
    "### (4) spacy\n",
    "\n",
    "See [here](https://spacy.io/usage/spacy-101)."
   ]
  },
  {
   "cell_type": "markdown",
   "metadata": {},
   "source": [
    "### Practice"
   ]
  },
  {
   "cell_type": "code",
   "execution_count": 46,
   "metadata": {},
   "outputs": [],
   "source": [
    "## @TODO: Count only the nouns in this latest Manzanar chapter (ch35)\n",
    "#\n",
    "\n",
    "# open the file\n",
    "with open('../corpora/tropic_of_orange/texts/ch35.txt') as file:\n",
    "    string_manzanar = file.read()\n",
    "    \n",
    "# make a text blob\n",
    "blob = TextBlob(string_manzanar)\n",
    "\n",
    "# make an empty dictionary or counter\n",
    "from collections import Counter\n",
    "count_nouns = Counter()     # you don't have to check if entry is here\n",
    "\n",
    "\n",
    "# loop over the words and tags\n",
    "# and, if it is a noun,\n",
    "# add 1 to a word's entry in count_nouns \n",
    "\n",
    "for word,tag in blob.tags:\n",
    "    if tag.startswith('N'):\n",
    "        count_nouns[word]+=1"
   ]
  },
  {
   "cell_type": "code",
   "execution_count": 47,
   "metadata": {},
   "outputs": [
    {
     "data": {
      "text/plain": [
       "Counter({'everything': 2,\n",
       "         'sports': 1,\n",
       "         'event': 1,\n",
       "         'concert': 1,\n",
       "         'whatnot': 1,\n",
       "         'time': 5,\n",
       "         'L.A.': 5,\n",
       "         'marathoners': 1,\n",
       "         'droves': 1,\n",
       "         'line': 2,\n",
       "         'Coliseum': 1,\n",
       "         'Rose': 1,\n",
       "         'Bowl': 2,\n",
       "         'UCLA': 1,\n",
       "         'USC': 1,\n",
       "         'Bruin': 1,\n",
       "         'mascot': 1,\n",
       "         'field': 1,\n",
       "         'heat': 1,\n",
       "         'stroke': 1,\n",
       "         'Trojan': 1,\n",
       "         'horse': 1,\n",
       "         'sweaty': 1,\n",
       "         'rider': 1,\n",
       "         'Clippers': 1,\n",
       "         'comeback': 1,\n",
       "         'overtime': 1,\n",
       "         'Sports': 1,\n",
       "         'Arena': 1,\n",
       "         'end': 2,\n",
       "         'seventhinning': 1,\n",
       "         'stretch': 1,\n",
       "         'Nomo': 1,\n",
       "         'fans': 2,\n",
       "         'Chavez': 1,\n",
       "         'Ravine': 1,\n",
       "         'beers': 1,\n",
       "         'Dodger': 1,\n",
       "         'dogs': 1,\n",
       "         'Scottie': 1,\n",
       "         'Pippen': 1,\n",
       "         'Shaq': 1,\n",
       "         'throw': 1,\n",
       "         'Lakers': 1,\n",
       "         'Forum': 1,\n",
       "         'seconds': 1,\n",
       "         'Trekkie': 1,\n",
       "         'convention': 1,\n",
       "         'Convention': 1,\n",
       "         'Center': 1,\n",
       "         'Bud': 1,\n",
       "         'Girls': 1,\n",
       "         'matches': 1,\n",
       "         'Olympic': 1,\n",
       "         'Auditorium': 1,\n",
       "         'Plácido': 1,\n",
       "         'Domingo': 1,\n",
       "         'Rossini': 1,\n",
       "         'Dorothy': 1,\n",
       "         'Chandler': 1,\n",
       "         'direction': 1,\n",
       "         'Peter': 1,\n",
       "         'Sellers': 1,\n",
       "         'Shrine': 1,\n",
       "         'producer': 1,\n",
       "         'Richard': 1,\n",
       "         'Sakai': 1,\n",
       "         'Oscar': 1,\n",
       "         'movie': 2,\n",
       "         'version': 1,\n",
       "         'Simpsons': 1,\n",
       "         'helicopter': 1,\n",
       "         'set': 1,\n",
       "         'Miss': 1,\n",
       "         'Saigon': 1,\n",
       "         'Ahmanson': 1,\n",
       "         'Beauty': 1,\n",
       "         'Beast': 1,\n",
       "         'Shubert': 1,\n",
       "         'housewives': 1,\n",
       "         'stakes': 1,\n",
       "         'pai': 1,\n",
       "         'gow': 1,\n",
       "         'room': 1,\n",
       "         'Bicycle': 1,\n",
       "         'Club': 1,\n",
       "         'Live-laughter': 1,\n",
       "         'sitcom': 1,\n",
       "         'audiences': 1,\n",
       "         'crowds': 1,\n",
       "         'daytime': 1,\n",
       "         'talks': 1,\n",
       "         'studio': 1,\n",
       "         'Hollywood': 5,\n",
       "         'Burbank': 1,\n",
       "         'Thousands': 1,\n",
       "         'Julio': 1,\n",
       "         'Iglesias': 1,\n",
       "         'Universal': 2,\n",
       "         'Amphitheater': 1,\n",
       "         'Robert': 1,\n",
       "         'McNeil': 1,\n",
       "         'Jubilee': 1,\n",
       "         'Choir': 1,\n",
       "         'gospel': 1,\n",
       "         'Greek': 1,\n",
       "         'music': 1,\n",
       "         'nostalgia': 1,\n",
       "         'John': 1,\n",
       "         'Mauceri': 1,\n",
       "         'conducting': 1,\n",
       "         'Tut': 1,\n",
       "         'LACMA': 1,\n",
       "         'Andy': 1,\n",
       "         'Warhol': 1,\n",
       "         'MOCA': 1,\n",
       "         'AIDS': 1,\n",
       "         'walk': 1,\n",
       "         'run': 1,\n",
       "         'West': 1,\n",
       "         'Andrei': 1,\n",
       "         'Codrescu': 1,\n",
       "         'Zombification': 1,\n",
       "         '”': 1,\n",
       "         'Central': 1,\n",
       "         'Library': 1,\n",
       "         'Surfers': 1,\n",
       "         'butt': 1,\n",
       "         'punks': 1,\n",
       "         'leather': 1,\n",
       "         'chains': 1,\n",
       "         'Lollapalooza': 1,\n",
       "         'Orange': 1,\n",
       "         'County': 2,\n",
       "         'Chicanos': 1,\n",
       "         'Plaza': 1,\n",
       "         'de': 1,\n",
       "         'Raza': 1,\n",
       "         'Whittier': 1,\n",
       "         'César': 1,\n",
       "         'Chávez': 1,\n",
       "         'solidarity': 2,\n",
       "         'Volleyball': 1,\n",
       "         'teams': 1,\n",
       "         'titles': 1,\n",
       "         'beaches': 1,\n",
       "         'Malibu': 1,\n",
       "         'Riviera': 1,\n",
       "         'Street': 1,\n",
       "         'fairs': 2,\n",
       "         'food': 1,\n",
       "         'farmers': 1,\n",
       "         'markets': 1,\n",
       "         'gawkers': 1,\n",
       "         'park': 1,\n",
       "         'parking': 1,\n",
       "         'lot': 1,\n",
       "         'Endless': 1,\n",
       "         'lines': 1,\n",
       "         'freeways': 1,\n",
       "         'Disneyland': 1,\n",
       "         'Knott': 1,\n",
       "         '’': 5,\n",
       "         's': 2,\n",
       "         'Berry': 1,\n",
       "         'Farm': 1,\n",
       "         'Magic': 1,\n",
       "         'Mountain': 1,\n",
       "         'Studios': 1,\n",
       "         'Waters': 1,\n",
       "         'specials': 1,\n",
       "         'Drag': 1,\n",
       "         'races': 1,\n",
       "         'Pomona': 1,\n",
       "         'Raceway': 1,\n",
       "         'way': 2,\n",
       "         'demonstration': 1,\n",
       "         'cow': 1,\n",
       "         'milking': 1,\n",
       "         'crowd': 1,\n",
       "         'Los': 1,\n",
       "         'Angeles': 1,\n",
       "         'Fair': 1,\n",
       "         'Americans': 1,\n",
       "         'relocation': 1,\n",
       "         'thousands': 1,\n",
       "         'aliens': 1,\n",
       "         'Santa': 2,\n",
       "         'Anita': 1,\n",
       "         'Racetrack': 1,\n",
       "         'Sin': 1,\n",
       "         'Ying': 1,\n",
       "         'Chang': 1,\n",
       "         'wife': 1,\n",
       "         'blocks': 1,\n",
       "         'premiere': 1,\n",
       "         'Spielberg': 1,\n",
       "         'film': 1,\n",
       "         'rallies': 1,\n",
       "         'benefit': 1,\n",
       "         'dinners': 1,\n",
       "         'dollars': 1,\n",
       "         'plate': 1,\n",
       "         'Republican': 1,\n",
       "         'presidential': 1,\n",
       "         'candidates': 1,\n",
       "         'dessert': 1,\n",
       "         'Sheraton': 1,\n",
       "         'Hilton': 1,\n",
       "         'Bonaventure': 1,\n",
       "         'class': 1,\n",
       "         'malls': 1,\n",
       "         'summer': 2,\n",
       "         'sales': 1,\n",
       "         'swap': 1,\n",
       "         'meets': 1,\n",
       "         'Chris': 1,\n",
       "         'Qris': 1,\n",
       "         'seats': 1,\n",
       "         'Pizzicato': 1,\n",
       "         'Japan': 1,\n",
       "         'America': 1,\n",
       "         'Theater': 1,\n",
       "         'town': 2,\n",
       "         'Cirque': 1,\n",
       "         'du': 1,\n",
       "         'Soleil': 1,\n",
       "         'Big': 1,\n",
       "         'Tent': 1,\n",
       "         'Monica': 1,\n",
       "         'pier': 1,\n",
       "         'Stomp': 1,\n",
       "         'cans': 1,\n",
       "         'Wadsworth': 1,\n",
       "         'horses': 1,\n",
       "         'neck': 2,\n",
       "         'Park': 1,\n",
       "         'Everybody': 1,\n",
       "         'thing': 4,\n",
       "         'leisure': 1,\n",
       "         'world': 3,\n",
       "         'Manzanar': 7,\n",
       "         'balloon': 1,\n",
       "         'aspect': 1,\n",
       "         'time—a': 1,\n",
       "         'Caltrans': 1,\n",
       "         'nightmare': 1,\n",
       "         'disaster': 1,\n",
       "         'course': 1,\n",
       "         'months': 1,\n",
       "         'advance—subscription': 1,\n",
       "         'tickets': 1,\n",
       "         'invitations': 1,\n",
       "         'semifinals': 1,\n",
       "         'events': 3,\n",
       "         'Was': 1,\n",
       "         'anyone': 1,\n",
       "         'random': 1,\n",
       "         'acts': 1,\n",
       "         'planning': 1,\n",
       "         'everyone': 1,\n",
       "         'action': 1,\n",
       "         'TV': 1,\n",
       "         'time—Madison': 1,\n",
       "         'Avenue': 1,\n",
       "         'infirm': 1,\n",
       "         'Ford': 1,\n",
       "         'pickups': 1,\n",
       "         'Nikes': 1,\n",
       "         'screw-up': 1,\n",
       "         'patterns': 1,\n",
       "         'geography': 2,\n",
       "         'sun': 1,\n",
       "         'shadows': 1,\n",
       "         'idea': 2,\n",
       "         'kind': 1,\n",
       "         'residents': 1,\n",
       "         'Greater': 1,\n",
       "         'homes': 1,\n",
       "         'moment': 3,\n",
       "         'bodies': 2,\n",
       "         'exits': 1,\n",
       "         'escalators': 1,\n",
       "         'arcades': 1,\n",
       "         'lobbies': 1,\n",
       "         'turnstiles': 1,\n",
       "         'partake': 1,\n",
       "         'outside': 1,\n",
       "         'cars': 1,\n",
       "         'buses': 1,\n",
       "         'motorcycles': 1,\n",
       "         'limousines': 1,\n",
       "         'miles': 1,\n",
       "         'stories': 1,\n",
       "         'vehicles': 1,\n",
       "         'size': 1,\n",
       "         'doors': 1,\n",
       "         'belts': 1,\n",
       "         'motors': 1,\n",
       "         'orchestration': 1,\n",
       "         'CLICK': 1,\n",
       "         'SLIDE': 1,\n",
       "         'FLOMP': 1,\n",
       "         'BLAM': 1,\n",
       "         'SNAP': 1,\n",
       "         'VROOOM': 1,\n",
       "         'amazing': 1,\n",
       "         'REAR': 1,\n",
       "         'VIEW': 1,\n",
       "         'CHECK': 1,\n",
       "         'IT': 1,\n",
       "         'OUT': 2,\n",
       "         'AC': 1,\n",
       "         'UP': 1,\n",
       "         'TO': 1,\n",
       "         'THE': 1,\n",
       "         'MAX': 1,\n",
       "         'CREEP': 1,\n",
       "         'ON': 1,\n",
       "         'MERGE': 3,\n",
       "         'Man': 1,\n",
       "         'quest': 1,\n",
       "         'technology': 1,\n",
       "         'ramifications': 1,\n",
       "         'inch': 1,\n",
       "         'street': 1,\n",
       "         'highway': 1,\n",
       "         'loathe': 1,\n",
       "         'exhilaration': 1,\n",
       "         'jam': 2,\n",
       "         'session': 1,\n",
       "         'automobile': 1,\n",
       "         'device': 1,\n",
       "         'potential': 1,\n",
       "         'motorist': 1,\n",
       "         'moments': 1,\n",
       "         'elements': 1,\n",
       "         'car': 2,\n",
       "         'intelligence': 1,\n",
       "         'person': 1,\n",
       "         'pulpy': 1,\n",
       "         'brain': 1,\n",
       "         'vehicle': 1,\n",
       "         'defenseless': 1,\n",
       "         'body': 2,\n",
       "         'reason': 1,\n",
       "         'surprise': 1,\n",
       "         'disgust': 1,\n",
       "         'memory': 1,\n",
       "         'surgeon': 1,\n",
       "         'tissue': 1,\n",
       "         'impossibility': 1,\n",
       "         'traffic': 1,\n",
       "         'people': 1,\n",
       "         'GROAN': 1,\n",
       "         'UNLATCH': 1,\n",
       "         'DOORS': 1,\n",
       "         'EMERGE': 1,\n",
       "         'baton': 1,\n",
       "         'knife': 1,\n",
       "         'mouths': 1,\n",
       "         'sync': 1,\n",
       "         'Toho': 1,\n",
       "         'Film': 1,\n",
       "         'production': 1,\n",
       "         'Godzilla': 1,\n",
       "         'language': 1,\n",
       "         'babel': 1})"
      ]
     },
     "execution_count": 47,
     "metadata": {},
     "output_type": "execute_result"
    }
   ],
   "source": [
    "count_nouns"
   ]
  },
  {
   "cell_type": "code",
   "execution_count": 41,
   "metadata": {},
   "outputs": [],
   "source": [
    "## @TODO: Count not words, but parts of speech, in this same chapter\n",
    "# hint: follow the pattern above for the most part\n",
    "\n",
    "# make an empty dictionary or counter\n",
    "count_pos = Counter()     # you don't have to check if entry is here\n",
    "\n",
    "\n",
    "# loop over the words and tags\n",
    "# and, if it is a noun,\n",
    "# add 1 to a word's entry in count_nouns \n",
    "\n",
    "for word,tag in blob.tags:\n",
    "    count_pos[tag]+=1"
   ]
  },
  {
   "cell_type": "code",
   "execution_count": 42,
   "metadata": {},
   "outputs": [
    {
     "data": {
      "text/plain": [
       "Counter({'IN': 153,\n",
       "         'NN': 162,\n",
       "         'DT': 150,\n",
       "         'NNS': 80,\n",
       "         'CC': 56,\n",
       "         'VBD': 62,\n",
       "         'VBG': 25,\n",
       "         'JJ': 76,\n",
       "         'NNP': 179,\n",
       "         'VBN': 22,\n",
       "         'RP': 3,\n",
       "         'PRP$': 19,\n",
       "         'NNPS': 3,\n",
       "         'PRP': 25,\n",
       "         'RB': 35,\n",
       "         'WP': 2,\n",
       "         'CD': 35,\n",
       "         'TO': 9,\n",
       "         'VBP': 8,\n",
       "         'FW': 1,\n",
       "         'VB': 14,\n",
       "         'JJS': 5,\n",
       "         'JJR': 3,\n",
       "         'RBS': 1,\n",
       "         'MD': 8,\n",
       "         'WRB': 4,\n",
       "         'EX': 1,\n",
       "         'UH': 1,\n",
       "         'VBZ': 1,\n",
       "         'WDT': 1})"
      ]
     },
     "execution_count": 42,
     "metadata": {},
     "output_type": "execute_result"
    }
   ],
   "source": [
    "count_pos"
   ]
  },
  {
   "cell_type": "markdown",
   "metadata": {},
   "source": [
    "## Overall practice"
   ]
  },
  {
   "cell_type": "code",
   "execution_count": 43,
   "metadata": {},
   "outputs": [],
   "source": [
    "## @TODO: \n",
    "# - Make a pandas dataframe for the Tropic of Orange metadata\n",
    "# - For each file in that dataframe,\n",
    "#    - Open that file\n",
    "#    - Read it to a string\n",
    "#    - Make a textblob of it\n",
    "#    - Make a text_results dictionary (remember to include 'fn' as key)\n",
    "#    - Add in the results dictionary:\n",
    "#      - % of words which are nouns (tag starts with \"N\")\n",
    "#      - % of words which are verbs (tag starts with \"V\")\n",
    "#      - % of words which are adjectives (tag starts with \"J\")\n",
    "#    - Store the results dictionaries in a list\n",
    "#    - Make a results dataframe\n",
    "#    - Merge that dataframe to the original metadata frame\n",
    "#    - Make 3 boxplots of nouns/verbs/adjectives by narrator\n",
    "\n",
    "\n"
   ]
  },
  {
   "cell_type": "markdown",
   "metadata": {},
   "source": [
    "## Appendix"
   ]
  },
  {
   "cell_type": "markdown",
   "metadata": {},
   "source": [
    "### textblob"
   ]
  },
  {
   "cell_type": "markdown",
   "metadata": {},
   "source": [
    "#### textblob auf Deutsch"
   ]
  },
  {
   "cell_type": "code",
   "execution_count": 44,
   "metadata": {},
   "outputs": [
    {
     "name": "stdout",
     "output_type": "stream",
     "text": [
      "['Wir', 'brauchen', 'nicht', 'das', 'Rad', 'neu', 'erfinden']\n",
      "7\n",
      "[('Wir', 'PRP'), ('brauchen', 'VB'), ('nicht', 'RB'), ('das', 'DT'), ('Rad', 'NN'), ('neu', 'JJ'), ('erfinden', 'VB')]\n"
     ]
    }
   ],
   "source": [
    "# let's try the following lines out, but if they don't work, we'll take plan B\n",
    "try:\n",
    "    # import German textblob\n",
    "    from textblob_de import TextBlobDE\n",
    "\n",
    "    # make a German blob\n",
    "    blob_de = TextBlobDE(string_de)\n",
    "\n",
    "    # print words\n",
    "    print(blob_de.words)\n",
    "\n",
    "    # print number of words\n",
    "    print(len(blob_de.words))\n",
    "\n",
    "    # print part of speech tags\n",
    "    print(blob_de.tags)\n",
    "except ImportError:\n",
    "    # here's our Plan B\n",
    "    print('textblob-de not installed. run in terminal: pip install textblob-de')"
   ]
  },
  {
   "cell_type": "markdown",
   "metadata": {},
   "source": [
    "#### textblob en français"
   ]
  },
  {
   "cell_type": "code",
   "execution_count": 45,
   "metadata": {},
   "outputs": [
    {
     "name": "stdout",
     "output_type": "stream",
     "text": [
      "['Nous', \"n'avons\", 'pas', 'besoin', 'de', 'réinventer', 'la', 'roue']\n",
      "8\n",
      "[('Nous', 'PRP'), ('n', 'VB'), ('avons', 'VB'), ('pas', 'RB'), ('besoin', 'NN'), ('de', 'IN'), ('réinventer', 'VB'), ('la', 'DT'), ('roue', 'NN')]\n"
     ]
    }
   ],
   "source": [
    "# let's try the following lines out, but if they don't work, we'll take plan B\n",
    "try:\n",
    "    # import French textblob\n",
    "    from textblob_fr import PatternTagger, PatternAnalyzer\n",
    "    \n",
    "    # make a French blob\n",
    "    blob_fr = TextBlob(string_fr, pos_tagger=PatternTagger(), analyzer=PatternAnalyzer())\n",
    "    \n",
    "    # print words\n",
    "    print(blob_fr.words)\n",
    "    \n",
    "    # print number of words\n",
    "    print(len(blob_fr.words))\n",
    "    \n",
    "    # print part of speech tags\n",
    "    print(blob_fr.tags)\n",
    "except ImportError:\n",
    "    # here's our Plan B\n",
    "    print('textblob-fr not installed. run in terminal: pip install textblob-fr')"
   ]
  }
 ],
 "metadata": {
  "kernelspec": {
   "display_name": "Python 3",
   "language": "python",
   "name": "python3"
  },
  "language_info": {
   "codemirror_mode": {
    "name": "ipython",
    "version": 3
   },
   "file_extension": ".py",
   "mimetype": "text/x-python",
   "name": "python",
   "nbconvert_exporter": "python",
   "pygments_lexer": "ipython3",
   "version": "3.6.8"
  }
 },
 "nbformat": 4,
 "nbformat_minor": 2
}
