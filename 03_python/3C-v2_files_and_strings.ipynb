{
 "cells": [
  {
   "cell_type": "markdown",
   "metadata": {},
   "source": [
    "# (3C) Files and strings\n",
    "\n",
    "In this notebook we'll focus on 'strings' and how to do things with them, like find and count instances of a word. At the very end, we'll learn how to open a text file and read it to a string. Text files are just big strings, so text mining always begins with string processing.\n",
    "\n",
    "*This notebook began as an adaption of this [strings tutorial by Jerry Pusinen](https://jerry-git.github.io/learn-python3/notebooks/beginner/html/strings.html).*"
   ]
  },
  {
   "cell_type": "code",
   "execution_count": null,
   "metadata": {},
   "outputs": [],
   "source": [
    "alphabet = 'abcdefghijklmnopqrstuvwxyz'"
   ]
  },
  {
   "cell_type": "markdown",
   "metadata": {},
   "source": [
    "Each letter of the alphabet string has an index:\n",
    "\n",
    "    a   b   c   d   e   f   g   h   i   j   k   l   m   n   o   p   q   r   s   t   u   v   w   x   y   z\n",
    "    |   |   |   |   |   |   |   |   |   |   |   |   |   |   |   |   |   |   |   |   |   |   |   |   |   |\n",
    "    0   1   2   3   4   5   6   7   8   9  10  11  12  13  14  15  16  17  18  19  20  21  22  23  24  25"
   ]
  },
  {
   "cell_type": "markdown",
   "metadata": {},
   "source": [
    "### `str.index(substr)`\n",
    "\n",
    "Find the index of a substring in a string. Useful for Keywords in Context (KWIC).\n",
    "\n",
    "First let's start small."
   ]
  },
  {
   "cell_type": "code",
   "execution_count": 45,
   "metadata": {},
   "outputs": [
    {
     "data": {
      "text/plain": [
       "9"
      ]
     },
     "execution_count": 45,
     "metadata": {},
     "output_type": "execute_result"
    }
   ],
   "source": [
    "# Which index is 'j' located at?\n",
    "\n",
    "alphabet.index('j')"
   ]
  },
  {
   "cell_type": "code",
   "execution_count": 46,
   "metadata": {},
   "outputs": [
    {
     "data": {
      "text/plain": [
       "'j'"
      ]
     },
     "execution_count": 46,
     "metadata": {},
     "output_type": "execute_result"
    }
   ],
   "source": [
    "alphabet[9]"
   ]
  },
  {
   "cell_type": "code",
   "execution_count": 47,
   "metadata": {},
   "outputs": [
    {
     "data": {
      "text/plain": [
       "'hijkl'"
      ]
     },
     "execution_count": 47,
     "metadata": {},
     "output_type": "execute_result"
    }
   ],
   "source": [
    "# @TODO: Get the 2 letters surrounding 'j'\n",
    "\n",
    "alphabet[7:12]"
   ]
  },
  {
   "cell_type": "code",
   "execution_count": null,
   "metadata": {},
   "outputs": [],
   "source": [
    "# @TODO: let's abstract from this. get the 2 letters surrounding any letter\n",
    "\n"
   ]
  },
  {
   "cell_type": "code",
   "execution_count": null,
   "metadata": {},
   "outputs": [],
   "source": [
    "# @TODO: let's abstract one more time. get the N letters surrounding any letter\n",
    "\n"
   ]
  },
  {
   "cell_type": "markdown",
   "metadata": {},
   "source": [
    "#### Key Words In Context (KWIC)"
   ]
  },
  {
   "cell_type": "code",
   "execution_count": null,
   "metadata": {},
   "outputs": [],
   "source": [
    "####\n",
    "## The first paragraphs from each of our narrators\n",
    "## Nothing to do here. Just hit Shift+Enter\n",
    "####\n",
    "\n",
    "rafaela = \"\"\"Rafaela Cortes spent the morning barefoot, sweeping both dead and living things from over and under beds, from behind doors and shutters, through archways, along the veranda—sweeping them all across the deep shadows and luminous sunlight carpeting the cool tile floors. Her slender arms worked the broom industriously through the air—already thickening with tepid heat—and along the floor, her feet following, printing their moisture in dark footprints over baked clay. Every morning, a small pile of assorted insects and tiny animals—moths and spiders, lizards and beetles—collected, their brittle bodies tossed in waves along the floor, a cloudy hush of sandy soil, cobwebs, and human hair. An iguana, a crab, and a mouse. And there was the scorpion, always dead—its fragile back broken in the middle. And the snake that slithered away at the urging of her broom—probably not poisonous, but one never knew. Every morning it was the same. Every morning, she swept this mound of dead and wiggling things to the door and off the side of the veranda and into the dark green undergrowth with the same flourish. Occasionally, there was more of one species or the other, but each somehow always made its way back into the house. The iguana, the crab, and the mouse, for example, were always there. Sometimes they were dead; sometimes they were alive. As for the scorpion, it was always dead, but the snake was always alive. On some days, it seemed to twirl before her broom communicating a kind of dance that seemed to send a visceral message up the broom to her fingertips. There was no explanation for any of it. It made no difference if she closed the doors and shutters at the first sign of dusk or if she left the house unoccupied and tightly shut for several days. Every morning when the house was thrown open to the sunlight, she knew that she and the boy had not slept alone that night. Hummingbirds and parakeets fluttered across the rooms, stirring the languid humidity settled by the night, frantically searching for escape through the open lace curtains, while crawling lives hid beneath furniture or presented itself lifeless at her feet.\"\"\"\n",
    "bobby = \"\"\"Check it out, ése. You know this story? Yeah, over at Sanitary Supply they always tell it. This dude drives up, drives up to Sanitary. Makes a pickup like always. You know. Paper towels. Rags. Mop handles. Gallon of Windex. Stuff like that. Drives up in a Toyota pickup. Black shiny deal, all new, big pinche wheels. Very nice. Yeah. Asian dude. Kinda skinny. Short, yeah. But so what? Dark glasses. Cigarette in the mouth. He’s getting out the truck, see. In the parking lot. Big tall dude comes by with a gun. Yeah, a gun. Puts it to his head and says, GIMME THE KEYS! It’s a jacker. Asian dude don’t lose no time, man. No time. Not a doubt. Rams the door closed. wham! Just like that. Slams the door on the jacker’s hand. On the jacker’s gun! Smashes the gun! Smashes the hand. Gun ain’t worth shit. Hand’s worth even less. Jacker loses it bad. He’s crying. Screaming. It’s not over. Asian dude swings the door open. Attacks the jacker. Pushes him up to the wall of Sanitary and beats the shit out. Dude don’t come up to the jacker’s nose. But it don’t matter. Got every trick in the books. Bruce Lee moves. Kick. VAP! WHOP! Damn. Don’t mess with this man. By now Sanitary’s called the police. Crowd’s seen it all. Jacker’s a mess. Blood everywhere. Never seen so much blood. But not a drop on the Asian. Not a drop. Never took off his shades. Never even stopped smoking. Turns over the jacker’s remains to the police. Don’t say nothing. That’s it. Goes into Sanitary. Picks up the mop handles, Windex, rags. Gets in the pickup. He’s gone. That’s it. That’s it.\"\"\"\n",
    "emi = \"\"\"“That film noir stuff is passé. Don’t you get it?” Emi told Gabriel over her Bloody Mary. She squeezed the lime, dumped it in, shook in the Tabasco, more black pepper and stirred the whole mess with the celery stick, licking her fingers, watching him, watching the waiters, watching the cocktail hostess walk away, watching the entire clientele in the restaurant, taking hold of the situation as if she had produced it herself. “Stop being such a film buff. Raymond Chandler. Alfred Hitchcock. Film nostalgia. I don’t give a damn if Chinatown, The Player, or everybody in Hollywood owes these old farts their asses. I’ll give you this: at least they’re in color. Except for Roger Rabbit, if I have to spend another evening with you viewing another video in black and white, this relationship is over.” She laughed, tossing the silky strands of her straight hair over her padded shoulders. She didn’t mean it. She never did.\"\"\"\n",
    "buzzworm = \"\"\"Buzzworm figured that some representations of reality were presented for your visual and aural gratification so as to tap what you thought you understood. It was a starting place but not an ending. Buzzworm tapped your worst phobias. Seemed like he was who he was to offend you. If he sauntered in with an attitude, it was because no matter how he sauntered in, you couldn’t miss him. Might as well make a statement. Besides, how many people got their information from film and TV and the company they keep? Just about everybody thought they knew the truth.\"\"\"\n",
    "manzanar = \"\"\"The third movement was excruciatingly beautiful. But that was his rule about third movements. One should hang breathlessly on every note, a great feeling of anguish nearly spilling from one’s heart. It was mostly strings, violins accompanied by violas and cellos, exchanging melodies with the plaintive voice of the oboes. When it was really good, it brought tears. He let them run down his face and onto the pavement, concentrating mightily on the delicate work at hand. One slip of the baton, one false gesture, and he might lose the building intensity, might fail to caress each note with its tender due. In some deep place in his being, he wanted desperately to lose his way through these passages, but he would not give up his control. He must hear every measure, cue every instrument at its proper moment, until the final note. This was the work of a great conductor and the right of the composer.\"\"\"\n",
    "gabriel = \"\"\"It was about four o’clock in the afternoon, an hour before the five o’clock deadline, mid-June, summer solstice, and it had rained. Out there, steam rose from the hot streets, the pungent odor of wet concrete wafting over the downtown landscape. At eighty degrees, in an hour it would be dry again, but for the moment, everything out there had a wet reflective murky glow, the clouds parting into what I typically call pewter skies.\"\"\"\n",
    "arcangel = \"\"\"When he removed his clothing, he revealed weathered skin stretched like fragile paper over brittle bones, revealed the holes in the sides of his torso and the purple stain across his neck, the solid scars of tissue that padded both his feet. He possessed the beauty of an ancient body, a gnarled and twisted tree, tortured and serene, wise and innocent all at once. Here, in this body-tree—more like bamboo than birch, more like birch than oak, more like oak than pine, more like pine than sequoia, more like sequoia than cactus, more like cactus—was the secret of his youth and the secret of his age.\"\"\"\n"
   ]
  },
  {
   "cell_type": "code",
   "execution_count": null,
   "metadata": {},
   "outputs": [],
   "source": [
    "# @TODO: Where is the first 'crab' located?\n",
    "\n"
   ]
  },
  {
   "cell_type": "code",
   "execution_count": null,
   "metadata": {},
   "outputs": [],
   "source": [
    "# @TODO: Get the 200 letters surrounding this instance of crab\n",
    "\n"
   ]
  },
  {
   "cell_type": "code",
   "execution_count": null,
   "metadata": {},
   "outputs": [],
   "source": [
    "# Get the SECOND instance\n",
    "# to do that, we need to 'offset' the search by starting it 1 after where we found the first match\n",
    "\n",
    "index_crab2=rafaela.index('crab',index_crab+1)\n",
    "index_crab2"
   ]
  },
  {
   "cell_type": "code",
   "execution_count": null,
   "metadata": {},
   "outputs": [],
   "source": [
    "# @TODO: Get the 200 letters surrounding the *second* instance of crab\n",
    "\n"
   ]
  },
  {
   "cell_type": "code",
   "execution_count": null,
   "metadata": {},
   "outputs": [],
   "source": [
    "##\n",
    "# @TODO: Find the first and second instances of 'Windex' in bobby's paragraph\n",
    "#\n",
    "\n"
   ]
  },
  {
   "cell_type": "markdown",
   "metadata": {},
   "source": [
    "## Functions\n",
    "\n",
    "We've been repeating ourselves a lot. Let's write what we've written over as a 'function', a little algorithm or recipe which requires certain input and will deliver certain output.\n",
    "\n",
    "The basic format is:\n",
    "\n",
    "```python\n",
    "def function_name(input):\n",
    "    # do things...\n",
    "    return output\n",
    "```\n",
    "\n",
    "Note the **indentation**: throughout Python, indentaiton means \"inside of\" or \"in this context.\""
   ]
  },
  {
   "cell_type": "markdown",
   "metadata": {},
   "source": [
    "### Demo functions"
   ]
  },
  {
   "cell_type": "code",
   "execution_count": null,
   "metadata": {},
   "outputs": [],
   "source": [
    "def shout(string):\n",
    "    loud_string = string.upper() + '!!!'\n",
    "    print(loud_string)    # this will not print now, because it is 'inside' the function\n",
    "    \n",
    "print('hello?')           # this will print now, because it is 'outside' the function"
   ]
  },
  {
   "cell_type": "code",
   "execution_count": null,
   "metadata": {},
   "outputs": [],
   "source": [
    "shout(\"I'm listening!\")"
   ]
  },
  {
   "cell_type": "code",
   "execution_count": null,
   "metadata": {},
   "outputs": [],
   "source": [
    "def hours2weeks(num_hours):\n",
    "    #num_days= ?\n",
    "    #num_weeks = ?\n",
    "    return num_weeks"
   ]
  },
  {
   "cell_type": "code",
   "execution_count": null,
   "metadata": {},
   "outputs": [],
   "source": [
    "hours2weeks(10000)"
   ]
  },
  {
   "cell_type": "code",
   "execution_count": null,
   "metadata": {},
   "outputs": [],
   "source": [
    "def hours2workweeks(num_hours,num_working_hours=8,num_working_days=5):\n",
    "    #num_workdays = ?\n",
    "    #num_workweeks = ?\n",
    "    return num_workweeks"
   ]
  },
  {
   "cell_type": "code",
   "execution_count": null,
   "metadata": {},
   "outputs": [],
   "source": [
    "hours2workweeks(10000)"
   ]
  },
  {
   "cell_type": "markdown",
   "metadata": {},
   "source": [
    "### Functions using string slicing"
   ]
  },
  {
   "cell_type": "code",
   "execution_count": null,
   "metadata": {},
   "outputs": [],
   "source": [
    "def first_n_letters(string,n):\n",
    "    return '???'"
   ]
  },
  {
   "cell_type": "code",
   "execution_count": null,
   "metadata": {},
   "outputs": [],
   "source": [
    "first_n_letters(bardname,10)"
   ]
  },
  {
   "cell_type": "code",
   "execution_count": null,
   "metadata": {},
   "outputs": [],
   "source": [
    "##\n",
    "# @TODO: Write a function that returns your Star Wars name!\n",
    "#\n",
    "# First name: \n",
    "# First 3 letters of your last name\n",
    "# + First 2 letters of your first name\n",
    "#\n",
    "# Last name:\n",
    "# First 2 letters of your mother's maiden name\n",
    "# + First 3 letters of the town you were born in\n",
    "\n",
    "def star_wars_name_gen(first_name, last_name, maiden_name, town_name):\n",
    "    \n",
    "    star_wars_first_name = ''\n",
    "    \n",
    "    star_wars_last_name = ''\n",
    "    \n",
    "    return "
   ]
  },
  {
   "cell_type": "code",
   "execution_count": null,
   "metadata": {},
   "outputs": [],
   "source": [
    "##\n",
    "# @TODO: Execute the function\n",
    "#\n",
    "# star_wars_name_gen(...)\n",
    "\n"
   ]
  },
  {
   "cell_type": "markdown",
   "metadata": {},
   "source": [
    "### Functions using `str.count()`"
   ]
  },
  {
   "cell_type": "code",
   "execution_count": null,
   "metadata": {},
   "outputs": [],
   "source": [
    "# @TODO: Finish this function to count the number of sentences in `string`\n",
    "\n",
    "def get_num_sents(string):\n",
    "    #num_sents = ?\n",
    "    return num_sents"
   ]
  },
  {
   "cell_type": "code",
   "execution_count": null,
   "metadata": {},
   "outputs": [],
   "source": [
    "get_num_sents(rafaela)"
   ]
  },
  {
   "cell_type": "code",
   "execution_count": null,
   "metadata": {},
   "outputs": [],
   "source": [
    "get_num_sents(bobby)"
   ]
  },
  {
   "cell_type": "code",
   "execution_count": null,
   "metadata": {},
   "outputs": [],
   "source": [
    "# @TODO: Finish this function to count the number of words in `string`\n",
    "\n",
    "def get_num_words(string):\n",
    "    #num_words = ?\n",
    "    return num_words"
   ]
  },
  {
   "cell_type": "code",
   "execution_count": null,
   "metadata": {},
   "outputs": [],
   "source": [
    "get_num_words(rafaela)"
   ]
  },
  {
   "cell_type": "code",
   "execution_count": null,
   "metadata": {},
   "outputs": [],
   "source": [
    "get_num_words(bobby)"
   ]
  },
  {
   "cell_type": "code",
   "execution_count": null,
   "metadata": {},
   "outputs": [],
   "source": [
    "# @TODO: Finish this function to calculate the words per sentence in `string`\n",
    "\n",
    "def get_words_per_sent(string):\n",
    "    # ???\n",
    "    return wps"
   ]
  },
  {
   "cell_type": "code",
   "execution_count": null,
   "metadata": {},
   "outputs": [],
   "source": [
    "get_words_per_sent(rafaela)"
   ]
  },
  {
   "cell_type": "code",
   "execution_count": null,
   "metadata": {},
   "outputs": [],
   "source": [
    "get_words_per_sent(bobby)"
   ]
  },
  {
   "cell_type": "code",
   "execution_count": null,
   "metadata": {},
   "outputs": [],
   "source": [
    "##\n",
    "# @TODO: Write your own function counting something interesting about a text\n",
    "#\n",
    "# e.g. count the animals in a text? count the exclamation marks?\n",
    "# return as raw count or as a ratio of num words (or some other stat)\n",
    "#\n",
    "def my_interesting_calculation(string):\n",
    "    return output"
   ]
  },
  {
   "cell_type": "markdown",
   "metadata": {},
   "source": [
    "### Functions using `str.index()`"
   ]
  },
  {
   "cell_type": "code",
   "execution_count": null,
   "metadata": {},
   "outputs": [],
   "source": [
    "# let's abstract one last time!\n",
    "def kwic(string,substring,offset=0,radius=100):\n",
    "    ### ?\n",
    "    return index"
   ]
  },
  {
   "cell_type": "code",
   "execution_count": null,
   "metadata": {},
   "outputs": [],
   "source": [
    "kwic(bobby,'Windex')"
   ]
  },
  {
   "cell_type": "code",
   "execution_count": null,
   "metadata": {},
   "outputs": [],
   "source": [
    "kwic(bobby,'Windex',217)"
   ]
  },
  {
   "cell_type": "code",
   "execution_count": null,
   "metadata": {},
   "outputs": [],
   "source": [
    "index_first_match_r = kwic(rafaela,'scorpion',radius=50)"
   ]
  },
  {
   "cell_type": "code",
   "execution_count": null,
   "metadata": {},
   "outputs": [],
   "source": [
    "index_second_match_r = kwic(rafaela,'scorpion',index_first_match_r,radius=50)"
   ]
  },
  {
   "cell_type": "code",
   "execution_count": null,
   "metadata": {},
   "outputs": [],
   "source": [
    "## \n",
    "# @TODO: Find the third instance of 'dead' in Rafaela's first paragraph\n",
    "#\n",
    "#"
   ]
  },
  {
   "cell_type": "markdown",
   "metadata": {},
   "source": [
    "## Files\n",
    "\n",
    "We've been working a lot with strings. But where have these strings come from? So far they've just been manually entered, whether by me, you, or from a copy/paste of a text.\n",
    "\n",
    "Instead of manual entry, we can automatically fill a string with the contents of a text file."
   ]
  },
  {
   "cell_type": "markdown",
   "metadata": {},
   "source": [
    "### Files are just big strings"
   ]
  },
  {
   "cell_type": "markdown",
   "metadata": {},
   "source": [
    "To open a file, we use a specific syntax:\n",
    "\n",
    "```python\n",
    "with open('filename.txt') as file:\n",
    "    string = file.read()\n",
    "```\n",
    "\n",
    "This means: open filename.txt, and while it's open, read out its contents to a variable called `string` (then you can close the file, with the contents still saved in `string`). \n",
    "\n",
    "As an analogy, imagine this process:\n",
    "\n",
    "```python\n",
    "with open(the_refrigerator) as open_fridge:\n",
    "    filled_glass = open_fridge.pour_oj()\n",
    "```\n",
    "Unindented now, the fridge door is closed. But we still have our `filled_glass` of OJ..."
   ]
  },
  {
   "cell_type": "code",
   "execution_count": null,
   "metadata": {},
   "outputs": [],
   "source": [
    "# Let's open Rafaela's chapter (ch 1)\n",
    "with open('../corpora/tropic_of_orange/texts/ch01.txt') as file_r:\n",
    "    rafaela_chap1 = file_r.read()"
   ]
  },
  {
   "cell_type": "code",
   "execution_count": null,
   "metadata": {},
   "outputs": [],
   "source": [
    "# Print the first 2000 characters\n",
    "print(rafaela_chap1[:2000])"
   ]
  },
  {
   "cell_type": "code",
   "execution_count": null,
   "metadata": {},
   "outputs": [],
   "source": [
    "get_words_per_sent(rafaela)"
   ]
  },
  {
   "cell_type": "code",
   "execution_count": null,
   "metadata": {},
   "outputs": [],
   "source": [
    "get_words_per_sent(rafaela_chap1)"
   ]
  },
  {
   "cell_type": "code",
   "execution_count": null,
   "metadata": {},
   "outputs": [],
   "source": [
    "# Load Bobby's chapter\n",
    "with open('../corpora/tropic_of_orange/texts/ch02.txt') as file:\n",
    "    bobby_chap2 = file.read()"
   ]
  },
  {
   "cell_type": "code",
   "execution_count": null,
   "metadata": {},
   "outputs": [],
   "source": [
    "get_words_per_sent(bobby)"
   ]
  },
  {
   "cell_type": "code",
   "execution_count": null,
   "metadata": {},
   "outputs": [],
   "source": [
    "get_words_per_sent(bobby_chap2)"
   ]
  },
  {
   "cell_type": "code",
   "execution_count": null,
   "metadata": {},
   "outputs": [],
   "source": [
    "##\n",
    "# @TODO: Load Emi's chapter and print the words per sentence\n",
    "#\n"
   ]
  },
  {
   "cell_type": "code",
   "execution_count": null,
   "metadata": {},
   "outputs": [],
   "source": [
    "##\n",
    "# @TODO: Find the second instance of 'funghi' in Emi\n",
    "#\n"
   ]
  },
  {
   "cell_type": "markdown",
   "metadata": {},
   "source": [
    "### Reading your own files"
   ]
  },
  {
   "cell_type": "code",
   "execution_count": null,
   "metadata": {},
   "outputs": [],
   "source": [
    "##\n",
    "# @TODO: Load one of your texts into a string\n",
    "#\n"
   ]
  },
  {
   "cell_type": "code",
   "execution_count": null,
   "metadata": {},
   "outputs": [],
   "source": [
    "##\n",
    "# @TODO: Print its number of words per sentence\n",
    "#\n"
   ]
  },
  {
   "cell_type": "code",
   "execution_count": null,
   "metadata": {},
   "outputs": [],
   "source": [
    "##\n",
    "# @TODO: Print its number of commas per sentence\n",
    "#\n"
   ]
  },
  {
   "cell_type": "code",
   "execution_count": null,
   "metadata": {},
   "outputs": [],
   "source": [
    "##\n",
    "# @TODO: Perform your interesting_calculation (written above) on your text\n",
    "#\n"
   ]
  },
  {
   "cell_type": "code",
   "execution_count": null,
   "metadata": {},
   "outputs": [],
   "source": [
    "##\n",
    "# @TODO: Find a few instances of an interesting word to you in your text\n",
    "#\n",
    "\n"
   ]
  }
 ],
 "metadata": {
  "kernelspec": {
   "display_name": "Python 3",
   "language": "python",
   "name": "python3"
  },
  "language_info": {
   "codemirror_mode": {
    "name": "ipython",
    "version": 3
   },
   "file_extension": ".py",
   "mimetype": "text/x-python",
   "name": "python",
   "nbconvert_exporter": "python",
   "pygments_lexer": "ipython3",
   "version": "3.7.1"
  }
 },
 "nbformat": 4,
 "nbformat_minor": 2
}
