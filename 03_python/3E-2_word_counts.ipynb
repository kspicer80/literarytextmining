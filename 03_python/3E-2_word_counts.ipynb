{
 "cells": [
  {
   "cell_type": "markdown",
   "metadata": {},
   "source": [
    "# (3E-2) Word Counts\n",
    "\n",
    "In this notebook, we'll learn:\n",
    "\n",
    "* How to loop over lists\n",
    "* How to count words (list of words -> word counts as dictionary)\n",
    "\n",
    "We'll apply what we learned in the previous two notebooks about lists and dictionaries. Specifically, we're going to learn how to transform lists of words into dictionaries of word counts."
   ]
  },
  {
   "cell_type": "markdown",
   "metadata": {},
   "source": [
    "## Looping over lists\n",
    "\n",
    "How do we count the words in a list? We need to be able to **\"loop\"** over each one individually. To do that, we use a for loop. Here's the syntax:\n",
    "\n",
    "```python\n",
    "for thing in list_of_things:\n",
    "    print(thing)   # or do something else with thing\n",
    "```\n",
    "\n",
    "You can read this in human terms as: **For each** thing in this list of things, print the thing.\n",
    "\n",
    "Let's try it out."
   ]
  },
  {
   "cell_type": "code",
   "execution_count": null,
   "metadata": {},
   "outputs": [],
   "source": [
    "# First, here's a list of words to get us started\n",
    "marx = ['all', 'that', 'is', 'solid', 'melts', 'into', 'air', ',', \n",
    "        'all', 'that', 'is', 'holy', 'is', 'profaned', ',', \n",
    "        'and', 'man', 'is', 'at', 'last', 'compelled', 'to', 'face', 'with', 'sober', 'senses',\n",
    "        'his', 'real', 'conditions', 'of', 'life', ',', \n",
    "        'and', 'his', 'relations', 'with', 'his', 'kind', '.']\n",
    "\n",
    "print(marx)"
   ]
  },
  {
   "cell_type": "code",
   "execution_count": null,
   "metadata": {},
   "outputs": [],
   "source": [
    "# Ok, now let's loop!\n",
    "\n",
    "for word in marx:\n",
    "    print(word)"
   ]
  },
  {
   "cell_type": "code",
   "execution_count": null,
   "metadata": {},
   "outputs": [],
   "source": [
    "# @TODO: Loop over each word in the Marx passage, but print the word only if it is longer than two letters\n",
    "#\n",
    "\n"
   ]
  },
  {
   "cell_type": "code",
   "execution_count": null,
   "metadata": {},
   "outputs": [],
   "source": [
    "# @TODO: Loop over each word in the Marx passage, but print the word only if the first letter is alphabetic\n",
    "# hint: use the .isalpha() method of strings, which returns True if the string is not alphabetic (otherwise False)\n",
    "#\n",
    "\n"
   ]
  },
  {
   "cell_type": "markdown",
   "metadata": {},
   "source": [
    "### Advanced loops"
   ]
  },
  {
   "cell_type": "markdown",
   "metadata": {},
   "source": [
    "#### How do we remember how far into the list we've looped?\n",
    "\n",
    "Use the `enumerate()` wrapper around any list, and then iterate like this:"
   ]
  },
  {
   "cell_type": "code",
   "execution_count": null,
   "metadata": {},
   "outputs": [],
   "source": [
    "for index,word in enumerate(marx):   # 'index' is the index in the list marx at which 'word' is located\n",
    "    print(index, word, marx[index])    "
   ]
  },
  {
   "cell_type": "markdown",
   "metadata": {},
   "source": [
    "#### Going backwards\n",
    "\n",
    "Just wrap the list in `reversed()`."
   ]
  },
  {
   "cell_type": "code",
   "execution_count": null,
   "metadata": {},
   "outputs": [],
   "source": [
    "for word in reversed(marx):\n",
    "    print(word,end=' ')     # print without adding a newline afterward; instead add a ' '"
   ]
  },
  {
   "cell_type": "markdown",
   "metadata": {},
   "source": [
    "#### How to stop a loop short\n",
    "\n",
    "Use `break`."
   ]
  },
  {
   "cell_type": "code",
   "execution_count": null,
   "metadata": {},
   "outputs": [],
   "source": [
    "for index,word in enumerate(marx):\n",
    "    if index>=10:\n",
    "        break      # stop the loop!\n",
    "    \n",
    "    print(index,word)"
   ]
  },
  {
   "cell_type": "markdown",
   "metadata": {},
   "source": [
    "#### How to skip to the next iteration of the loop\n",
    "\n",
    "Use `continue`."
   ]
  },
  {
   "cell_type": "code",
   "execution_count": null,
   "metadata": {},
   "outputs": [],
   "source": [
    "for word in marx:\n",
    "    if len(word)<3:\n",
    "        continue          # skip right to the next iteration in the loop, don't even keep reading below\n",
    "    \n",
    "    print(word,end=' ')   # this won't run if we've already hit continue"
   ]
  },
  {
   "cell_type": "markdown",
   "metadata": {},
   "source": [
    "## Loop-counting words in list\n",
    "\n",
    "How do we count the words in a list? Let's:\n",
    "\n",
    "1. Create an empty dictionary of word counts\n",
    "2. Loop over each word in the text\n",
    "3. For each word, add 1 to its entry in the dictionary of word counts\n"
   ]
  },
  {
   "cell_type": "code",
   "execution_count": null,
   "metadata": {},
   "outputs": [],
   "source": [
    "# 1. Create an empty dictionary of word counts\n",
    "wordcounts={}\n",
    "\n",
    "# 2. Loop over each word in the text\n",
    "for word in marx:\n",
    "    \n",
    "    # 3. For each word, add 1 to its entry in the dictionary of word counts\n",
    "    wordcounts[word]+=1\n"
   ]
  },
  {
   "cell_type": "code",
   "execution_count": null,
   "metadata": {},
   "outputs": [],
   "source": [
    "wordcounts"
   ]
  },
  {
   "cell_type": "code",
   "execution_count": 77,
   "metadata": {},
   "outputs": [],
   "source": [
    "# @TODO: Write a function to produce a dictionary of counts from any list\n",
    "def count(tokens):\n",
    "    pass  # replace this line and write the function"
   ]
  },
  {
   "cell_type": "code",
   "execution_count": null,
   "metadata": {},
   "outputs": [],
   "source": [
    "# @TODO: Write a function to produce a dictionary of counts from any list\n",
    "def count(tokens):\n",
    "    pass  # replace this line and write the function"
   ]
  },
  {
   "cell_type": "markdown",
   "metadata": {},
   "source": [
    "## Text to Count Pipeline\n",
    "\n",
    "First, let's recapitulate some steps we already know:\n",
    "\n",
    "### 1. Open a text"
   ]
  },
  {
   "cell_type": "code",
   "execution_count": null,
   "metadata": {},
   "outputs": [],
   "source": [
    "with open('../corpora/tropic_of_orange/texts/ch05.txt') as file:\n",
    "    manzanar_txt = file.read()"
   ]
  },
  {
   "cell_type": "code",
   "execution_count": null,
   "metadata": {},
   "outputs": [],
   "source": [
    "## Print the first 1000 characters\n",
    "print(manzanar_txt[:1000])"
   ]
  },
  {
   "cell_type": "markdown",
   "metadata": {},
   "source": [
    "### 2. Tokenize the text"
   ]
  },
  {
   "cell_type": "code",
   "execution_count": null,
   "metadata": {},
   "outputs": [],
   "source": [
    "# let's use NLTK's tokenizer\n",
    "import nltk"
   ]
  },
  {
   "cell_type": "code",
   "execution_count": null,
   "metadata": {},
   "outputs": [],
   "source": [
    "# Let's tokenize a lowercase version of manzanar\n",
    "manzanar_txt_lowercase = manzanar_txt.lower()"
   ]
  },
  {
   "cell_type": "code",
   "execution_count": null,
   "metadata": {},
   "outputs": [],
   "source": [
    "# Let's pass the lower case version to NLTK's tokenizer\n",
    "manzanar_tokens = nltk.word_tokenize(manzanar_txt_lowercase)"
   ]
  },
  {
   "cell_type": "code",
   "execution_count": null,
   "metadata": {},
   "outputs": [],
   "source": [
    "# Print the first 100 tokens\n",
    "print(manzanar_tokens[:100])"
   ]
  },
  {
   "cell_type": "markdown",
   "metadata": {},
   "source": [
    "### 3. [New] Count the tokens!"
   ]
  },
  {
   "cell_type": "code",
   "execution_count": null,
   "metadata": {},
   "outputs": [],
   "source": [
    "# @TODO: Count the tokens in manzanar\n",
    "#\n"
   ]
  },
  {
   "cell_type": "markdown",
   "metadata": {},
   "source": [
    "### 4. Normalizing counts"
   ]
  },
  {
   "cell_type": "code",
   "execution_count": null,
   "metadata": {},
   "outputs": [],
   "source": []
  }
 ],
 "metadata": {
  "kernelspec": {
   "display_name": "Python 3",
   "language": "python",
   "name": "python3"
  },
  "language_info": {
   "codemirror_mode": {
    "name": "ipython",
    "version": 3
   },
   "file_extension": ".py",
   "mimetype": "text/x-python",
   "name": "python",
   "nbconvert_exporter": "python",
   "pygments_lexer": "ipython3",
   "version": "3.7.1"
  }
 },
 "nbformat": 4,
 "nbformat_minor": 2
}
