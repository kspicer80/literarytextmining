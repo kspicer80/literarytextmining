{
 "cells": [
  {
   "cell_type": "markdown",
   "metadata": {},
   "source": [
    "# (3E-2) Word Counts\n",
    "\n",
    "In this notebook, we'll learn:\n",
    "\n",
    "* How to loop over lists\n",
    "* How to count words (list of words -> word counts as dictionary)\n",
    "\n",
    "We'll apply what we learned in the previous two notebooks about lists and dictionaries. Specifically, we're going to learn how to transform lists of words into dictionaries of word counts."
   ]
  },
  {
   "cell_type": "markdown",
   "metadata": {},
   "source": [
    "## Looping over lists\n",
    "\n",
    "How do we count the words in a list? We need to be able to **\"loop\"** over each one individually. To do that, we use a for loop. Here's the syntax:\n",
    "\n",
    "```python\n",
    "for thing in list_of_things:\n",
    "    print(thing)   # or do something else with thing\n",
    "```\n",
    "\n",
    "You can read this in human terms as: **For each** thing in this list of things, print the thing.\n",
    "\n",
    "Let's try it out."
   ]
  },
  {
   "cell_type": "code",
   "execution_count": 1,
   "metadata": {},
   "outputs": [
    {
     "name": "stdout",
     "output_type": "stream",
     "text": [
      "['all', 'that', 'is', 'solid', 'melts', 'into', 'air', ',', 'all', 'that', 'is', 'holy', 'is', 'profaned', ',', 'and', 'man', 'is', 'at', 'last', 'compelled', 'to', 'face', 'with', 'sober', 'senses', 'his', 'real', 'conditions', 'of', 'life', ',', 'and', 'his', 'relations', 'with', 'his', 'kind', '.']\n"
     ]
    }
   ],
   "source": [
    "# First, here's a list of words to get us started\n",
    "marx = ['all', 'that', 'is', 'solid', 'melts', 'into', 'air', ',', \n",
    "        'all', 'that', 'is', 'holy', 'is', 'profaned', ',', \n",
    "        'and', 'man', 'is', 'at', 'last', 'compelled', 'to', 'face', 'with', 'sober', 'senses',\n",
    "        'his', 'real', 'conditions', 'of', 'life', ',', \n",
    "        'and', 'his', 'relations', 'with', 'his', 'kind', '.']\n",
    "\n",
    "print(marx)"
   ]
  },
  {
   "cell_type": "code",
   "execution_count": 2,
   "metadata": {},
   "outputs": [
    {
     "name": "stdout",
     "output_type": "stream",
     "text": [
      "all\n",
      "that\n",
      "is\n",
      "solid\n",
      "melts\n",
      "into\n",
      "air\n",
      ",\n",
      "all\n",
      "that\n",
      "is\n",
      "holy\n",
      "is\n",
      "profaned\n",
      ",\n",
      "and\n",
      "man\n",
      "is\n",
      "at\n",
      "last\n",
      "compelled\n",
      "to\n",
      "face\n",
      "with\n",
      "sober\n",
      "senses\n",
      "his\n",
      "real\n",
      "conditions\n",
      "of\n",
      "life\n",
      ",\n",
      "and\n",
      "his\n",
      "relations\n",
      "with\n",
      "his\n",
      "kind\n",
      ".\n"
     ]
    }
   ],
   "source": [
    "# Ok, now let's loop!\n",
    "for word in marx:\n",
    "    print(word)"
   ]
  },
  {
   "cell_type": "code",
   "execution_count": 4,
   "metadata": {},
   "outputs": [
    {
     "name": "stdout",
     "output_type": "stream",
     "text": [
      "all\n",
      "that\n",
      "solid\n",
      "melts\n",
      "into\n",
      "air\n",
      "all\n",
      "that\n",
      "holy\n",
      "profaned\n",
      "and\n",
      "man\n",
      "last\n",
      "compelled\n",
      "face\n",
      "with\n",
      "sober\n",
      "senses\n",
      "his\n",
      "real\n",
      "conditions\n",
      "life\n",
      "and\n",
      "his\n",
      "relations\n",
      "with\n",
      "his\n",
      "kind\n"
     ]
    }
   ],
   "source": [
    "# @TODO: Loop over each word in the Marx passage, but print the word only if it is longer than two letters\n",
    "#\n",
    "\n",
    "for word in marx:\n",
    "    if len(word) > 2:\n",
    "        print(word)\n"
   ]
  },
  {
   "cell_type": "code",
   "execution_count": 14,
   "metadata": {},
   "outputs": [
    {
     "name": "stdout",
     "output_type": "stream",
     "text": [
      "['all', 'that', 'is', 'solid', 'melts', 'into', 'air', 'all', 'that', 'is', 'holy', 'is', 'profaned', 'and', 'man', 'is', 'at', 'last', 'compelled', 'to', 'face', 'with', 'sober', 'senses', 'his', 'real', 'conditions', 'of', 'life', 'and', 'his', 'relations', 'with', 'his', 'kind']\n"
     ]
    }
   ],
   "source": [
    "# @TODO: Loop over each word in the Marx passage, but print the word only if the first letter is alphabetic\n",
    "# hint: use the .isalpha() method of strings, which returns True if the string is not alphabetic (otherwise False)\n",
    "#\n",
    "\n",
    "#word[0].isalpha() # is the first letter alphabetic? \n",
    "\n",
    "marx_nopunct = []\n",
    "\n",
    "for word in marx:\n",
    "    if word[0].isalpha():\n",
    "        #print(word)\n",
    "        marx_nopunct.append(word)\n",
    "\n",
    "print(marx_nopunct)"
   ]
  },
  {
   "cell_type": "markdown",
   "metadata": {},
   "source": [
    "### Advanced loops"
   ]
  },
  {
   "cell_type": "markdown",
   "metadata": {},
   "source": [
    "#### How do we remember how far into the list we've looped?\n",
    "\n",
    "Use the `enumerate()` wrapper around any list, and then iterate like this:"
   ]
  },
  {
   "cell_type": "code",
   "execution_count": 15,
   "metadata": {},
   "outputs": [
    {
     "name": "stdout",
     "output_type": "stream",
     "text": [
      "0 all all\n",
      "1 that that\n",
      "2 is is\n",
      "3 solid solid\n",
      "4 melts melts\n",
      "5 into into\n",
      "6 air air\n",
      "7 , ,\n",
      "8 all all\n",
      "9 that that\n",
      "10 is is\n",
      "11 holy holy\n",
      "12 is is\n",
      "13 profaned profaned\n",
      "14 , ,\n",
      "15 and and\n",
      "16 man man\n",
      "17 is is\n",
      "18 at at\n",
      "19 last last\n",
      "20 compelled compelled\n",
      "21 to to\n",
      "22 face face\n",
      "23 with with\n",
      "24 sober sober\n",
      "25 senses senses\n",
      "26 his his\n",
      "27 real real\n",
      "28 conditions conditions\n",
      "29 of of\n",
      "30 life life\n",
      "31 , ,\n",
      "32 and and\n",
      "33 his his\n",
      "34 relations relations\n",
      "35 with with\n",
      "36 his his\n",
      "37 kind kind\n",
      "38 . .\n"
     ]
    }
   ],
   "source": [
    "for index,word in enumerate(marx):   # 'index' is the index in the list marx at which 'word' is located\n",
    "    print(index, word, marx[index])    "
   ]
  },
  {
   "cell_type": "markdown",
   "metadata": {},
   "source": [
    "#### Going backwards\n",
    "\n",
    "Just wrap the list in `reversed()`."
   ]
  },
  {
   "cell_type": "code",
   "execution_count": 16,
   "metadata": {},
   "outputs": [
    {
     "name": "stdout",
     "output_type": "stream",
     "text": [
      ". kind his with relations his and , life of conditions real his senses sober with face to compelled last at is man and , profaned is holy is that all , air into melts solid is that all "
     ]
    }
   ],
   "source": [
    "for word in reversed(marx):\n",
    "    print(word,end=' ')     # print without adding a newline afterward; instead add a ' '"
   ]
  },
  {
   "cell_type": "markdown",
   "metadata": {},
   "source": [
    "#### How to stop a loop short\n",
    "\n",
    "Use `break`."
   ]
  },
  {
   "cell_type": "code",
   "execution_count": 17,
   "metadata": {},
   "outputs": [
    {
     "name": "stdout",
     "output_type": "stream",
     "text": [
      "0 all\n",
      "1 that\n",
      "2 is\n",
      "3 solid\n",
      "4 melts\n",
      "5 into\n",
      "6 air\n",
      "7 ,\n",
      "8 all\n",
      "9 that\n"
     ]
    }
   ],
   "source": [
    "for index,word in enumerate(marx):\n",
    "    if index>=10:\n",
    "        break      # stop the loop!\n",
    "    \n",
    "    print(index,word)"
   ]
  },
  {
   "cell_type": "markdown",
   "metadata": {},
   "source": [
    "#### How to skip to the next iteration of the loop\n",
    "\n",
    "Use `continue`."
   ]
  },
  {
   "cell_type": "code",
   "execution_count": 18,
   "metadata": {},
   "outputs": [
    {
     "name": "stdout",
     "output_type": "stream",
     "text": [
      "all that solid melts into air all that holy profaned and man last compelled face with sober senses his real conditions life and his relations with his kind "
     ]
    }
   ],
   "source": [
    "for word in marx:\n",
    "    if len(word)<3:\n",
    "        continue          # skip right to the next iteration in the loop, don't even keep reading below\n",
    "    \n",
    "    print(word,end=' ')   # this won't run if we've already hit continue"
   ]
  },
  {
   "cell_type": "markdown",
   "metadata": {},
   "source": [
    "## Loop-counting words in list\n",
    "\n",
    "How do we count the words in a list? Let's:\n",
    "\n",
    "1. Create an empty dictionary of word counts\n",
    "2. Loop over each word in the text\n",
    "3. For each word, add 1 to its entry in the dictionary of word counts\n"
   ]
  },
  {
   "cell_type": "code",
   "execution_count": 41,
   "metadata": {},
   "outputs": [
    {
     "name": "stdout",
     "output_type": "stream",
     "text": [
      "word in loop is now all\n",
      "word not in wordcounts, setting to 1\n",
      "word in loop is now that\n",
      "word not in wordcounts, setting to 1\n",
      "word in loop is now is\n",
      "word not in wordcounts, setting to 1\n",
      "word in loop is now solid\n",
      "word not in wordcounts, setting to 1\n",
      "word in loop is now melts\n",
      "word not in wordcounts, setting to 1\n",
      "word in loop is now into\n",
      "word not in wordcounts, setting to 1\n",
      "word in loop is now air\n",
      "word not in wordcounts, setting to 1\n",
      "word in loop is now ,\n",
      "word not in wordcounts, setting to 1\n",
      "word in loop is now all\n",
      "word in wordcounts already, adding 1 to it\n",
      "word in loop is now that\n",
      "word in wordcounts already, adding 1 to it\n",
      "word in loop is now is\n",
      "word in wordcounts already, adding 1 to it\n",
      "word in loop is now holy\n",
      "word not in wordcounts, setting to 1\n",
      "word in loop is now is\n",
      "word in wordcounts already, adding 1 to it\n",
      "word in loop is now profaned\n",
      "word not in wordcounts, setting to 1\n",
      "word in loop is now ,\n",
      "word in wordcounts already, adding 1 to it\n",
      "word in loop is now and\n",
      "word not in wordcounts, setting to 1\n",
      "word in loop is now man\n",
      "word not in wordcounts, setting to 1\n",
      "word in loop is now is\n",
      "word in wordcounts already, adding 1 to it\n",
      "word in loop is now at\n",
      "word not in wordcounts, setting to 1\n",
      "word in loop is now last\n",
      "word not in wordcounts, setting to 1\n",
      "word in loop is now compelled\n",
      "word not in wordcounts, setting to 1\n",
      "word in loop is now to\n",
      "word not in wordcounts, setting to 1\n",
      "word in loop is now face\n",
      "word not in wordcounts, setting to 1\n",
      "word in loop is now with\n",
      "word not in wordcounts, setting to 1\n",
      "word in loop is now sober\n",
      "word not in wordcounts, setting to 1\n",
      "word in loop is now senses\n",
      "word not in wordcounts, setting to 1\n",
      "word in loop is now his\n",
      "word not in wordcounts, setting to 1\n",
      "word in loop is now real\n",
      "word not in wordcounts, setting to 1\n",
      "word in loop is now conditions\n",
      "word not in wordcounts, setting to 1\n",
      "word in loop is now of\n",
      "word not in wordcounts, setting to 1\n",
      "word in loop is now life\n",
      "word not in wordcounts, setting to 1\n",
      "word in loop is now ,\n",
      "word in wordcounts already, adding 1 to it\n",
      "word in loop is now and\n",
      "word in wordcounts already, adding 1 to it\n",
      "word in loop is now his\n",
      "word in wordcounts already, adding 1 to it\n",
      "word in loop is now relations\n",
      "word not in wordcounts, setting to 1\n",
      "word in loop is now with\n",
      "word in wordcounts already, adding 1 to it\n",
      "word in loop is now his\n",
      "word in wordcounts already, adding 1 to it\n",
      "word in loop is now kind\n",
      "word not in wordcounts, setting to 1\n",
      "word in loop is now .\n",
      "word not in wordcounts, setting to 1\n"
     ]
    },
    {
     "data": {
      "text/plain": [
       "{'all': 2,\n",
       " 'that': 2,\n",
       " 'is': 4,\n",
       " 'solid': 1,\n",
       " 'melts': 1,\n",
       " 'into': 1,\n",
       " 'air': 1,\n",
       " ',': 3,\n",
       " 'holy': 1,\n",
       " 'profaned': 1,\n",
       " 'and': 2,\n",
       " 'man': 1,\n",
       " 'at': 1,\n",
       " 'last': 1,\n",
       " 'compelled': 1,\n",
       " 'to': 1,\n",
       " 'face': 1,\n",
       " 'with': 2,\n",
       " 'sober': 1,\n",
       " 'senses': 1,\n",
       " 'his': 3,\n",
       " 'real': 1,\n",
       " 'conditions': 1,\n",
       " 'of': 1,\n",
       " 'life': 1,\n",
       " 'relations': 1,\n",
       " 'kind': 1,\n",
       " '.': 1}"
      ]
     },
     "execution_count": 41,
     "metadata": {},
     "output_type": "execute_result"
    }
   ],
   "source": [
    "# 1. Create an empty dictionary of word counts\n",
    "wordcounts={}\n",
    "\n",
    "# 2. Loop over each word in the text\n",
    "for word in marx:\n",
    "    print('word in loop is now',word)\n",
    "    \n",
    "    # 3. For each word, add 1 to its entry in the dictionary of word counts\n",
    "    if word not in wordcounts:\n",
    "        print('word not in wordcounts, setting to 1')\n",
    "        wordcounts[word]  = 1\n",
    "    else:\n",
    "        print('word in wordcounts already, adding 1 to it')\n",
    "        wordcounts[word] += 1\n",
    "\n",
    "        \n",
    "wordcounts"
   ]
  },
  {
   "cell_type": "code",
   "execution_count": 31,
   "metadata": {},
   "outputs": [],
   "source": [
    "wordcounts['Ryan'] = 1"
   ]
  },
  {
   "cell_type": "code",
   "execution_count": 40,
   "metadata": {},
   "outputs": [
    {
     "data": {
      "text/plain": [
       "7"
      ]
     },
     "execution_count": 40,
     "metadata": {},
     "output_type": "execute_result"
    }
   ],
   "source": [
    "wordcounts['Ryan']"
   ]
  },
  {
   "cell_type": "code",
   "execution_count": 39,
   "metadata": {},
   "outputs": [],
   "source": [
    "wordcounts['Ryan'] += 1"
   ]
  },
  {
   "cell_type": "code",
   "execution_count": 38,
   "metadata": {},
   "outputs": [
    {
     "data": {
      "text/plain": [
       "{'all': 2,\n",
       " 'that': 2,\n",
       " 'is': 4,\n",
       " 'solid': 1,\n",
       " 'melts': 1,\n",
       " 'into': 1,\n",
       " 'air': 1,\n",
       " ',': 3,\n",
       " 'holy': 1,\n",
       " 'profaned': 1,\n",
       " 'and': 2,\n",
       " 'man': 1,\n",
       " 'at': 1,\n",
       " 'last': 1,\n",
       " 'compelled': 1,\n",
       " 'to': 1,\n",
       " 'face': 1,\n",
       " 'with': 2,\n",
       " 'sober': 1,\n",
       " 'senses': 1,\n",
       " 'his': 3,\n",
       " 'real': 1,\n",
       " 'conditions': 1,\n",
       " 'of': 1,\n",
       " 'life': 1,\n",
       " 'relations': 1,\n",
       " 'kind': 1,\n",
       " '.': 1,\n",
       " 'Ryan': 6}"
      ]
     },
     "execution_count": 38,
     "metadata": {},
     "output_type": "execute_result"
    }
   ],
   "source": [
    "wordcounts"
   ]
  },
  {
   "cell_type": "code",
   "execution_count": 46,
   "metadata": {},
   "outputs": [],
   "source": [
    "# @TODO: Write a function to produce a dictionary of counts from any list\n",
    "def count(tokens):\n",
    "    # create an empty dictionary\n",
    "    wordcounts = {}\n",
    "    \n",
    "    # for each word in the list of tokens...\n",
    "    for word in tokens:\n",
    "        \n",
    "        # if the word is in the dictionary of counts\n",
    "        if word in wordcounts:\n",
    "            \n",
    "            # add 1 to it\n",
    "            wordcounts[word] += 1\n",
    "\n",
    "        # otherwise\n",
    "        else:\n",
    "            \n",
    "            # set it to 1\n",
    "            wordcounts[word] = 1\n",
    "            \n",
    "    # return the dictionary of counts\n",
    "    return wordcounts"
   ]
  },
  {
   "cell_type": "code",
   "execution_count": null,
   "metadata": {},
   "outputs": [],
   "source": [
    "with open('../corpora/tropic_of_orange/texts/ch01.txt') as file:\n",
    "    txt = file.read()\n",
    "\n",
    "import nltk\n",
    "tokens = nltk.word_tokenize(txt.lower())\n",
    "\n",
    "count(tokens)"
   ]
  },
  {
   "cell_type": "code",
   "execution_count": 55,
   "metadata": {},
   "outputs": [],
   "source": [
    "# @TODO: Write a function to produce a dictionary of counts from any list\n",
    "# WITH RELATIVE COUNTS\n",
    "\n",
    "\n",
    "def tf(tokens):\n",
    "    # create an empty dictionary\n",
    "    wordcounts = {}\n",
    "    \n",
    "    # get the number of words by the length of the incoming list of words\n",
    "    num_words = len(tokens)\n",
    "    \n",
    "    # for each word in this list of words...\n",
    "    for word in tokens:\n",
    "        \n",
    "        # if the word is already in the wordcounts dictionary...\n",
    "        if word in wordcounts:\n",
    "            # add 1 to it\n",
    "            wordcounts[word] += 1\n",
    "\n",
    "        # otherwise...\n",
    "        else:\n",
    "            # initialize it to 1\n",
    "            wordcounts[word] = 1\n",
    "            \n",
    "    # for each word in the dictionary wordcounts\n",
    "    for word in wordcounts:\n",
    "        \n",
    "        # set the word to itself\n",
    "        wordcounts[word] = wordcounts[word] / num_words\n",
    "    \n",
    "    # return the dictionary of word counts\n",
    "    return wordcounts"
   ]
  },
  {
   "cell_type": "code",
   "execution_count": null,
   "metadata": {},
   "outputs": [],
   "source": [
    "tf(tokens)"
   ]
  },
  {
   "cell_type": "markdown",
   "metadata": {},
   "source": [
    "## Text to Count Pipeline\n",
    "\n",
    "First, let's recapitulate some steps we already know:\n",
    "\n",
    "### 1. Open a text"
   ]
  },
  {
   "cell_type": "code",
   "execution_count": 61,
   "metadata": {},
   "outputs": [],
   "source": [
    "# @TODO: Write this function\n",
    "#\n",
    "\n",
    "def file2string(filename):\n",
    "    \"\"\"\n",
    "    This function takes a filename,\n",
    "    opens the file,\n",
    "    and returns a string corresponding to the file's contents.\n",
    "    \"\"\"\n",
    "    \n",
    "    with open(filename) as file:\n",
    "        string_contents = file.read()\n",
    "    \n",
    "    string_contents = string_contents.strip()\n",
    "    \n",
    "    return string_contents"
   ]
  },
  {
   "cell_type": "code",
   "execution_count": 63,
   "metadata": {},
   "outputs": [],
   "source": [
    "# @TODO: Use your function on either one of your texts or one of Yamashita's\n",
    "#\n",
    "\n",
    "cool_txt = file2string('../corpora/my_corpus/texts/ryans_diss_chap3.txt')\n",
    "\n",
    "#cool_txt"
   ]
  },
  {
   "cell_type": "markdown",
   "metadata": {},
   "source": [
    "### 2. Tokenize the text"
   ]
  },
  {
   "cell_type": "code",
   "execution_count": 64,
   "metadata": {},
   "outputs": [],
   "source": [
    "# @TODO: Write this function\n",
    "#\n",
    "\n",
    "def tokenize(string):\n",
    "    \"\"\"\n",
    "    This function takes in a string,\n",
    "    lower-cases it,\n",
    "    and returns a list of words using NLTK's tokenizer.\n",
    "    \"\"\"\n",
    "\n",
    "    string_lower = string.lower()\n",
    "    \n",
    "    import nltk\n",
    "    return nltk.word_tokenize(string_lower)"
   ]
  },
  {
   "cell_type": "code",
   "execution_count": 65,
   "metadata": {},
   "outputs": [
    {
     "data": {
      "text/plain": [
       "['ryan',\n",
       " 'heuser',\n",
       " 'abstraction',\n",
       " ':',\n",
       " 'a',\n",
       " 'literary',\n",
       " 'history',\n",
       " 'chapter',\n",
       " '3',\n",
       " ':']"
      ]
     },
     "execution_count": 65,
     "metadata": {},
     "output_type": "execute_result"
    }
   ],
   "source": [
    "# @TODO: Use your function to tokenize the text you opened above\n",
    "#\n",
    "\n",
    "cool_tokens = tokenize(cool_txt)\n",
    "\n",
    "cool_tokens[:10]"
   ]
  },
  {
   "cell_type": "markdown",
   "metadata": {},
   "source": [
    "### 3. [New] Count the tokens!"
   ]
  },
  {
   "cell_type": "code",
   "execution_count": 68,
   "metadata": {},
   "outputs": [],
   "source": [
    "# @TODO: Use the function developed above to count the tokens in your text\n",
    "#\n",
    "\n",
    "cool_counts = count(cool_tokens)\n",
    "\n",
    "#cool_counts"
   ]
  },
  {
   "cell_type": "markdown",
   "metadata": {},
   "source": [
    "### 4. Repeat steps 1-3 for another text"
   ]
  },
  {
   "cell_type": "code",
   "execution_count": 73,
   "metadata": {},
   "outputs": [
    {
     "data": {
      "text/plain": [
       "(41, 29)"
      ]
     },
     "execution_count": 73,
     "metadata": {},
     "output_type": "execute_result"
    }
   ],
   "source": [
    "# @TODO: Repeat steps 1-3 for another text\n",
    "#\n",
    "\n",
    "rafaela_str = file2string('../corpora/tropic_of_orange/texts/ch01.txt')\n",
    "rafaela_tokens = tokenize(rafaela_str)\n",
    "rafaela_counts = count(rafaela_tokens)\n",
    "\n",
    "bobby_str = file2string('../corpora/tropic_of_orange/texts/ch02.txt')\n",
    "bobby_tokens = tokenize(bobby_str)\n",
    "bobby_counts = count(bobby_tokens)\n",
    "\n",
    "rafaela_counts['he'], bobby_counts['he']"
   ]
  },
  {
   "cell_type": "markdown",
   "metadata": {},
   "source": [
    "### 5. Compare word counts"
   ]
  },
  {
   "cell_type": "code",
   "execution_count": null,
   "metadata": {},
   "outputs": [],
   "source": [
    "# @TODO: Loop over a list of words that are interesting to you,\n",
    "# and print their relative counts in both your texts\n",
    "#\n",
    "\n",
    "interesting_words = ['orange','tropic','tree','border','watch','rain']"
   ]
  }
 ],
 "metadata": {
  "kernelspec": {
   "display_name": "Python 3",
   "language": "python",
   "name": "python3"
  },
  "language_info": {
   "codemirror_mode": {
    "name": "ipython",
    "version": 3
   },
   "file_extension": ".py",
   "mimetype": "text/x-python",
   "name": "python",
   "nbconvert_exporter": "python",
   "pygments_lexer": "ipython3",
   "version": "3.7.1"
  }
 },
 "nbformat": 4,
 "nbformat_minor": 2
}
