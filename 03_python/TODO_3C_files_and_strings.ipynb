{
 "cells": [
  {
   "cell_type": "markdown",
   "metadata": {},
   "source": [
    "# (3C) Files and strings [PRACTICUM #1] (due Monday 4/15 11:59pm)\n",
    "\n",
    "This is the practicum assignment for the work we've done in [3B_baby_python.ipynb](3B_baby_python.ipynb) and [3C_Files_and_strings.ipynb](3C_files_and_strings.ipynb). *All* of the tools you need to answer the questions in this practicum assignment are clearly described and explained in those notebooks. As of Friday April 12, we've made it through the `.count()` method of strings. This practicum assignment will stop there.\n",
    "\n",
    "*This notebook began as an adaption of [these exercises by Jerry Pusinen](https://nbviewer.jupyter.org/github/jerry-git/learn-python3/blob/master/notebooks/beginner/exercises/strings_exercise.ipynb).*\n",
    "\n",
    "## Instructions\n",
    "\n",
    "* Download this notebook, either through `git pull` in your `~/literarytextmining` folder; or by downloading it from Canvas or github.\n",
    "\n",
    "* Save the notebook somewhere you can find it in Jupyter Lab, ideally in `~/literarytextmining/workspace`.\n",
    "\n",
    "* Work through this notebook, writing code in the cells marked by '@TODO' to respond to the prompt.\n",
    "\n",
    "* Save the notebook.\n",
    "\n",
    "* Attach the notebook to the assignment on Canvas."
   ]
  },
  {
   "cell_type": "markdown",
   "metadata": {},
   "source": [
    "## Baby Python"
   ]
  },
  {
   "cell_type": "code",
   "execution_count": 15,
   "metadata": {},
   "outputs": [],
   "source": [
    "# How do we print 'hello world'?\n",
    "# @TODO: Please type it out below this comment, then hit Shift+Enter to execute the cell.\n",
    "\n"
   ]
  },
  {
   "cell_type": "code",
   "execution_count": 16,
   "metadata": {},
   "outputs": [],
   "source": [
    "# @TODO: Define a variable called 'fullname', set to equal your full name\n",
    "\n"
   ]
  },
  {
   "cell_type": "code",
   "execution_count": 17,
   "metadata": {},
   "outputs": [],
   "source": [
    "# @TODO: Print your fullname, with a so-far imaginary degree attached (e.g. 'Ryan Heuser, Ph.D.')\n",
    "\n"
   ]
  },
  {
   "cell_type": "markdown",
   "metadata": {},
   "source": [
    "## String slicing"
   ]
  },
  {
   "cell_type": "code",
   "execution_count": 68,
   "metadata": {},
   "outputs": [],
   "source": [
    "alphabet = 'abcdefghijklmnopqrstuvwxyz'"
   ]
  },
  {
   "cell_type": "markdown",
   "metadata": {},
   "source": [
    "Remember that each character of a string has an index starting at 0:\n",
    "\n",
    "    a   b   c   d   e   f   g   h   i   j   k   l   m   n   o   p   q   r   s   t   u   v   w   x   y   z\n",
    "    |   |   |   |   |   |   |   |   |   |   |   |   |   |   |   |   |   |   |   |   |   |   |   |   |   |\n",
    "    0   1   2   3   4   5   6   7   8   9  10  11  12  13  14  15  16  17  18  19  20  21  22  23  24  25"
   ]
  },
  {
   "cell_type": "code",
   "execution_count": 75,
   "metadata": {},
   "outputs": [],
   "source": [
    "# @TODO: Slice off the first 7 letters of the alphabet\n",
    "\n"
   ]
  },
  {
   "cell_type": "code",
   "execution_count": 76,
   "metadata": {},
   "outputs": [],
   "source": [
    "# @TODO: Slice off the last 4 letters of the alphabet\n",
    "\n"
   ]
  },
  {
   "cell_type": "code",
   "execution_count": 77,
   "metadata": {},
   "outputs": [],
   "source": [
    "# @TODO: Slice off the middle 20 letters of the alphabet\n",
    "\n"
   ]
  },
  {
   "cell_type": "code",
   "execution_count": 78,
   "metadata": {},
   "outputs": [],
   "source": [
    "# @TODO: Spell 'cat' by slicing each letter individually\n",
    "\n"
   ]
  },
  {
   "cell_type": "markdown",
   "metadata": {},
   "source": [
    "## String methods"
   ]
  },
  {
   "cell_type": "code",
   "execution_count": 13,
   "metadata": {},
   "outputs": [
    {
     "name": "stdout",
     "output_type": "stream",
     "text": [
      "EXPERIMENTS\n"
     ]
    }
   ],
   "source": [
    "# @TODO: Recreate the following title page with its correct captialization using the variable names.\n",
    "\n",
    "\"\"\"\n",
    "      EXPERIMENTS\n",
    "          and\n",
    "     OBSERVATIONS\n",
    "          on\n",
    "      ELECTRICITY\n",
    "        made at\n",
    "Philadelphia in America\n",
    "\"\"\"\n",
    "\n",
    "line1='experiments'\n",
    "line2='and'\n",
    "line3='observations'\n",
    "line4='on'\n",
    "line5='electricity'\n",
    "line6='made at'\n",
    "line7='philadelphia in america'\n",
    "\n",
    "print(line1.upper())\n",
    "# .... Print the next six lines using the appropriate string method"
   ]
  },
  {
   "cell_type": "code",
   "execution_count": 26,
   "metadata": {},
   "outputs": [],
   "source": [
    "# @TODO: Rid this string of its gendered assumptions (replace 'men' and 'women' to 'people').\n",
    "\n",
    "gendered = 'men are from Mars, women are from Venus'\n",
    "\n"
   ]
  },
  {
   "cell_type": "code",
   "execution_count": 23,
   "metadata": {},
   "outputs": [],
   "source": [
    "# @TODO: print a version of overpadded that elimates the \"whitespace\" (= spaces, newlines, tabs)\n",
    "# surrounding the non-whitespace content of the string\n",
    "\n",
    "overpadded = \"\"\"\n",
    "\n",
    "[<- first non-whitespace character ............ last non-whitespace character ->]\n",
    "\n",
    "\"\"\"\n",
    "\n",
    "\n",
    "# print here\n"
   ]
  },
  {
   "cell_type": "code",
   "execution_count": 65,
   "metadata": {},
   "outputs": [],
   "source": [
    "####\n",
    "## The first paragraphs from each of our narrators\n",
    "## Nothing to do here. Just hit Shift+Enter\n",
    "####\n",
    "\n",
    "rafaela = \"\"\"Rafaela Cortes spent the morning barefoot, sweeping both dead and living things from over and under beds, from behind doors and shutters, through archways, along the veranda—sweeping them all across the deep shadows and luminous sunlight carpeting the cool tile floors. Her slender arms worked the broom industriously through the air—already thickening with tepid heat—and along the floor, her feet following, printing their moisture in dark footprints over baked clay. Every morning, a small pile of assorted insects and tiny animals—moths and spiders, lizards and beetles—collected, their brittle bodies tossed in waves along the floor, a cloudy hush of sandy soil, cobwebs, and human hair. An iguana, a crab, and a mouse. And there was the scorpion, always dead—its fragile back broken in the middle. And the snake that slithered away at the urging of her broom—probably not poisonous, but one never knew. Every morning it was the same. Every morning, she swept this mound of dead and wiggling things to the door and off the side of the veranda and into the dark green undergrowth with the same flourish. Occasionally, there was more of one species or the other, but each somehow always made its way back into the house. The iguana, the crab, and the mouse, for example, were always there. Sometimes they were dead; sometimes they were alive. As for the scorpion, it was always dead, but the snake was always alive. On some days, it seemed to twirl before her broom communicating a kind of dance that seemed to send a visceral message up the broom to her fingertips. There was no explanation for any of it. It made no difference if she closed the doors and shutters at the first sign of dusk or if she left the house unoccupied and tightly shut for several days. Every morning when the house was thrown open to the sunlight, she knew that she and the boy had not slept alone that night. Hummingbirds and parakeets fluttered across the rooms, stirring the languid humidity settled by the night, frantically searching for escape through the open lace curtains, while crawling lives hid beneath furniture or presented itself lifeless at her feet.\"\"\"\n",
    "bobby = \"\"\"Check it out, ése. You know this story? Yeah, over at Sanitary Supply they always tell it. This dude drives up, drives up to Sanitary. Makes a pickup like always. You know. Paper towels. Rags. Mop handles. Gallon of Windex. Stuff like that. Drives up in a Toyota pickup. Black shiny deal, all new, big pinche wheels. Very nice. Yeah. Asian dude. Kinda skinny. Short, yeah. But so what? Dark glasses. Cigarette in the mouth. He’s getting out the truck, see. In the parking lot. Big tall dude comes by with a gun. Yeah, a gun. Puts it to his head and says, GIMME THE KEYS! It’s a jacker. Asian dude don’t lose no time, man. No time. Not a doubt. Rams the door closed. wham! Just like that. Slams the door on the jacker’s hand. On the jacker’s gun! Smashes the gun! Smashes the hand. Gun ain’t worth shit. Hand’s worth even less. Jacker loses it bad. He’s crying. Screaming. It’s not over. Asian dude swings the door open. Attacks the jacker. Pushes him up to the wall of Sanitary and beats the shit out. Dude don’t come up to the jacker’s nose. But it don’t matter. Got every trick in the books. Bruce Lee moves. Kick. VAP! WHOP! Damn. Don’t mess with this man. By now Sanitary’s called the police. Crowd’s seen it all. Jacker’s a mess. Blood everywhere. Never seen so much blood. But not a drop on the Asian. Not a drop. Never took off his shades. Never even stopped smoking. Turns over the jacker’s remains to the police. Don’t say nothing. That’s it. Goes into Sanitary. Picks up the mop handles, Windex, rags. Gets in the pickup. He’s gone. That’s it. That’s it.\"\"\"\n",
    "emi = \"\"\"“That film noir stuff is passé. Don’t you get it?” Emi told Gabriel over her Bloody Mary. She squeezed the lime, dumped it in, shook in the Tabasco, more black pepper and stirred the whole mess with the celery stick, licking her fingers, watching him, watching the waiters, watching the cocktail hostess walk away, watching the entire clientele in the restaurant, taking hold of the situation as if she had produced it herself. “Stop being such a film buff. Raymond Chandler. Alfred Hitchcock. Film nostalgia. I don’t give a damn if Chinatown, The Player, or everybody in Hollywood owes these old farts their asses. I’ll give you this: at least they’re in color. Except for Roger Rabbit, if I have to spend another evening with you viewing another video in black and white, this relationship is over.” She laughed, tossing the silky strands of her straight hair over her padded shoulders. She didn’t mean it. She never did.\"\"\"\n",
    "buzzworm = \"\"\"Buzzworm figured that some representations of reality were presented for your visual and aural gratification so as to tap what you thought you understood. It was a starting place but not an ending. Buzzworm tapped your worst phobias. Seemed like he was who he was to offend you. If he sauntered in with an attitude, it was because no matter how he sauntered in, you couldn’t miss him. Might as well make a statement. Besides, how many people got their information from film and TV and the company they keep? Just about everybody thought they knew the truth.\"\"\"\n",
    "manzanar = \"\"\"The third movement was excruciatingly beautiful. But that was his rule about third movements. One should hang breathlessly on every note, a great feeling of anguish nearly spilling from one’s heart. It was mostly strings, violins accompanied by violas and cellos, exchanging melodies with the plaintive voice of the oboes. When it was really good, it brought tears. He let them run down his face and onto the pavement, concentrating mightily on the delicate work at hand. One slip of the baton, one false gesture, and he might lose the building intensity, might fail to caress each note with its tender due. In some deep place in his being, he wanted desperately to lose his way through these passages, but he would not give up his control. He must hear every measure, cue every instrument at its proper moment, until the final note. This was the work of a great conductor and the right of the composer.\"\"\"\n",
    "gabriel = \"\"\"It was about four o’clock in the afternoon, an hour before the five o’clock deadline, mid-June, summer solstice, and it had rained. Out there, steam rose from the hot streets, the pungent odor of wet concrete wafting over the downtown landscape. At eighty degrees, in an hour it would be dry again, but for the moment, everything out there had a wet reflective murky glow, the clouds parting into what I typically call pewter skies.\"\"\"\n",
    "arcangel = \"\"\"When he removed his clothing, he revealed weathered skin stretched like fragile paper over brittle bones, revealed the holes in the sides of his torso and the purple stain across his neck, the solid scars of tissue that padded both his feet. He possessed the beauty of an ancient body, a gnarled and twisted tree, tortured and serene, wise and innocent all at once. Here, in this body-tree—more like bamboo than birch, more like birch than oak, more like oak than pine, more like pine than sequoia, more like sequoia than cactus, more like cactus—was the secret of his youth and the secret of his age.\"\"\"\n"
   ]
  },
  {
   "cell_type": "code",
   "execution_count": 66,
   "metadata": {},
   "outputs": [],
   "source": [
    "# @TODO: Count the number of words in each narrator\n",
    "\n",
    "# e.g. num_words_rafaela = ...?\n",
    "\n"
   ]
  },
  {
   "cell_type": "code",
   "execution_count": 55,
   "metadata": {},
   "outputs": [],
   "source": [
    "# @TODO: Count the number of 'sentences' (\".\" + \"?\" + \"!\") in each narrator\n",
    "\n",
    "# e.g.: num_sents_rafaela = ...?\n",
    "\n"
   ]
  },
  {
   "cell_type": "code",
   "execution_count": 56,
   "metadata": {},
   "outputs": [],
   "source": [
    "# @TODO: Calculate the words per sentence for each narrator (divide previous two)\n",
    "\n",
    "# e.g.: wps_rafaela = num_words_rafaela / num_sents_rafaela\n",
    "\n"
   ]
  },
  {
   "cell_type": "code",
   "execution_count": 59,
   "metadata": {},
   "outputs": [],
   "source": [
    "# @TODO: Print each narrator's name and their words/sent statistic\n",
    "\n",
    "# print('Rafaela', wps_rafaela)\n",
    "# ...\n"
   ]
  },
  {
   "cell_type": "markdown",
   "metadata": {},
   "source": [
    "#### Your own calculation on your own corpus"
   ]
  },
  {
   "cell_type": "code",
   "execution_count": 60,
   "metadata": {},
   "outputs": [],
   "source": [
    "##\n",
    "# @TODO: Load two of your texts into a string\n",
    "#\n",
    "\n",
    "my_text1 = \"\"\"MY TEXT HERE, MAYBE JUST A PARAGRAPH\"\"\"\n",
    "\n",
    "my_text2 = \"\"\"MY OTHER TEXT HERE, MAYBE JUST A PARAGRAPH\"\"\"\n"
   ]
  },
  {
   "cell_type": "code",
   "execution_count": 63,
   "metadata": {},
   "outputs": [],
   "source": [
    "##\n",
    "# @TODO: Print the words per sentence for both your texts\n",
    "#\n",
    "\n"
   ]
  },
  {
   "cell_type": "code",
   "execution_count": 62,
   "metadata": {},
   "outputs": [],
   "source": [
    "##\n",
    "# @TODO: Count something else of interest to you in your texts\n",
    "#\n",
    "\n"
   ]
  }
 ],
 "metadata": {
  "kernelspec": {
   "display_name": "Python 3",
   "language": "python",
   "name": "python3"
  },
  "language_info": {
   "codemirror_mode": {
    "name": "ipython",
    "version": 3
   },
   "file_extension": ".py",
   "mimetype": "text/x-python",
   "name": "python",
   "nbconvert_exporter": "python",
   "pygments_lexer": "ipython3",
   "version": "3.7.1"
  }
 },
 "nbformat": 4,
 "nbformat_minor": 2
}
