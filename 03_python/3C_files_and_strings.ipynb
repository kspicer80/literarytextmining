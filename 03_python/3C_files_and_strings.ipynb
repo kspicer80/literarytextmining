{
 "cells": [
  {
   "cell_type": "markdown",
   "metadata": {},
   "source": [
    "# (3C) Files and strings\n",
    "\n",
    "Ok, our baby python is growing up and heading to kindergarten. Let's see what we can do now.\n",
    "\n",
    "We're going to focus on strings and what they can do, and lastly on opening files and playing with them."
   ]
  },
  {
   "cell_type": "markdown",
   "metadata": {},
   "source": [
    "## String slicing\n",
    "\n",
    "We just looked at some of the methods strings have. There's one more major functionality of strings: slicing.\n",
    "\n",
    "'Slicing' refers to slicing off a specific piece of the string.\n",
    "\n",
    "This is all coordinated through two brackets at the end of a string:\n",
    "\n",
    "    my_string[a:b]\n",
    "    \n",
    "    a = number of characters/letters into my_string to start at\n",
    "    b = number of characters/letters into my_string to end at\n",
    "    \n",
    "For instance...\n",
    "\n",
    "### Slice off the beginning of strings\n",
    "\n",
    "To get the first N characters:\n",
    "\n",
    "    my_string[:N]"
   ]
  },
  {
   "cell_type": "code",
   "execution_count": 41,
   "metadata": {},
   "outputs": [],
   "source": [
    "alphabet = 'abcdefghijklmnopqrstuvwxyz'"
   ]
  },
  {
   "cell_type": "markdown",
   "metadata": {},
   "source": [
    "Each letter of the alphabet string has an index:\n",
    "\n",
    "    a   b   c   d   e   f   g   h   i   j   k   l   m   n   o   p   q   r   s   t   u   v   w   x   y   z\n",
    "    |   |   |   |   |   |   |   |   |   |   |   |   |   |   |   |   |   |   |   |   |   |   |   |   |   |\n",
    "    0   1   2   3   4   5   6   7   8   9  10  11  12  13  14  15  16  17  18  19  20  21  22  23  24  25"
   ]
  },
  {
   "cell_type": "code",
   "execution_count": 44,
   "metadata": {},
   "outputs": [
    {
     "data": {
      "text/plain": [
       "'abc'"
      ]
     },
     "execution_count": 44,
     "metadata": {},
     "output_type": "execute_result"
    }
   ],
   "source": [
    "# first three letters\n",
    "\n",
    "alphabet[0:3]     # means: starting at 0, and including everything until 3, which is not included\n",
    "                  # or:    the first 3 letters"
   ]
  },
  {
   "cell_type": "code",
   "execution_count": 45,
   "metadata": {},
   "outputs": [
    {
     "data": {
      "text/plain": [
       "'abcdefghij'"
      ]
     },
     "execution_count": 45,
     "metadata": {},
     "output_type": "execute_result"
    }
   ],
   "source": [
    "# first 10 letters\n",
    "alphabet[0:10]"
   ]
  },
  {
   "cell_type": "code",
   "execution_count": 46,
   "metadata": {},
   "outputs": [
    {
     "data": {
      "text/plain": [
       "'abcdefghij'"
      ]
     },
     "execution_count": 46,
     "metadata": {},
     "output_type": "execute_result"
    }
   ],
   "source": [
    "alphabet[:10]          # also works"
   ]
  },
  {
   "cell_type": "code",
   "execution_count": 47,
   "metadata": {},
   "outputs": [],
   "source": [
    "# @TODO: slice 'William' away from 'William Shakespeare'\n",
    "\n",
    "bardname='William Shakespeare'\n"
   ]
  },
  {
   "cell_type": "code",
   "execution_count": 48,
   "metadata": {},
   "outputs": [],
   "source": [
    "# @TODO: slice off your own first name\n",
    "\n",
    "fullname=''\n"
   ]
  },
  {
   "cell_type": "markdown",
   "metadata": {},
   "source": [
    "### Slice off the ends of strings"
   ]
  },
  {
   "cell_type": "markdown",
   "metadata": {},
   "source": [
    "The alphabet indices in reverse\n",
    "\n",
    "    a   b   c   d   e   f   g   h   i   j   k   l   m   n   o   p   q   r   s   t   u   v   w   x   y   z\n",
    "    |   |   |   |   |   |   |   |   |   |   |   |   |   |   |   |   |   |   |   |   |   |   |   |   |   |\n",
    "    -26 -25 -24 -23 -22 -21 -20 -19 -18 -17 -16 -15 -14 -13 -12 -11 -10 -9  -8  -7  -6  -5  -4  -3  -2  -1"
   ]
  },
  {
   "cell_type": "code",
   "execution_count": 63,
   "metadata": {},
   "outputs": [
    {
     "data": {
      "text/plain": [
       "'xyz'"
      ]
     },
     "execution_count": 63,
     "metadata": {},
     "output_type": "execute_result"
    }
   ],
   "source": [
    "# last 3 letters\n",
    "alphabet[-3:]   "
   ]
  },
  {
   "cell_type": "code",
   "execution_count": 25,
   "metadata": {},
   "outputs": [
    {
     "data": {
      "text/plain": [
       "'qrstuvwxyz'"
      ]
     },
     "execution_count": 25,
     "metadata": {},
     "output_type": "execute_result"
    }
   ],
   "source": [
    "# last 10 letters\n",
    "alphabet[-10:]"
   ]
  },
  {
   "cell_type": "code",
   "execution_count": 26,
   "metadata": {},
   "outputs": [],
   "source": [
    "# @TODO slice 'Shakespeare' from 'William Shakespeare'\n",
    "\n"
   ]
  },
  {
   "cell_type": "code",
   "execution_count": 27,
   "metadata": {},
   "outputs": [],
   "source": [
    "# @TODO slice off your last name\n",
    "\n"
   ]
  },
  {
   "cell_type": "markdown",
   "metadata": {},
   "source": [
    "### Slice the middles of strings"
   ]
  },
  {
   "cell_type": "markdown",
   "metadata": {},
   "source": [
    "    a   b   c   d   e   f   g   h   i   j   k   l   m   n   o   p   q   r   s   t   u   v   w   x   y   z\n",
    "    |   |   |   |   |   |   |   |   |   |   |   |   |   |   |   |   |   |   |   |   |   |   |   |   |   |\n",
    "    0   1   2   3   4   5   6   7   8   9  10  11  12  13  14  15  16  17  18  19  20  21  22  23  24  25"
   ]
  },
  {
   "cell_type": "code",
   "execution_count": 67,
   "metadata": {},
   "outputs": [
    {
     "data": {
      "text/plain": [
       "'abc'"
      ]
     },
     "execution_count": 67,
     "metadata": {},
     "output_type": "execute_result"
    }
   ],
   "source": [
    "# the first three\n",
    "alphabet[0:3]"
   ]
  },
  {
   "cell_type": "code",
   "execution_count": 72,
   "metadata": {},
   "outputs": [
    {
     "data": {
      "text/plain": [
       "'defg'"
      ]
     },
     "execution_count": 72,
     "metadata": {},
     "output_type": "execute_result"
    }
   ],
   "source": [
    "# the next four letters \n",
    "alphabet[3:7]"
   ]
  },
  {
   "cell_type": "code",
   "execution_count": 73,
   "metadata": {},
   "outputs": [
    {
     "data": {
      "text/plain": [
       "'hijk'"
      ]
     },
     "execution_count": 73,
     "metadata": {},
     "output_type": "execute_result"
    }
   ],
   "source": [
    "# the next four\n",
    "alphabet[7:11]"
   ]
  },
  {
   "cell_type": "code",
   "execution_count": 77,
   "metadata": {},
   "outputs": [
    {
     "data": {
      "text/plain": [
       "'lmnop'"
      ]
     },
     "execution_count": 77,
     "metadata": {},
     "output_type": "execute_result"
    }
   ],
   "source": [
    "# the next five\n",
    "alphabet[11:16]"
   ]
  },
  {
   "cell_type": "code",
   "execution_count": 78,
   "metadata": {},
   "outputs": [
    {
     "data": {
      "text/plain": [
       "'defghijklmnopqrstuvw'"
      ]
     },
     "execution_count": 78,
     "metadata": {},
     "output_type": "execute_result"
    }
   ],
   "source": [
    "# everything but the first three and the last three\n",
    "alphabet[3:-3]"
   ]
  },
  {
   "cell_type": "code",
   "execution_count": 76,
   "metadata": {},
   "outputs": [],
   "source": [
    "# @TODO: Slice Shakespeare's name so that you see only\n",
    "# the last two letters of his first name ('am') and the first two letters of his last name ('Sh')\n",
    "\n"
   ]
  },
  {
   "cell_type": "code",
   "execution_count": 82,
   "metadata": {},
   "outputs": [],
   "source": [
    "# @TODO: Slice the middle of your own name in the same away as just above:\n",
    "\n"
   ]
  },
  {
   "cell_type": "code",
   "execution_count": 83,
   "metadata": {},
   "outputs": [],
   "source": [
    "# @TODO: Slice away everything but the first and last letters of your name\n",
    "\n"
   ]
  },
  {
   "cell_type": "markdown",
   "metadata": {},
   "source": [
    "## String methods\n",
    "\n",
    "So far we've seen just one thing strings can do. They can be 'added' to each other."
   ]
  },
  {
   "cell_type": "code",
   "execution_count": 106,
   "metadata": {},
   "outputs": [],
   "source": [
    "my_name = 'Ryan'"
   ]
  },
  {
   "cell_type": "code",
   "execution_count": 1,
   "metadata": {},
   "outputs": [],
   "source": [
    "#@TODO Print the fact that you're cool, changing my_name above\n",
    "\n"
   ]
  },
  {
   "cell_type": "markdown",
   "metadata": {},
   "source": [
    "But strings can do many more things using **methods**.\n",
    "\n",
    "A method is something an object can do. If my dog is a Python object, things he might be able to do are 'sit', 'stay', 'walk'. Here's some pseudo-code:\n",
    "\n",
    "    my_dog.sit()\n",
    "    my_dog.stay()\n",
    "    my_dog.walk()\n",
    "\n",
    "A method is activated by this formula:\n",
    "\n",
    "    variable_name.method_name()\n",
    "\n",
    "For strings specifically, certain methods do very useful things."
   ]
  },
  {
   "cell_type": "markdown",
   "metadata": {},
   "source": [
    "### `str.upper(), str.lower(), str.title()`\n",
    "\n",
    "These three methods let you change the capitalization of the string you have."
   ]
  },
  {
   "cell_type": "code",
   "execution_count": 6,
   "metadata": {},
   "outputs": [],
   "source": [
    "mixed_case = 'PyTHoN hackER'"
   ]
  },
  {
   "cell_type": "code",
   "execution_count": 7,
   "metadata": {},
   "outputs": [
    {
     "data": {
      "text/plain": [
       "'PYTHON HACKER'"
      ]
     },
     "execution_count": 7,
     "metadata": {},
     "output_type": "execute_result"
    }
   ],
   "source": [
    "mixed_case.upper()"
   ]
  },
  {
   "cell_type": "code",
   "execution_count": 8,
   "metadata": {},
   "outputs": [
    {
     "data": {
      "text/plain": [
       "'python hacker'"
      ]
     },
     "execution_count": 8,
     "metadata": {},
     "output_type": "execute_result"
    }
   ],
   "source": [
    "mixed_case.lower()"
   ]
  },
  {
   "cell_type": "code",
   "execution_count": 10,
   "metadata": {},
   "outputs": [
    {
     "data": {
      "text/plain": [
       "'Python Hacker'"
      ]
     },
     "execution_count": 10,
     "metadata": {},
     "output_type": "execute_result"
    }
   ],
   "source": [
    "mixed_case.title()"
   ]
  },
  {
   "cell_type": "code",
   "execution_count": 15,
   "metadata": {},
   "outputs": [
    {
     "name": "stdout",
     "output_type": "stream",
     "text": [
      "The\n"
     ]
    }
   ],
   "source": [
    "# @TODO: Recreate the following title page with its correct captialization using the variable names.\n",
    "\"\"\"\n",
    "The\n",
    "LIFE\n",
    "and\n",
    "Strange Surprising\n",
    "ADVENTURES\n",
    "of\n",
    "ROBINSON CRUSOE\n",
    "Of York, Mariner\n",
    "\"\"\"\n",
    "\n",
    "line1='the'\n",
    "line2='life'\n",
    "line3='AND'\n",
    "line4='strange surprising'\n",
    "line5='adventures'\n",
    "line6='OF'\n",
    "line7='robinson crusoe'\n",
    "line8='of york, mariner'\n",
    "\n",
    "print(line1.title())\n",
    "# .... Print the other lines using the appropriate string method"
   ]
  },
  {
   "cell_type": "code",
   "execution_count": 31,
   "metadata": {},
   "outputs": [],
   "source": [
    "# Remember you can always check the help for a string method like this:\n",
    "#help(str.title)"
   ]
  },
  {
   "cell_type": "markdown",
   "metadata": {},
   "source": [
    "### `str.replace()`\n",
    "\n",
    "A lot of the time we need to replace something inside a string with something else.\n",
    "\n",
    "#### Fixed That For You #1"
   ]
  },
  {
   "cell_type": "code",
   "execution_count": 42,
   "metadata": {},
   "outputs": [],
   "source": [
    "corporation = 'Dunkin Donuts'"
   ]
  },
  {
   "cell_type": "code",
   "execution_count": 53,
   "metadata": {},
   "outputs": [
    {
     "data": {
      "text/plain": [
       "'Unkind Donuts'"
      ]
     },
     "execution_count": 53,
     "metadata": {},
     "output_type": "execute_result"
    }
   ],
   "source": [
    "corporation.replace('Dunkin','Unkind')"
   ]
  },
  {
   "cell_type": "code",
   "execution_count": 56,
   "metadata": {},
   "outputs": [
    {
     "data": {
      "text/plain": [
       "'Dunkin Donuts'"
      ]
     },
     "execution_count": 56,
     "metadata": {},
     "output_type": "execute_result"
    }
   ],
   "source": [
    "# This did not overwrite 'corporation'!\n",
    "\n",
    "corporation"
   ]
  },
  {
   "cell_type": "code",
   "execution_count": 57,
   "metadata": {},
   "outputs": [],
   "source": [
    "# To do that, we need to re-assign corporation\n",
    "\n",
    "corporation = corporation.replace('Dunkin','Unkind')"
   ]
  },
  {
   "cell_type": "code",
   "execution_count": 58,
   "metadata": {},
   "outputs": [
    {
     "data": {
      "text/plain": [
       "'Unkind Donuts'"
      ]
     },
     "execution_count": 58,
     "metadata": {},
     "output_type": "execute_result"
    }
   ],
   "source": [
    "corporation"
   ]
  },
  {
   "cell_type": "markdown",
   "metadata": {},
   "source": [
    "#### Fixed That For You #2"
   ]
  },
  {
   "cell_type": "code",
   "execution_count": 62,
   "metadata": {},
   "outputs": [],
   "source": [
    "heteronormative = 'men like women, women like men'"
   ]
  },
  {
   "cell_type": "code",
   "execution_count": 63,
   "metadata": {},
   "outputs": [
    {
     "data": {
      "text/plain": [
       "'men like people, people like men'"
      ]
     },
     "execution_count": 63,
     "metadata": {},
     "output_type": "execute_result"
    }
   ],
   "source": [
    "heteronormative.replace('women','people')"
   ]
  },
  {
   "cell_type": "code",
   "execution_count": 64,
   "metadata": {},
   "outputs": [
    {
     "data": {
      "text/plain": [
       "'people like wopeople, wopeople like people'"
      ]
     },
     "execution_count": 64,
     "metadata": {},
     "output_type": "execute_result"
    }
   ],
   "source": [
    "heteronormative.replace('men','people')"
   ]
  },
  {
   "cell_type": "code",
   "execution_count": 65,
   "metadata": {},
   "outputs": [
    {
     "data": {
      "text/plain": [
       "'people like people, people like people'"
      ]
     },
     "execution_count": 65,
     "metadata": {},
     "output_type": "execute_result"
    }
   ],
   "source": [
    "heteronormative.replace('women','people').replace('men','people')"
   ]
  },
  {
   "cell_type": "code",
   "execution_count": 66,
   "metadata": {},
   "outputs": [
    {
     "data": {
      "text/plain": [
       "'men like women, women like men'"
      ]
     },
     "execution_count": 66,
     "metadata": {},
     "output_type": "execute_result"
    }
   ],
   "source": [
    "# This did not overwrite heteronormative!\n",
    "\n",
    "heteronormative"
   ]
  },
  {
   "cell_type": "code",
   "execution_count": 67,
   "metadata": {},
   "outputs": [],
   "source": [
    "# We can overwrite one at a time\n",
    "\n",
    "heteronormative = heteronormative.replace('women','people')"
   ]
  },
  {
   "cell_type": "code",
   "execution_count": 68,
   "metadata": {},
   "outputs": [
    {
     "data": {
      "text/plain": [
       "'men like people, people like men'"
      ]
     },
     "execution_count": 68,
     "metadata": {},
     "output_type": "execute_result"
    }
   ],
   "source": [
    "heteronormative"
   ]
  },
  {
   "cell_type": "code",
   "execution_count": 69,
   "metadata": {},
   "outputs": [],
   "source": [
    "heteronormative = heteronormative.replace('men','people')"
   ]
  },
  {
   "cell_type": "code",
   "execution_count": 71,
   "metadata": {},
   "outputs": [
    {
     "data": {
      "text/plain": [
       "'people like people, people like people'"
      ]
     },
     "execution_count": 71,
     "metadata": {},
     "output_type": "execute_result"
    }
   ],
   "source": [
    "heteronormative"
   ]
  },
  {
   "cell_type": "markdown",
   "metadata": {},
   "source": [
    "#### Fixed That For You #3"
   ]
  },
  {
   "cell_type": "code",
   "execution_count": 261,
   "metadata": {},
   "outputs": [],
   "source": [
    "#@TODO: Rid this string of its gendered assumptions (use 'they', 'them', and 'person' as neutral pro/nouns).\n",
    "\n",
    "gendered = 'You saw your doctor? What did he say? And the nurse? What did she say?'\n",
    "\n"
   ]
  },
  {
   "cell_type": "markdown",
   "metadata": {},
   "source": [
    "### `str.strip()`\n",
    "\n",
    "Sometimes we need to clean strings up and remove the whitespace they have surrounding them."
   ]
  },
  {
   "cell_type": "code",
   "execution_count": 264,
   "metadata": {},
   "outputs": [],
   "source": [
    "overpadded = \"\"\"\n",
    "\n",
    "\n",
    "                                  hi!\n",
    "\n",
    "\"\"\""
   ]
  },
  {
   "cell_type": "code",
   "execution_count": 265,
   "metadata": {},
   "outputs": [
    {
     "name": "stdout",
     "output_type": "stream",
     "text": [
      "\n",
      "\n",
      "\n",
      "                                  hi!\n",
      "\n",
      "\n"
     ]
    }
   ],
   "source": [
    "print(overpadded)"
   ]
  },
  {
   "cell_type": "code",
   "execution_count": 266,
   "metadata": {},
   "outputs": [
    {
     "data": {
      "text/plain": [
       "'\\n\\n\\n                                  hi!\\n\\n'"
      ]
     },
     "execution_count": 266,
     "metadata": {},
     "output_type": "execute_result"
    }
   ],
   "source": [
    "overpadded"
   ]
  },
  {
   "cell_type": "code",
   "execution_count": 267,
   "metadata": {},
   "outputs": [
    {
     "data": {
      "text/plain": [
       "'hi!'"
      ]
     },
     "execution_count": 267,
     "metadata": {},
     "output_type": "execute_result"
    }
   ],
   "source": [
    "overpadded.strip()"
   ]
  },
  {
   "cell_type": "markdown",
   "metadata": {},
   "source": [
    "### `str.count()`\n",
    "\n",
    "How many strings are inside another string?"
   ]
  },
  {
   "cell_type": "code",
   "execution_count": 141,
   "metadata": {},
   "outputs": [],
   "source": [
    "rafaela = \"\"\"Rafaela Cortes spent the morning barefoot, sweeping both dead and\n",
    "living things from over and under beds, from behind doors and shutters,\n",
    "through archways, along the veranda—sweeping them all across the deep\n",
    "shadows and luminous sunlight carpeting the cool tile floors. Her\n",
    "slender arms worked the broom industriously through the air—already\n",
    "thickening with tepid heat—and along the floor, her feet following,\n",
    "printing their moisture in dark footprints over baked clay. Every\n",
    "morning, a small pile of assorted insects and tiny animals—moths and\n",
    "spiders, lizards and beetles—collected, their brittle bodies tossed in\n",
    "waves along the floor, a cloudy hush of sandy soil, cobwebs, and human\n",
    "hair. An iguana, a crab, and a mouse. And there was the scorpion,\n",
    "always dead—its fragile back broken in the middle. And the snake that\n",
    "slithered away at the urging of her broom—probably not poisonous, but\n",
    "one never knew. Every morning it was the same. Every morning, she swept\n",
    "this mound of dead and wiggling things to the door and off the side of\n",
    "the veranda and into the dark green undergrowth with the same flourish.\n",
    "Occasionally, there was more of one species or the other, but each\n",
    "somehow always made its way back into the house. The iguana, the crab,\n",
    "and the mouse, for example, were always there. Sometimes they were\n",
    "dead; sometimes they were alive. As for the scorpion, it was always\n",
    "dead, but the snake was always alive. On some days, it seemed to twirl\n",
    "before her broom communicating a kind of dance that seemed to send a\n",
    "visceral message up the broom to her fingertips. There was no\n",
    "explanation for any of it. It made no difference if she closed the\n",
    "doors and shutters at the first sign of dusk or if she left the house\n",
    "unoccupied and tightly shut for several days. Every morning when the\n",
    "house was thrown open to the sunlight, she knew that she and the boy\n",
    "had not slept alone that night. Hummingbirds and parakeets fluttered\n",
    "across the rooms, stirring the languid humidity settled by the night,\n",
    "frantically searching for escape through the open lace curtains, while\n",
    "crawling lives hid beneath furniture or presented itself lifeless at\n",
    "her feet.\"\"\""
   ]
  },
  {
   "cell_type": "code",
   "execution_count": 455,
   "metadata": {},
   "outputs": [
    {
     "data": {
      "text/plain": [
       "2"
      ]
     },
     "execution_count": 455,
     "metadata": {},
     "output_type": "execute_result"
    }
   ],
   "source": [
    "# How many crabs?\n",
    "rafaela.count('crab')"
   ]
  },
  {
   "cell_type": "code",
   "execution_count": 148,
   "metadata": {},
   "outputs": [
    {
     "name": "stdout",
     "output_type": "stream",
     "text": [
      "2 2 2 1\n"
     ]
    }
   ],
   "source": [
    "# How many of these animals respectively?\n",
    "print(rafaela.count('iguana'), rafaela.count('scorpion'),rafaela.count('snake'),rafaela.count('parakeet'))"
   ]
  },
  {
   "cell_type": "code",
   "execution_count": 151,
   "metadata": {},
   "outputs": [
    {
     "data": {
      "text/plain": [
       "0"
      ]
     },
     "execution_count": 151,
     "metadata": {},
     "output_type": "execute_result"
    }
   ],
   "source": [
    "# How many hummingbirds?\n",
    "rafaela.count('hummingbird')"
   ]
  },
  {
   "cell_type": "code",
   "execution_count": 268,
   "metadata": {},
   "outputs": [],
   "source": [
    "# How come!?\n",
    "# Look: it's capitalized in text. \"Hummingbirds\"!\n",
    "# So...\n",
    "\n",
    "# @TODO how do we fix this?\n",
    "\n"
   ]
  },
  {
   "cell_type": "code",
   "execution_count": 269,
   "metadata": {},
   "outputs": [
    {
     "data": {
      "text/plain": [
       "30"
      ]
     },
     "execution_count": 269,
     "metadata": {},
     "output_type": "execute_result"
    }
   ],
   "source": [
    "##\n",
    "# Getting some stats\n",
    "##\n",
    "\n",
    "num_commas = rafaela.count(',')\n",
    "num_commas"
   ]
  },
  {
   "cell_type": "code",
   "execution_count": 270,
   "metadata": {},
   "outputs": [
    {
     "data": {
      "text/plain": [
       "17"
      ]
     },
     "execution_count": 270,
     "metadata": {},
     "output_type": "execute_result"
    }
   ],
   "source": [
    "num_sents = rafaela.count('.') + rafaela.count('?')\n",
    "num_sents"
   ]
  },
  {
   "cell_type": "code",
   "execution_count": 271,
   "metadata": {},
   "outputs": [
    {
     "data": {
      "text/plain": [
       "330"
      ]
     },
     "execution_count": 271,
     "metadata": {},
     "output_type": "execute_result"
    }
   ],
   "source": [
    "num_words = rafaela.strip().count(' ')\n",
    "num_words"
   ]
  },
  {
   "cell_type": "code",
   "execution_count": 272,
   "metadata": {},
   "outputs": [
    {
     "data": {
      "text/plain": [
       "19.41176470588235"
      ]
     },
     "execution_count": 272,
     "metadata": {},
     "output_type": "execute_result"
    }
   ],
   "source": [
    "# Words per sentence\n",
    "wps = num_words/num_sents\n",
    "wps"
   ]
  },
  {
   "cell_type": "code",
   "execution_count": 273,
   "metadata": {},
   "outputs": [
    {
     "data": {
      "text/plain": [
       "1.7647058823529411"
      ]
     },
     "execution_count": 273,
     "metadata": {},
     "output_type": "execute_result"
    }
   ],
   "source": [
    "# Commas per sentence\n",
    "cps = num_commas/num_sents\n",
    "cps"
   ]
  },
  {
   "cell_type": "code",
   "execution_count": 274,
   "metadata": {},
   "outputs": [],
   "source": [
    "bobby = \"\"\"\n",
    "Check it out, ése. You know this story? Yeah, over at Sanitary Supply\n",
    "they always tell it. This dude drives up, drives up to Sanitary. Makes\n",
    "a pickup like always. You know. Paper towels. Rags. Mop handles. Gallon\n",
    "of Windex. Stuff like that. Drives up in a Toyota pickup. Black shiny\n",
    "deal, all new, big pinche wheels. Very nice. Yeah. Asian dude. Kinda\n",
    "skinny. Short, yeah. But so what? Dark glasses. Cigarette in the mouth.\n",
    "He’s getting out the truck, see. In the parking lot. Big tall dude\n",
    "comes by with a gun. Yeah, a gun. Puts it to his head and says, GIMME\n",
    "THE KEYS! It’s a jacker. Asian dude don’t lose no time, man. No time.\n",
    "Not a doubt. Rams the door closed. wham! Just like that. Slams the door\n",
    "on the jacker’s hand. On the jacker’s gun! Smashes the gun! Smashes the\n",
    "hand. Gun ain’t worth shit. Hand’s worth even less. Jacker loses it\n",
    "bad. He’s crying. Screaming. It’s not over. Asian dude swings the door\n",
    "open. Attacks the jacker. Pushes him up to the wall of Sanitary and\n",
    "beats the shit out. Dude don’t come up to the jacker’s nose. But it\n",
    "don’t matter. Got every trick in the books. Bruce Lee moves. Kick. VAP!\n",
    "WHOP! Damn. Don’t mess with this man. By now Sanitary’s called the\n",
    "police. Crowd’s seen it all. Jacker’s a mess. Blood everywhere. Never\n",
    "seen so much blood. But not a drop on the Asian. Not a drop. Never took\n",
    "off his shades. Never even stopped smoking. Turns over the jacker’s\n",
    "remains to the police. Don’t say nothing. That’s it. Goes into\n",
    "Sanitary. Picks up the mop handles, Windex, rags. Gets in the pickup.\n",
    "He’s gone. That’s it. That’s it.\n",
    "\"\"\""
   ]
  },
  {
   "cell_type": "code",
   "execution_count": 275,
   "metadata": {},
   "outputs": [
    {
     "data": {
      "text/plain": [
       "73"
      ]
     },
     "execution_count": 275,
     "metadata": {},
     "output_type": "execute_result"
    }
   ],
   "source": [
    "num_sents_bobby = bobby.count('.') + bobby.count('!') + bobby.count('?')\n",
    "num_sents_bobby"
   ]
  },
  {
   "cell_type": "code",
   "execution_count": 276,
   "metadata": {},
   "outputs": [
    {
     "data": {
      "text/plain": [
       "12"
      ]
     },
     "execution_count": 276,
     "metadata": {},
     "output_type": "execute_result"
    }
   ],
   "source": [
    "num_commas_bobby = bobby.count(',')\n",
    "num_commas_bobby"
   ]
  },
  {
   "cell_type": "code",
   "execution_count": 277,
   "metadata": {},
   "outputs": [
    {
     "data": {
      "text/plain": [
       "265"
      ]
     },
     "execution_count": 277,
     "metadata": {},
     "output_type": "execute_result"
    }
   ],
   "source": [
    "num_words_bobby = bobby.strip().count(' ')\n",
    "num_words_bobby"
   ]
  },
  {
   "cell_type": "code",
   "execution_count": 278,
   "metadata": {},
   "outputs": [
    {
     "data": {
      "text/plain": [
       "3.6301369863013697"
      ]
     },
     "execution_count": 278,
     "metadata": {},
     "output_type": "execute_result"
    }
   ],
   "source": [
    "# Words per sent\n",
    "wps_bobby = num_words_bobby / num_sents_bobby\n",
    "wps_bobby"
   ]
  },
  {
   "cell_type": "code",
   "execution_count": 279,
   "metadata": {},
   "outputs": [
    {
     "data": {
      "text/plain": [
       "0.1643835616438356"
      ]
     },
     "execution_count": 279,
     "metadata": {},
     "output_type": "execute_result"
    }
   ],
   "source": [
    "# Commas per word\n",
    "cps_bobby = num_commas_bobby / num_sents_bobby\n",
    "cps_bobby"
   ]
  },
  {
   "cell_type": "code",
   "execution_count": 280,
   "metadata": {},
   "outputs": [],
   "source": [
    "##\n",
    "# Compare Rafaela and Bobby:\n",
    "##"
   ]
  },
  {
   "cell_type": "code",
   "execution_count": 281,
   "metadata": {},
   "outputs": [
    {
     "name": "stdout",
     "output_type": "stream",
     "text": [
      "\t Rafaela (ch1 pr1) \t Bobby (ch2 pr1)\n",
      "WPS \t 19.41176470588235 \t 3.6301369863013697\n",
      "CPS \t 1.7647058823529411 \t 0.1643835616438356\n"
     ]
    }
   ],
   "source": [
    "print ('\\t','Rafaela (ch1 pr1)','\\t','Bobby (ch2 pr1)')\n",
    "print('WPS','\\t',wps,'\\t',wps_bobby)\n",
    "print('CPS','\\t',cps,'\\t',cps_bobby)"
   ]
  },
  {
   "cell_type": "code",
   "execution_count": 282,
   "metadata": {},
   "outputs": [],
   "source": [
    "##\n",
    "# @TODO: Run the above statistics on the first paragraph of chapter 3 (Emi)\n",
    "# * find the text file in the jupyter file browser\n",
    "# * click the home button, then corpora > tropic_of_orange > ch3.txt\n",
    "# * copy the first paragraph and create a string for it\n",
    "# * then rerun the procedures above\n",
    "# * and save variables: wps_emi and cps_emi\n",
    "\n"
   ]
  },
  {
   "cell_type": "code",
   "execution_count": 283,
   "metadata": {},
   "outputs": [
    {
     "name": "stdout",
     "output_type": "stream",
     "text": [
      "\t Rafaela (ch1 pr1) \t Bobby (ch2 pr1) \t Emi (ch3)\n"
     ]
    },
    {
     "ename": "NameError",
     "evalue": "name 'wps_emi' is not defined",
     "output_type": "error",
     "traceback": [
      "\u001b[0;31m---------------------------------------------------------------------------\u001b[0m",
      "\u001b[0;31mNameError\u001b[0m                                 Traceback (most recent call last)",
      "\u001b[0;32m<ipython-input-283-c2e75175c709>\u001b[0m in \u001b[0;36m<module>\u001b[0;34m\u001b[0m\n\u001b[1;32m      1\u001b[0m \u001b[0mprint\u001b[0m \u001b[0;34m(\u001b[0m\u001b[0;34m'\\t'\u001b[0m\u001b[0;34m,\u001b[0m\u001b[0;34m'Rafaela (ch1 pr1)'\u001b[0m\u001b[0;34m,\u001b[0m\u001b[0;34m'\\t'\u001b[0m\u001b[0;34m,\u001b[0m\u001b[0;34m'Bobby (ch2 pr1)'\u001b[0m\u001b[0;34m,\u001b[0m\u001b[0;34m'\\t'\u001b[0m\u001b[0;34m,\u001b[0m\u001b[0;34m'Emi (ch3)'\u001b[0m\u001b[0;34m)\u001b[0m\u001b[0;34m\u001b[0m\u001b[0;34m\u001b[0m\u001b[0m\n\u001b[0;32m----> 2\u001b[0;31m \u001b[0mprint\u001b[0m\u001b[0;34m(\u001b[0m\u001b[0;34m'WPS'\u001b[0m\u001b[0;34m,\u001b[0m\u001b[0;34m'\\t'\u001b[0m\u001b[0;34m,\u001b[0m\u001b[0mwps\u001b[0m\u001b[0;34m,\u001b[0m\u001b[0;34m'\\t'\u001b[0m\u001b[0;34m,\u001b[0m\u001b[0mwps_bobby\u001b[0m\u001b[0;34m,\u001b[0m\u001b[0;34m'\\t'\u001b[0m\u001b[0;34m,\u001b[0m\u001b[0mwps_emi\u001b[0m\u001b[0;34m)\u001b[0m\u001b[0;34m\u001b[0m\u001b[0;34m\u001b[0m\u001b[0m\n\u001b[0m\u001b[1;32m      3\u001b[0m \u001b[0mprint\u001b[0m\u001b[0;34m(\u001b[0m\u001b[0;34m'CPS'\u001b[0m\u001b[0;34m,\u001b[0m\u001b[0;34m'\\t'\u001b[0m\u001b[0;34m,\u001b[0m\u001b[0mcps\u001b[0m\u001b[0;34m,\u001b[0m\u001b[0;34m'\\t'\u001b[0m\u001b[0;34m,\u001b[0m\u001b[0mcps_bobby\u001b[0m\u001b[0;34m,\u001b[0m\u001b[0;34m'\\t'\u001b[0m\u001b[0;34m,\u001b[0m\u001b[0mcps_emi\u001b[0m\u001b[0;34m)\u001b[0m\u001b[0;34m\u001b[0m\u001b[0;34m\u001b[0m\u001b[0m\n",
      "\u001b[0;31mNameError\u001b[0m: name 'wps_emi' is not defined"
     ]
    }
   ],
   "source": [
    "print ('\\t','Rafaela (ch1 pr1)','\\t','Bobby (ch2 pr1)','\\t','Emi (ch3)')\n",
    "print('WPS','\\t',wps,'\\t',wps_bobby,'\\t',wps_emi)\n",
    "print('CPS','\\t',cps,'\\t',cps_bobby,'\\t',cps_emi)"
   ]
  },
  {
   "cell_type": "markdown",
   "metadata": {},
   "source": [
    "### `str.index(substr)`\n",
    "\n",
    "Find the index of a substring in a string. Useful for Keywords in Context (KWIC).\n",
    "\n",
    "First let's start small."
   ]
  },
  {
   "cell_type": "code",
   "execution_count": 284,
   "metadata": {},
   "outputs": [
    {
     "data": {
      "text/plain": [
       "9"
      ]
     },
     "execution_count": 284,
     "metadata": {},
     "output_type": "execute_result"
    }
   ],
   "source": [
    "alphabet.index('j')"
   ]
  },
  {
   "cell_type": "code",
   "execution_count": 285,
   "metadata": {},
   "outputs": [
    {
     "data": {
      "text/plain": [
       "'j'"
      ]
     },
     "execution_count": 285,
     "metadata": {},
     "output_type": "execute_result"
    }
   ],
   "source": [
    "alphabet[9]"
   ]
  },
  {
   "cell_type": "code",
   "execution_count": 286,
   "metadata": {},
   "outputs": [
    {
     "data": {
      "text/plain": [
       "'hijkl'"
      ]
     },
     "execution_count": 286,
     "metadata": {},
     "output_type": "execute_result"
    }
   ],
   "source": [
    "alphabet[9-2:9+3]"
   ]
  },
  {
   "cell_type": "code",
   "execution_count": 287,
   "metadata": {},
   "outputs": [
    {
     "data": {
      "text/plain": [
       "'hijkl'"
      ]
     },
     "execution_count": 287,
     "metadata": {},
     "output_type": "execute_result"
    }
   ],
   "source": [
    "# let's abstract from this\n",
    "\n",
    "index = alphabet.index('j')\n",
    "alphabet[index-2:index+3]"
   ]
  },
  {
   "cell_type": "code",
   "execution_count": 288,
   "metadata": {},
   "outputs": [
    {
     "data": {
      "text/plain": [
       "'hijkl'"
      ]
     },
     "execution_count": 288,
     "metadata": {},
     "output_type": "execute_result"
    }
   ],
   "source": [
    "# let's abstract one more time\n",
    "\n",
    "index = alphabet.index('j')\n",
    "radius = 2\n",
    "alphabet[index-radius:index+radius+1]"
   ]
  },
  {
   "cell_type": "markdown",
   "metadata": {},
   "source": [
    "#### Key Words In Context (KWIC)"
   ]
  },
  {
   "cell_type": "code",
   "execution_count": 295,
   "metadata": {},
   "outputs": [
    {
     "data": {
      "text/plain": [
       "706"
      ]
     },
     "execution_count": 295,
     "metadata": {},
     "output_type": "execute_result"
    }
   ],
   "source": [
    "index_crab = rafaela.index('crab')\n",
    "index_crab"
   ]
  },
  {
   "cell_type": "code",
   "execution_count": 296,
   "metadata": {},
   "outputs": [
    {
     "name": "stdout",
     "output_type": "stream",
     "text": [
      "ted insects and tiny animals—moths and\n",
      "spiders, lizards and beetles—collected, their brittle bodies tossed in\n",
      "waves along the floor, a cloudy hush of sandy soil, cobwebs, and human\n",
      "hair. An iguana, a crab, and a mouse. And there was the scorpion,\n",
      "always dead—its fragile back broken in the middle. And the snake that\n",
      "slithered away at the urging of her broom—probably not poisonous, but\n",
      "one never knew\n"
     ]
    }
   ],
   "source": [
    "radius_r = 200\n",
    "\n",
    "print(rafaela[index_crab-radius_r:index_crab+radius_r+1])"
   ]
  },
  {
   "cell_type": "code",
   "execution_count": 297,
   "metadata": {},
   "outputs": [
    {
     "name": "stdout",
     "output_type": "stream",
     "text": [
      "Help on built-in function index:\n",
      "\n",
      "index(...) method of builtins.str instance\n",
      "    S.index(sub[, start[, end]]) -> int\n",
      "    \n",
      "    Return the lowest index in S where substring sub is found, \n",
      "    such that sub is contained within S[start:end].  Optional\n",
      "    arguments start and end are interpreted as in slice notation.\n",
      "    \n",
      "    Raises ValueError when the substring is not found.\n",
      "\n"
     ]
    }
   ],
   "source": [
    "help(rafaela.index)"
   ]
  },
  {
   "cell_type": "code",
   "execution_count": 298,
   "metadata": {},
   "outputs": [
    {
     "data": {
      "text/plain": [
       "1240"
      ]
     },
     "execution_count": 298,
     "metadata": {},
     "output_type": "execute_result"
    }
   ],
   "source": [
    "index_crab2=rafaela.index('crab',index_crab+1)\n",
    "index_crab2"
   ]
  },
  {
   "cell_type": "code",
   "execution_count": 299,
   "metadata": {},
   "outputs": [
    {
     "name": "stdout",
     "output_type": "stream",
     "text": [
      "veranda and into the dark green undergrowth with the same flourish.\n",
      "Occasionally, there was more of one species or the other, but each\n",
      "somehow always made its way back into the house. The iguana, the crab,\n",
      "and the mouse, for example, were always there. Sometimes they were\n",
      "dead; sometimes they were alive. As for the scorpion, it was always\n",
      "dead, but the snake was always alive. On some days, it seeme\n"
     ]
    }
   ],
   "source": [
    "print(rafaela[index_crab2-radius_r:index_crab2+radius_r+1])"
   ]
  },
  {
   "cell_type": "code",
   "execution_count": 303,
   "metadata": {},
   "outputs": [],
   "source": [
    "##\n",
    "# @TODO: Find the first and second instances of 'Windex' in bobby's paragraph\n",
    "#\n",
    "\n"
   ]
  },
  {
   "cell_type": "markdown",
   "metadata": {},
   "source": [
    "## Functions\n",
    "\n",
    "We've been repeating ourselves a lot. Let's write what we've written over as a 'function', a little algorithm or recipe which requires certain input and will deliver certain output.\n",
    "\n",
    "The basic format is:\n",
    "\n",
    "```python\n",
    "def function_name(input):\n",
    "    # do things...\n",
    "    return output\n",
    "```"
   ]
  },
  {
   "cell_type": "markdown",
   "metadata": {},
   "source": [
    "### Demo functions"
   ]
  },
  {
   "cell_type": "code",
   "execution_count": 401,
   "metadata": {},
   "outputs": [],
   "source": [
    "def shout(string):\n",
    "    loud_string = string.upper()\n",
    "    return loud_string"
   ]
  },
  {
   "cell_type": "code",
   "execution_count": 402,
   "metadata": {},
   "outputs": [
    {
     "data": {
      "text/plain": [
       "\"I'M LISTENING!\""
      ]
     },
     "execution_count": 402,
     "metadata": {},
     "output_type": "execute_result"
    }
   ],
   "source": [
    "shout(\"I'm listening!\")"
   ]
  },
  {
   "cell_type": "code",
   "execution_count": 403,
   "metadata": {},
   "outputs": [],
   "source": [
    "def hours2weeks(num_hours):\n",
    "    num_days=num_hours / 24\n",
    "    num_weeks = num_days / 7\n",
    "    return num_weeks"
   ]
  },
  {
   "cell_type": "code",
   "execution_count": 407,
   "metadata": {},
   "outputs": [
    {
     "data": {
      "text/plain": [
       "59.523809523809526"
      ]
     },
     "execution_count": 407,
     "metadata": {},
     "output_type": "execute_result"
    }
   ],
   "source": [
    "hours2weeks(10000)"
   ]
  },
  {
   "cell_type": "code",
   "execution_count": 433,
   "metadata": {},
   "outputs": [],
   "source": [
    "def hours2workweeks(num_hours,num_working_hours=8,num_working_days=5):\n",
    "    num_workdays = num_hours / num_working_hours\n",
    "    num_workweeks = num_workdays / num_working_days\n",
    "    return num_workweeks"
   ]
  },
  {
   "cell_type": "code",
   "execution_count": 435,
   "metadata": {},
   "outputs": [
    {
     "data": {
      "text/plain": [
       "250.0"
      ]
     },
     "execution_count": 435,
     "metadata": {},
     "output_type": "execute_result"
    }
   ],
   "source": [
    "hours2workweeks(10000)"
   ]
  },
  {
   "cell_type": "markdown",
   "metadata": {},
   "source": [
    "### Functions using string slicing"
   ]
  },
  {
   "cell_type": "code",
   "execution_count": 441,
   "metadata": {},
   "outputs": [],
   "source": [
    "def first_n_letters(string,n):\n",
    "    letters = string[:n]\n",
    "    return letters"
   ]
  },
  {
   "cell_type": "code",
   "execution_count": 442,
   "metadata": {},
   "outputs": [
    {
     "data": {
      "text/plain": [
       "'William Sh'"
      ]
     },
     "execution_count": 442,
     "metadata": {},
     "output_type": "execute_result"
    }
   ],
   "source": [
    "first_n_letters(bardname,10)"
   ]
  },
  {
   "cell_type": "code",
   "execution_count": 445,
   "metadata": {},
   "outputs": [],
   "source": [
    "##\n",
    "# @TODO: Write a function that returns your Star Wars name!\n",
    "#\n",
    "# First name: \n",
    "# First 3 letters of your last name\n",
    "# + First 2 letters of your first name\n",
    "#\n",
    "# Last name:\n",
    "# First 2 letters of your mother's maiden name\n",
    "# + First 3 letters of the town you were born in\n",
    "\n",
    "def star_wars_name_gen(first_name, last_name, maiden_name, town_name):\n",
    "    \n",
    "    star_wars_first_name = ''\n",
    "    \n",
    "    star_wars_last_name = ''\n",
    "    \n",
    "    return "
   ]
  },
  {
   "cell_type": "code",
   "execution_count": 446,
   "metadata": {},
   "outputs": [],
   "source": [
    "##\n",
    "# @TODO: Execute the function\n",
    "#\n",
    "# star_wars_name_gen(...)\n",
    "\n"
   ]
  },
  {
   "cell_type": "markdown",
   "metadata": {},
   "source": [
    "### Functions using `str.count()`"
   ]
  },
  {
   "cell_type": "code",
   "execution_count": 334,
   "metadata": {},
   "outputs": [],
   "source": [
    "def get_num_sents(string):\n",
    "    num_sents = string.count('.') + string.count('?') + string.count('!')\n",
    "    return num_sents"
   ]
  },
  {
   "cell_type": "code",
   "execution_count": 335,
   "metadata": {},
   "outputs": [
    {
     "data": {
      "text/plain": [
       "17"
      ]
     },
     "execution_count": 335,
     "metadata": {},
     "output_type": "execute_result"
    }
   ],
   "source": [
    "get_num_sents(rafaela)"
   ]
  },
  {
   "cell_type": "code",
   "execution_count": 336,
   "metadata": {},
   "outputs": [
    {
     "data": {
      "text/plain": [
       "73"
      ]
     },
     "execution_count": 336,
     "metadata": {},
     "output_type": "execute_result"
    }
   ],
   "source": [
    "get_num_sents(bobby)"
   ]
  },
  {
   "cell_type": "code",
   "execution_count": 337,
   "metadata": {},
   "outputs": [],
   "source": [
    "def get_num_words(string):\n",
    "    # @TODO: Is this right?\n",
    "    return string.count(' ')"
   ]
  },
  {
   "cell_type": "code",
   "execution_count": 338,
   "metadata": {},
   "outputs": [
    {
     "data": {
      "text/plain": [
       "330"
      ]
     },
     "execution_count": 338,
     "metadata": {},
     "output_type": "execute_result"
    }
   ],
   "source": [
    "get_num_words(rafaela)"
   ]
  },
  {
   "cell_type": "code",
   "execution_count": 339,
   "metadata": {},
   "outputs": [
    {
     "data": {
      "text/plain": [
       "265"
      ]
     },
     "execution_count": 339,
     "metadata": {},
     "output_type": "execute_result"
    }
   ],
   "source": [
    "get_num_words(bobby)"
   ]
  },
  {
   "cell_type": "code",
   "execution_count": 340,
   "metadata": {},
   "outputs": [],
   "source": [
    "def get_words_per_sent(string):\n",
    "    num_sents = get_num_sents(string)\n",
    "    num_words = get_num_words(string)\n",
    "    return num_words / num_sents"
   ]
  },
  {
   "cell_type": "code",
   "execution_count": 341,
   "metadata": {},
   "outputs": [
    {
     "data": {
      "text/plain": [
       "19.41176470588235"
      ]
     },
     "execution_count": 341,
     "metadata": {},
     "output_type": "execute_result"
    }
   ],
   "source": [
    "get_words_per_sent(rafaela)"
   ]
  },
  {
   "cell_type": "code",
   "execution_count": 447,
   "metadata": {},
   "outputs": [
    {
     "data": {
      "text/plain": [
       "3.6301369863013697"
      ]
     },
     "execution_count": 447,
     "metadata": {},
     "output_type": "execute_result"
    }
   ],
   "source": [
    "get_words_per_sent(bobby)"
   ]
  },
  {
   "cell_type": "code",
   "execution_count": 459,
   "metadata": {},
   "outputs": [],
   "source": [
    "##\n",
    "# @TODO: Write your own function counting something interesting about a text\n",
    "#\n",
    "# e.g. count the animals in a text? count the exclamation marks?\n",
    "# return as raw count or as a ratio of num words (or some other stat)\n",
    "#\n",
    "def my_interesting_calculation(string):\n",
    "    return output"
   ]
  },
  {
   "cell_type": "markdown",
   "metadata": {},
   "source": [
    "### Functions using `str.index()`"
   ]
  },
  {
   "cell_type": "code",
   "execution_count": 450,
   "metadata": {},
   "outputs": [],
   "source": [
    "# let's abstract one last time!\n",
    "def kwic(string,substring,offset=0,radius=100):\n",
    "    index = string.index(substring,offset+1)\n",
    "    print(string[index-radius:index+radius+1])\n",
    "    return index"
   ]
  },
  {
   "cell_type": "code",
   "execution_count": 451,
   "metadata": {},
   "outputs": [
    {
     "name": "stdout",
     "output_type": "stream",
     "text": [
      "es up to Sanitary. Makes\n",
      "a pickup like always. You know. Paper towels. Rags. Mop handles. Gallon\n",
      "of Windex. Stuff like that. Drives up in a Toyota pickup. Black shiny\n",
      "deal, all new, big pinche wheels. \n"
     ]
    },
    {
     "data": {
      "text/plain": [
       "217"
      ]
     },
     "execution_count": 451,
     "metadata": {},
     "output_type": "execute_result"
    }
   ],
   "source": [
    "kwic(bobby,'Windex')"
   ]
  },
  {
   "cell_type": "code",
   "execution_count": 452,
   "metadata": {},
   "outputs": [
    {
     "name": "stdout",
     "output_type": "stream",
     "text": [
      "\n",
      "remains to the police. Don’t say nothing. That’s it. Goes into\n",
      "Sanitary. Picks up the mop handles, Windex, rags. Gets in the pickup.\n",
      "He’s gone. That’s it. That’s it.\n",
      "\n"
     ]
    },
    {
     "data": {
      "text/plain": [
       "1499"
      ]
     },
     "execution_count": 452,
     "metadata": {},
     "output_type": "execute_result"
    }
   ],
   "source": [
    "kwic(bobby,'Windex',217)"
   ]
  },
  {
   "cell_type": "code",
   "execution_count": 453,
   "metadata": {},
   "outputs": [
    {
     "name": "stdout",
     "output_type": "stream",
     "text": [
      "An iguana, a crab, and a mouse. And there was the scorpion,\n",
      "always dead—its fragile back broken in th\n"
     ]
    }
   ],
   "source": [
    "index_first_match_r = kwic(rafaela,'scorpion',radius=50)"
   ]
  },
  {
   "cell_type": "code",
   "execution_count": 457,
   "metadata": {},
   "outputs": [
    {
     "name": "stdout",
     "output_type": "stream",
     "text": [
      " were\n",
      "dead; sometimes they were alive. As for the scorpion, it was always\n",
      "dead, but the snake was alw\n"
     ]
    }
   ],
   "source": [
    "index_second_match_r = kwic(rafaela,'scorpion',index_first_match_r,radius=50)"
   ]
  },
  {
   "cell_type": "code",
   "execution_count": 458,
   "metadata": {},
   "outputs": [],
   "source": [
    "## \n",
    "# @TODO: Find the third instance of 'dead' in Rafaela's first paragraph\n",
    "#\n",
    "#"
   ]
  },
  {
   "cell_type": "markdown",
   "metadata": {},
   "source": [
    "## Files\n",
    "\n",
    "We've been working a lot with strings. But where have these strings come from? So far they've just been manually entered, whether by me, you, or from a copy/paste of a text."
   ]
  },
  {
   "cell_type": "code",
   "execution_count": null,
   "metadata": {},
   "outputs": [],
   "source": []
  }
 ],
 "metadata": {
  "kernelspec": {
   "display_name": "Python 3",
   "language": "python",
   "name": "python3"
  },
  "language_info": {
   "codemirror_mode": {
    "name": "ipython",
    "version": 3
   },
   "file_extension": ".py",
   "mimetype": "text/x-python",
   "name": "python",
   "nbconvert_exporter": "python",
   "pygments_lexer": "ipython3",
   "version": "3.7.1"
  }
 },
 "nbformat": 4,
 "nbformat_minor": 2
}
