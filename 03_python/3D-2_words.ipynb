{
 "cells": [
  {
   "cell_type": "markdown",
   "metadata": {},
   "source": [
    "# (3D) Lists and words\n",
    "## (3D-2) Words\n",
    "\n",
    "In this notebook, we'll learn:\n",
    "\n",
    "* How to split texts (strings) into **words** (lists)\n",
    "* How to use the **Natural Language Toolkit (NLTK)**, a Python module\n",
    "* How to calculate **Type-Token Ratio**\n",
    "\n",
    "## Tokenization"
   ]
  },
  {
   "cell_type": "markdown",
   "metadata": {},
   "source": [
    "How do we move from strings of characters to lists of words? How do we move from\n",
    "\n",
    "```python\n",
    "text_as_string = \"Perhaps people thought that doom could be pushed forward and away...\"\n",
    "```\n",
    "\n",
    "to\n",
    "\n",
    "```python\n",
    "text_as_list = ['Perhaps', 'people', 'thought', 'that', 'doom', 'could', 'be', 'pushed', 'forward', 'and', 'away', '...']\n",
    "```\n",
    "\n",
    "This process is called **tokenization** and is a major part of all natural language processing."
   ]
  },
  {
   "cell_type": "markdown",
   "metadata": {},
   "source": [
    "### `string.split()`\n",
    "\n",
    "The simplest way to tokenize a string is to use a built-in method of strings called `split()`."
   ]
  },
  {
   "cell_type": "code",
   "execution_count": 4,
   "metadata": {},
   "outputs": [
    {
     "name": "stdout",
     "output_type": "stream",
     "text": [
      "['Perhaps', 'people', 'thought', 'that', 'doom', 'could', 'be', 'pushed', 'forward', 'and', 'away', '...']\n"
     ]
    }
   ],
   "source": [
    "# Split text_as_string and turn it into a list\n",
    "text_as_string = \"      Perhaps people thought that doom could be pushed forward and away ...   \"\n",
    "\n",
    "# Split!\n",
    "text_as_list = text_as_string.split()\n",
    "\n",
    "# print\n",
    "print(text_as_list)"
   ]
  },
  {
   "cell_type": "code",
   "execution_count": 6,
   "metadata": {},
   "outputs": [
    {
     "name": "stdout",
     "output_type": "stream",
     "text": [
      "Length of text_as_string: 78\n",
      "Length of text_as_list: 12\n"
     ]
    }
   ],
   "source": [
    "# We now have a new way of counting words!\n",
    "\n",
    "# print the length of the STRING (measured in CHARACTERS)\n",
    "print('Length of text_as_string:', len(text_as_string) )\n",
    "\n",
    "# print the length of the LIST (measured in \"ELEMENTS\" [here, words])\n",
    "print('Length of text_as_list:', len(text_as_list) )"
   ]
  },
  {
   "cell_type": "code",
   "execution_count": 8,
   "metadata": {},
   "outputs": [
    {
     "name": "stdout",
     "output_type": "stream",
     "text": [
      "['Letter', 'came', 'today.', 'Go', 'figure.', 'Never', 'heard', 'of', 'this', 'cousin,', 'but', 'he’s', 'got', 'it', 'all', 'right:', 'name', 'of', 'Bobby’s', 'dad,', 'name', 'of', 'his', 'mom,', 'name', 'of', 'his', 'uncles.', 'Bobby', 'reads', 'it', 'again.', 'Reads', 'it', 'three', 'times.', 'Cousin', 'from', 'Hong', 'Tian', 'in', 'Fujian,', 'same', 'village', 'as', 'his', 'mother’s', 'father.', 'Gotta', 'be', 'a', 'distant', 'cousin.', 'Could', 'be', 'a', 'trick,', 'but', 'could', 'be', 'legit.', 'Besides,', 'how’d', 'he', 'find', 'him?', 'How’d', 'he', 'know', 'Bobby', 'was', 'Chinese', 'from', 'Singapore?', 'Knows', 'everything.', 'Knows', 'Bobby’s', 'Chinese', 'name.', 'Knows', 'about', 'the', 'family', 'bicycle', 'business.', 'Cousin’s', 'in', 'trouble.', 'Musta', 'got', 'smuggled', 'in.', 'One', 'of', 'those', 'boat', 'people.', 'Most', 'never', 'make', 'it.', 'This', 'one', 'might', 'not', 'either.', 'All', 'he’s', 'got', 'is', 'Bobby’s', 'name', 'and', 'address.', 'Now', 'the', 'smugglers', 'want', 'their', 'money.', 'But', 'where’s', 'the', 'cousin?', 'Tijuana.', 'Just', 'turn', 'over', 'the', 'money.', 'Five', 'thou', 'to', 'get', 'the', 'cousin', 'across.', 'If', 'he', 'makes', 'it,', 'five', 'thou', 'to', 'get', 'him', 'free.', 'China', 'to', 'Chinatown.', 'That’s', 'the', 'deal.']\n"
     ]
    },
    {
     "data": {
      "text/plain": [
       "154"
      ]
     },
     "execution_count": 8,
     "metadata": {},
     "output_type": "execute_result"
    }
   ],
   "source": [
    "## @TODO:\n",
    "# Split Bobby's first paragraph (from his second chapter [chapter 12])\n",
    "# Then count the number of words\n",
    "#\n",
    "\n",
    "bobby=\"\"\"Letter came today. Go figure. Never heard of this cousin, but he’s got it all right: name of Bobby’s dad, name of his mom, name of his uncles. Bobby reads it again. Reads it three times. Cousin from Hong Tian in Fujian, same village as his mother’s father. Gotta be a distant cousin. Could be a trick, but could be legit. Besides, how’d he find him? How’d he know Bobby was Chinese from Singapore? Knows everything. Knows Bobby’s Chinese name. Knows about the family bicycle business. Cousin’s in trouble. Musta got smuggled in. One of those boat people. Most never make it. This one might not either. All he’s got is Bobby’s name and address. Now the smugglers want their money. But where’s the cousin? Tijuana. Just turn over the money. Five thou to get the cousin across. If he makes it, five thou to get him free. China to Chinatown. That’s the deal.\"\"\"\n",
    "\n",
    "bobby_list = bobby.split()\n",
    "\n",
    "print(bobby_list)\n",
    "len(bobby_list)"
   ]
  },
  {
   "cell_type": "code",
   "execution_count": 10,
   "metadata": {},
   "outputs": [
    {
     "name": "stdout",
     "output_type": "stream",
     "text": [
      "['Letter', 'came', 'today.']\n",
      "['That’s', 'the', 'deal.']\n"
     ]
    }
   ],
   "source": [
    "# @TODO:\n",
    "# Print the first three words from Bobby's paragraph [using the list you made]\n",
    "# Print the last three words from Bobby's paragraph [using the list you made]\n",
    "#\n",
    "\n",
    "print(bobby_list[:3])\n",
    "print(bobby_list[-3:])"
   ]
  },
  {
   "cell_type": "markdown",
   "metadata": {},
   "source": [
    "### Writing our own tokenizer\n",
    "\n",
    "Let's write our own tokenizer—as a function!"
   ]
  },
  {
   "cell_type": "code",
   "execution_count": 35,
   "metadata": {},
   "outputs": [],
   "source": [
    "def tokenize(string):\n",
    "    \"\"\"\n",
    "    This function will accept a string as an argument,\n",
    "    and return a list of its tokens.\n",
    "    \"\"\"\n",
    "    \n",
    "    #@TODO: Finish this function\n",
    "    string = string.replace('--',' -- ')\n",
    "    string = string.replace('?',' ? ')\n",
    "    string = string.replace('!',' ! ')\n",
    "    \n",
    "    \n",
    "    return string.split()"
   ]
  },
  {
   "cell_type": "code",
   "execution_count": 48,
   "metadata": {},
   "outputs": [],
   "source": [
    "def tokenize_without_punct(string):\n",
    "    \"\"\"\n",
    "    This function will accept a string as an argument,\n",
    "    and return a list of its tokens,\n",
    "    WITHOUT PUNCTUATION.\n",
    "    \"\"\"\n",
    "    \n",
    "    #@TODO: Finish this function\n",
    "    string = string.replace('--',' ')\n",
    "    string = string.replace('?','')\n",
    "    string = string.replace('!','')\n",
    "    string = string.replace('.','')\n",
    "    \n",
    "    \n",
    "    return string.split()"
   ]
  },
  {
   "cell_type": "code",
   "execution_count": 49,
   "metadata": {},
   "outputs": [],
   "source": [
    "# def tokenize2(string):\n",
    "#     tokens = string.split()\n",
    "#     for token in tokens:\n",
    "#         if not token[-1].isalpha():\n",
    "#             token=token[:-1]"
   ]
  },
  {
   "cell_type": "code",
   "execution_count": 50,
   "metadata": {},
   "outputs": [
    {
     "name": "stdout",
     "output_type": "stream",
     "text": [
      "Help on function tokenize_without_punct in module __main__:\n",
      "\n",
      "tokenize_without_punct(string)\n",
      "    This function will accept a string as an argument,\n",
      "    and return a list of its tokens,\n",
      "    WITHOUT PUNCTUATION.\n",
      "\n"
     ]
    }
   ],
   "source": [
    "help(tokenize_without_punct)"
   ]
  },
  {
   "cell_type": "code",
   "execution_count": 51,
   "metadata": {},
   "outputs": [
    {
     "data": {
      "text/plain": [
       "['How', 'many', 'words', 'words', 'I', 'say', 'are', 'in', 'this', 'string']"
      ]
     },
     "execution_count": 51,
     "metadata": {},
     "output_type": "execute_result"
    }
   ],
   "source": [
    "test_str='How many words--words I say!--are in this string?'\n",
    "\n",
    "tokenize_without_punct(test_str)"
   ]
  },
  {
   "cell_type": "code",
   "execution_count": 52,
   "metadata": {},
   "outputs": [
    {
     "data": {
      "text/plain": [
       "['Letter',\n",
       " 'came',\n",
       " 'today',\n",
       " 'Go',\n",
       " 'figure',\n",
       " 'Never',\n",
       " 'heard',\n",
       " 'of',\n",
       " 'this',\n",
       " 'cousin,',\n",
       " 'but',\n",
       " 'he’s',\n",
       " 'got',\n",
       " 'it',\n",
       " 'all',\n",
       " 'right:',\n",
       " 'name',\n",
       " 'of',\n",
       " 'Bobby’s',\n",
       " 'dad,',\n",
       " 'name',\n",
       " 'of',\n",
       " 'his',\n",
       " 'mom,',\n",
       " 'name',\n",
       " 'of',\n",
       " 'his',\n",
       " 'uncles',\n",
       " 'Bobby',\n",
       " 'reads',\n",
       " 'it',\n",
       " 'again',\n",
       " 'Reads',\n",
       " 'it',\n",
       " 'three',\n",
       " 'times',\n",
       " 'Cousin',\n",
       " 'from',\n",
       " 'Hong',\n",
       " 'Tian',\n",
       " 'in',\n",
       " 'Fujian,',\n",
       " 'same',\n",
       " 'village',\n",
       " 'as',\n",
       " 'his',\n",
       " 'mother’s',\n",
       " 'father',\n",
       " 'Gotta',\n",
       " 'be',\n",
       " 'a',\n",
       " 'distant',\n",
       " 'cousin',\n",
       " 'Could',\n",
       " 'be',\n",
       " 'a',\n",
       " 'trick,',\n",
       " 'but',\n",
       " 'could',\n",
       " 'be',\n",
       " 'legit',\n",
       " 'Besides,',\n",
       " 'how’d',\n",
       " 'he',\n",
       " 'find',\n",
       " 'him',\n",
       " 'How’d',\n",
       " 'he',\n",
       " 'know',\n",
       " 'Bobby',\n",
       " 'was',\n",
       " 'Chinese',\n",
       " 'from',\n",
       " 'Singapore',\n",
       " 'Knows',\n",
       " 'everything',\n",
       " 'Knows',\n",
       " 'Bobby’s',\n",
       " 'Chinese',\n",
       " 'name',\n",
       " 'Knows',\n",
       " 'about',\n",
       " 'the',\n",
       " 'family',\n",
       " 'bicycle',\n",
       " 'business',\n",
       " 'Cousin’s',\n",
       " 'in',\n",
       " 'trouble',\n",
       " 'Musta',\n",
       " 'got',\n",
       " 'smuggled',\n",
       " 'in',\n",
       " 'One',\n",
       " 'of',\n",
       " 'those',\n",
       " 'boat',\n",
       " 'people',\n",
       " 'Most',\n",
       " 'never',\n",
       " 'make',\n",
       " 'it',\n",
       " 'This',\n",
       " 'one',\n",
       " 'might',\n",
       " 'not',\n",
       " 'either',\n",
       " 'All',\n",
       " 'he’s',\n",
       " 'got',\n",
       " 'is',\n",
       " 'Bobby’s',\n",
       " 'name',\n",
       " 'and',\n",
       " 'address',\n",
       " 'Now',\n",
       " 'the',\n",
       " 'smugglers',\n",
       " 'want',\n",
       " 'their',\n",
       " 'money',\n",
       " 'But',\n",
       " 'where’s',\n",
       " 'the',\n",
       " 'cousin',\n",
       " 'Tijuana',\n",
       " 'Just',\n",
       " 'turn',\n",
       " 'over',\n",
       " 'the',\n",
       " 'money',\n",
       " 'Five',\n",
       " 'thou',\n",
       " 'to',\n",
       " 'get',\n",
       " 'the',\n",
       " 'cousin',\n",
       " 'across',\n",
       " 'If',\n",
       " 'he',\n",
       " 'makes',\n",
       " 'it,',\n",
       " 'five',\n",
       " 'thou',\n",
       " 'to',\n",
       " 'get',\n",
       " 'him',\n",
       " 'free',\n",
       " 'China',\n",
       " 'to',\n",
       " 'Chinatown',\n",
       " 'That’s',\n",
       " 'the',\n",
       " 'deal']"
      ]
     },
     "execution_count": 52,
     "metadata": {},
     "output_type": "execute_result"
    }
   ],
   "source": [
    "tokenize_without_punct(bobby)"
   ]
  },
  {
   "cell_type": "code",
   "execution_count": 56,
   "metadata": {},
   "outputs": [
    {
     "name": "stdout",
     "output_type": "stream",
     "text": [
      "/Users/ryan/Dropbox/PHD/Teaching/Literary Text Mining/literarytextmining/03_python\n"
     ]
    }
   ],
   "source": [
    "## @TODO: Load one of your texts and tokenize it\n",
    "#\n",
    "\n",
    "!pwd\n",
    "\n",
    "with open('../corpora/my_corpus/texts/ryans_diss_chap3.txt') as file:\n",
    "    my_text = file.read()"
   ]
  },
  {
   "cell_type": "code",
   "execution_count": 58,
   "metadata": {},
   "outputs": [],
   "source": [
    "my_tokens = tokenize(my_text)"
   ]
  },
  {
   "cell_type": "code",
   "execution_count": 61,
   "metadata": {},
   "outputs": [],
   "source": [
    "#my_tokens[:100]"
   ]
  },
  {
   "cell_type": "markdown",
   "metadata": {},
   "source": [
    "### Using NLTK's tokenizer\n",
    "\n",
    "Writing tokenizers is tricky! We don't have to reinvent the wheel. A great source for natural language processing (NLP) functions, written in Python, is [NLTK](http://www.nltk.org/). There's also a [free online book](http://www.nltk.org/book/) teaching you NLP in Python with NLTK—check that out for more information and a ton of helpful tutorials and information."
   ]
  },
  {
   "cell_type": "code",
   "execution_count": 64,
   "metadata": {},
   "outputs": [],
   "source": [
    "# Import NLTK. If this doesn't work, open terminal and type: pip install nltk\n",
    "import nltk\n",
    "\n",
    "test_str = \" Hi. I would like 2 bananas. 40$ heuser@emaier\""
   ]
  },
  {
   "cell_type": "code",
   "execution_count": 65,
   "metadata": {},
   "outputs": [
    {
     "data": {
      "text/plain": [
       "['Hi',\n",
       " '.',\n",
       " 'I',\n",
       " 'would',\n",
       " 'like',\n",
       " '2',\n",
       " 'bananas',\n",
       " '.',\n",
       " '40',\n",
       " '$',\n",
       " 'heuser',\n",
       " '@',\n",
       " 'emaier']"
      ]
     },
     "execution_count": 65,
     "metadata": {},
     "output_type": "execute_result"
    }
   ],
   "source": [
    "nltk.word_tokenize(test_str)"
   ]
  },
  {
   "cell_type": "code",
   "execution_count": 66,
   "metadata": {},
   "outputs": [
    {
     "data": {
      "text/plain": [
       "['A', 'word—any', 'word—is', 'a', 'whole', 'world', '.']"
      ]
     },
     "execution_count": 66,
     "metadata": {},
     "output_type": "execute_result"
    }
   ],
   "source": [
    "# NLTK still misses a few things:\n",
    "\n",
    "nltk.word_tokenize('A word—any word—is a whole world.')"
   ]
  },
  {
   "cell_type": "code",
   "execution_count": 73,
   "metadata": {},
   "outputs": [],
   "source": [
    "# We could improve NLTK's tokenizer\n",
    "\n",
    "def tokenize2(string):\n",
    "    \"\"\"\n",
    "    This function will accept a string as an argument,\n",
    "    and return a list of its tokens.\n",
    "    \n",
    "    It will use NLTK's word_tokenize() function as its main process.\n",
    "    But it will also clean up the string *before* passing it to word_tokenize().\n",
    "    \"\"\"\n",
    "    \n",
    "    #@TODO: Finish this function\n",
    "    string = string.replace('—', ' — ')\n",
    "    return nltk.word_tokenize(string)\n"
   ]
  },
  {
   "cell_type": "code",
   "execution_count": 74,
   "metadata": {},
   "outputs": [
    {
     "data": {
      "text/plain": [
       "['Hi',\n",
       " '.',\n",
       " 'I',\n",
       " 'would',\n",
       " 'like',\n",
       " '2',\n",
       " 'bananas',\n",
       " '.',\n",
       " '40',\n",
       " '$',\n",
       " 'heuser',\n",
       " '@',\n",
       " 'emaier']"
      ]
     },
     "execution_count": 74,
     "metadata": {},
     "output_type": "execute_result"
    }
   ],
   "source": [
    "tokenize2(test_str)"
   ]
  },
  {
   "cell_type": "code",
   "execution_count": 75,
   "metadata": {},
   "outputs": [
    {
     "data": {
      "text/plain": [
       "['A', 'word', '—', 'any', 'word', '—', 'is', 'a', 'whole', 'world', '.']"
      ]
     },
     "execution_count": 75,
     "metadata": {},
     "output_type": "execute_result"
    }
   ],
   "source": [
    "tokenize2('A word—any word—is a whole world.')"
   ]
  },
  {
   "cell_type": "markdown",
   "metadata": {},
   "source": [
    "## Type/Token Ratio\n",
    "\n",
    "A common statistic in corpus linguistics/text mining is the type token ratio (TTR). It is defined simply by\n",
    "\n",
    "    TTR = (# of word types) / (# of word tokens)\n",
    "    \n",
    "Where\n",
    "\n",
    "* \\# of word **types** = the number of *unique* words in a list of words\n",
    "* \\# of word **tokens** = the number of *all* words, including repeated words; \n"
   ]
  },
  {
   "cell_type": "code",
   "execution_count": 79,
   "metadata": {},
   "outputs": [
    {
     "data": {
      "text/plain": [
       "154"
      ]
     },
     "execution_count": 79,
     "metadata": {},
     "output_type": "execute_result"
    }
   ],
   "source": [
    "## @TODO: Get the number of tokens for Bobby's paragraph\n",
    "#\n",
    "\n",
    "num_tokens_bobby = len(bobby_list)\n",
    "num_tokens_bobby"
   ]
  },
  {
   "cell_type": "code",
   "execution_count": 80,
   "metadata": {},
   "outputs": [
    {
     "data": {
      "text/plain": [
       "['Letter',\n",
       " 'came',\n",
       " 'today.',\n",
       " 'Go',\n",
       " 'figure.',\n",
       " 'Never',\n",
       " 'heard',\n",
       " 'of',\n",
       " 'this',\n",
       " 'cousin,',\n",
       " 'but',\n",
       " 'he’s',\n",
       " 'got',\n",
       " 'it',\n",
       " 'all',\n",
       " 'right:',\n",
       " 'name',\n",
       " 'of',\n",
       " 'Bobby’s',\n",
       " 'dad,',\n",
       " 'name',\n",
       " 'of',\n",
       " 'his',\n",
       " 'mom,',\n",
       " 'name',\n",
       " 'of',\n",
       " 'his',\n",
       " 'uncles.',\n",
       " 'Bobby',\n",
       " 'reads',\n",
       " 'it',\n",
       " 'again.',\n",
       " 'Reads',\n",
       " 'it',\n",
       " 'three',\n",
       " 'times.',\n",
       " 'Cousin',\n",
       " 'from',\n",
       " 'Hong',\n",
       " 'Tian',\n",
       " 'in',\n",
       " 'Fujian,',\n",
       " 'same',\n",
       " 'village',\n",
       " 'as',\n",
       " 'his',\n",
       " 'mother’s',\n",
       " 'father.',\n",
       " 'Gotta',\n",
       " 'be',\n",
       " 'a',\n",
       " 'distant',\n",
       " 'cousin.',\n",
       " 'Could',\n",
       " 'be',\n",
       " 'a',\n",
       " 'trick,',\n",
       " 'but',\n",
       " 'could',\n",
       " 'be',\n",
       " 'legit.',\n",
       " 'Besides,',\n",
       " 'how’d',\n",
       " 'he',\n",
       " 'find',\n",
       " 'him?',\n",
       " 'How’d',\n",
       " 'he',\n",
       " 'know',\n",
       " 'Bobby',\n",
       " 'was',\n",
       " 'Chinese',\n",
       " 'from',\n",
       " 'Singapore?',\n",
       " 'Knows',\n",
       " 'everything.',\n",
       " 'Knows',\n",
       " 'Bobby’s',\n",
       " 'Chinese',\n",
       " 'name.',\n",
       " 'Knows',\n",
       " 'about',\n",
       " 'the',\n",
       " 'family',\n",
       " 'bicycle',\n",
       " 'business.',\n",
       " 'Cousin’s',\n",
       " 'in',\n",
       " 'trouble.',\n",
       " 'Musta',\n",
       " 'got',\n",
       " 'smuggled',\n",
       " 'in.',\n",
       " 'One',\n",
       " 'of',\n",
       " 'those',\n",
       " 'boat',\n",
       " 'people.',\n",
       " 'Most',\n",
       " 'never',\n",
       " 'make',\n",
       " 'it.',\n",
       " 'This',\n",
       " 'one',\n",
       " 'might',\n",
       " 'not',\n",
       " 'either.',\n",
       " 'All',\n",
       " 'he’s',\n",
       " 'got',\n",
       " 'is',\n",
       " 'Bobby’s',\n",
       " 'name',\n",
       " 'and',\n",
       " 'address.',\n",
       " 'Now',\n",
       " 'the',\n",
       " 'smugglers',\n",
       " 'want',\n",
       " 'their',\n",
       " 'money.',\n",
       " 'But',\n",
       " 'where’s',\n",
       " 'the',\n",
       " 'cousin?',\n",
       " 'Tijuana.',\n",
       " 'Just',\n",
       " 'turn',\n",
       " 'over',\n",
       " 'the',\n",
       " 'money.',\n",
       " 'Five',\n",
       " 'thou',\n",
       " 'to',\n",
       " 'get',\n",
       " 'the',\n",
       " 'cousin',\n",
       " 'across.',\n",
       " 'If',\n",
       " 'he',\n",
       " 'makes',\n",
       " 'it,',\n",
       " 'five',\n",
       " 'thou',\n",
       " 'to',\n",
       " 'get',\n",
       " 'him',\n",
       " 'free.',\n",
       " 'China',\n",
       " 'to',\n",
       " 'Chinatown.',\n",
       " 'That’s',\n",
       " 'the',\n",
       " 'deal.']"
      ]
     },
     "execution_count": 80,
     "metadata": {},
     "output_type": "execute_result"
    }
   ],
   "source": [
    "bobby_list"
   ]
  },
  {
   "cell_type": "code",
   "execution_count": 77,
   "metadata": {},
   "outputs": [
    {
     "name": "stdout",
     "output_type": "stream",
     "text": [
      "Hamlet as a list: ['to', 'be', 'or', 'not', 'to', 'be']\n",
      "Hamlet as a SET: {'be', 'to', 'or', 'not'}\n"
     ]
    }
   ],
   "source": [
    "# To get the types, we use the SET data type\n",
    "\n",
    "the_question_as_list = ['to','be','or','not','to','be']\n",
    "the_question_as_set = set(the_question_as_list)\n",
    "\n",
    "print('Hamlet as a list:',the_question_as_list)\n",
    "print('Hamlet as a SET:', the_question_as_set)"
   ]
  },
  {
   "cell_type": "code",
   "execution_count": 82,
   "metadata": {},
   "outputs": [
    {
     "data": {
      "text/plain": [
       "116"
      ]
     },
     "execution_count": 82,
     "metadata": {},
     "output_type": "execute_result"
    }
   ],
   "source": [
    "## @TODO: Get the number of types for Bobby's paragraph\n",
    "#\n",
    "\n",
    "bobby_set = set(bobby_list)\n",
    "\n",
    "num_types_bobby = len(bobby_set)\n",
    "num_types_bobby"
   ]
  },
  {
   "cell_type": "code",
   "execution_count": 83,
   "metadata": {},
   "outputs": [
    {
     "data": {
      "text/plain": [
       "0.7532467532467533"
      ]
     },
     "execution_count": 83,
     "metadata": {},
     "output_type": "execute_result"
    }
   ],
   "source": [
    "## @TODO: Print the TTR for Bobby's paragraph\n",
    "#\n",
    "\n",
    "ttr_bobby = num_types_bobby / num_tokens_bobby\n",
    "ttr_bobby"
   ]
  },
  {
   "cell_type": "code",
   "execution_count": null,
   "metadata": {},
   "outputs": [],
   "source": [
    "## @TODO: Write a function to calculate the TTR from any *STRING*\n",
    "#\n"
   ]
  },
  {
   "cell_type": "markdown",
   "metadata": {},
   "source": [
    "## Other NLTK Goodies"
   ]
  },
  {
   "cell_type": "code",
   "execution_count": 84,
   "metadata": {},
   "outputs": [],
   "source": [
    "# Open Rafaela's chapter\n",
    "\n",
    "with open('../corpora/tropic_of_orange/texts/ch01.txt') as file:\n",
    "    rafaela_str = file.read()"
   ]
  },
  {
   "cell_type": "code",
   "execution_count": 86,
   "metadata": {},
   "outputs": [],
   "source": [
    "# Tokenize Rafaela\n",
    "\n",
    "rafaela_tokens = nltk.word_tokenize(rafaela_str.lower())"
   ]
  },
  {
   "cell_type": "code",
   "execution_count": 88,
   "metadata": {},
   "outputs": [],
   "source": [
    "# Make an NLTK text object\n",
    "\n",
    "rafaela_nltk = nltk.Text(rafaela_tokens)"
   ]
  },
  {
   "cell_type": "markdown",
   "metadata": {},
   "source": [
    "### Concordances"
   ]
  },
  {
   "cell_type": "code",
   "execution_count": 89,
   "metadata": {},
   "outputs": [
    {
     "name": "stdout",
     "output_type": "stream",
     "text": [
      "Displaying 4 of 4 matches:\n",
      "ebs , and human hair . an iguana , a crab , and a mouse . and there was the sc\n",
      "ck into the house . the iguana , the crab , and the mouse , for example , were\n",
      "jamming the gears with pieces of the crab , not to mention everything else , a\n",
      "volkswagen van . the story about the crab seemed unlikely . his land was much \n"
     ]
    }
   ],
   "source": [
    "rafaela_nltk.concordance('crab')"
   ]
  },
  {
   "cell_type": "code",
   "execution_count": 90,
   "metadata": {},
   "outputs": [
    {
     "name": "stdout",
     "output_type": "stream",
     "text": [
      "Displaying 18 of 18 matches:\n",
      " . a sweet gooey marmalade from his orange trees , perhaps . but perhaps not .\n",
      "de eight years ago . it was a navel orange tree , maybe the descendent of the \n",
      " detail gabriel liked . bringing an orange tree ( no matter that it was probab\n",
      "ee was a sorry one , and so was the orange . rafaela knew it was an orange tha\n",
      "the orange . rafaela knew it was an orange that should not have been . it was \n",
      "afaela somehow felt this particular orange was special . perhaps it was her de\n",
      "on , she found herself watching the orange , wandering out to the tree every d\n",
      "n and beyond . in the days when the orange was a blossom of soft petals , its \n",
      "ed her . she had passed beneath the orange several times , drawn to its sweet \n",
      "r with pleasure . and when the baby orange appeared , it seemed to grasp that \n",
      "uld be a parent . as expected , the orange did not grow to be very big or seem\n",
      "nd sol walked hand in hand past the orange tree , careful not to disturb the l\n",
      "lstice . she glanced briefly at the orange with some satisfaction and hurried \n",
      "h . rafaela glanced back toward the orange tree and the single orange , sudden\n",
      "ward the orange tree and the single orange , suddenly aware of the only possib\n",
      "eat ball of fire directly above the orange tree . it seemed even to point at t\n",
      "tree , at the strange line , at the orange itself . rafaela ran after sol into\n",
      "usea . she did not realize that the orange had fallen irresistibly from a heig\n"
     ]
    }
   ],
   "source": [
    "rafaela_nltk.concordance('orange')"
   ]
  },
  {
   "cell_type": "code",
   "execution_count": null,
   "metadata": {},
   "outputs": [],
   "source": [
    "## @TODO:\n",
    "# - Load one of your texts\n",
    "# - Make a concordance for a word of interest\n",
    "#\n",
    "\n"
   ]
  },
  {
   "cell_type": "markdown",
   "metadata": {},
   "source": [
    "### Dispersion plots"
   ]
  },
  {
   "cell_type": "code",
   "execution_count": 92,
   "metadata": {},
   "outputs": [
    {
     "data": {
      "image/png": "[encoded data removed]",
      "text/plain": [
       "<Figure size 432x288 with 1 Axes>"
      ]
     },
     "metadata": {
      "needs_background": "light"
     },
     "output_type": "display_data"
    }
   ],
   "source": [
    "# Re-run this line if the figure doesn't show up the first time\n",
    "\n",
    "rafaela_nltk.dispersion_plot(['crab','iguana','orange','tropic'])"
   ]
  },
  {
   "cell_type": "code",
   "execution_count": null,
   "metadata": {},
   "outputs": [],
   "source": [
    "## @TODO:\n",
    "# - Load one of your texts\n",
    "# - Make a dispersion plot for a few words of interest\n",
    "#\n"
   ]
  }
 ],
 "metadata": {
  "kernelspec": {
   "display_name": "Python 3",
   "language": "python",
   "name": "python3"
  },
  "language_info": {
   "codemirror_mode": {
    "name": "ipython",
    "version": 3
   },
   "file_extension": ".py",
   "mimetype": "text/x-python",
   "name": "python",
   "nbconvert_exporter": "python",
   "pygments_lexer": "ipython3",
   "version": "3.7.1"
  }
 },
 "nbformat": 4,
 "nbformat_minor": 2
}
