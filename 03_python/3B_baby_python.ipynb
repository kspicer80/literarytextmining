{
 "cells": [
  {
   "cell_type": "markdown",
   "metadata": {},
   "source": [
    "# (3B) Baby python\n",
    "\n",
    "<center><img src=\"images/python-battersea-759x500.jpg\" width=500><br/>\n",
    "<i>Figure 1. How bad can it be?</i></center>"
   ]
  },
  {
   "cell_type": "markdown",
   "metadata": {},
   "source": [
    "## Introduction\n",
    "\n",
    "As programming languages go, [Python](https://en.wikipedia.org/wiki/Python_(programming_language)) is elegant. Its syntax is spare, readable, using whitespace like a poem. Its scripts can be executed on the spot; no need for compiling them down to pure “machine code“ first. Its names for variables can refer to any kind of object (dynamic typing).\n",
    "\n",
    "Python is widely available, open source, and managed by a non-profit, the Python Software Foundation. Guido van Rossum, a researcher at Centrum voor Wiskunde en Informatica in the Netherlands, created the language in 1997 after his work on ABC, a programming language designed for non-technical users which emphasized ease of use and design ([*Linux Journal*, 1998 interview](https://www.linuxjournal.com/article/2959)).\n",
    "\n",
    "As programming languages go, Python's politics aren't bad. In stark contrast to Linus Torvalds, the creator of the Linux operating system who verbally abused contributors to Linux source code, van Rossum has welcomed and supported contributions and has actively worked to make the Python core developer community more diverse (which comes up in this fascinating [*New Yorker* profile of Torvalds](https://www.newyorker.com/science/elements/after-years-of-abusive-e-mails-the-creator-of-linux-steps-aside)).\n",
    "\n",
    "Python's use is also [on the rise](https://stackoverflow.blog/2017/09/06/incredible-growth-python/), especially since 2012. As of  2017 Python is the most active programming language on StackOverflow (a popular programming help and discussion community).\n",
    "\n",
    "It's especially popular in the academic and data science communities. It is [often compared to R]([http://res.cloudinary.com/dyd911kmh/image/upload/f_auto,q_auto:best/v1523009719/main-qimg-9dcf536c501455f073dfbc4e09798a51_vpijr0.png), a programming language made by statisticians and commonly used for data science work. Other versions of “Literary Text Mining” may teach R instead of Python. Either is a great language, and they both have strengths and weaknesses. In my opinion, Python is more flexible, playful, elegant, and practical than R. If you can master the basics of Python, you can basically program anything you can imagine."
   ]
  },
  {
   "cell_type": "markdown",
   "metadata": {},
   "source": [
    "## Getting started\n",
    "\n",
    "### Hello world!\n",
    "\n",
    "It's traditional in your first program to say hello to the world."
   ]
  },
  {
   "cell_type": "code",
   "execution_count": 56,
   "metadata": {},
   "outputs": [
    {
     "name": "stdout",
     "output_type": "stream",
     "text": [
      "Hello world\n"
     ]
    }
   ],
   "source": [
    "# 'Uncomment' the line below: remove the \"#\" at the front -->\n",
    "\n",
    "print(\"Hello world\")"
   ]
  },
  {
   "cell_type": "code",
   "execution_count": 136,
   "metadata": {},
   "outputs": [],
   "source": [
    "# @TODO: Print your name below\n",
    "\n"
   ]
  },
  {
   "cell_type": "markdown",
   "metadata": {},
   "source": [
    "## Letters and Numbers\n",
    "\n",
    "Two basic types of data."
   ]
  },
  {
   "cell_type": "markdown",
   "metadata": {},
   "source": [
    "### Letters ('strings')\n",
    "\n",
    "Anything wrapped in quotes is a string."
   ]
  },
  {
   "cell_type": "code",
   "execution_count": 2,
   "metadata": {},
   "outputs": [
    {
     "data": {
      "text/plain": [
       "'Hello'"
      ]
     },
     "execution_count": 2,
     "metadata": {},
     "output_type": "execute_result"
    }
   ],
   "source": [
    "# This is called a string:\n",
    "\n",
    "\"Hello\""
   ]
  },
  {
   "cell_type": "code",
   "execution_count": 3,
   "metadata": {},
   "outputs": [
    {
     "data": {
      "text/plain": [
       "'World'"
      ]
     },
     "execution_count": 3,
     "metadata": {},
     "output_type": "execute_result"
    }
   ],
   "source": [
    "'World'"
   ]
  },
  {
   "cell_type": "code",
   "execution_count": 6,
   "metadata": {},
   "outputs": [
    {
     "data": {
      "text/plain": [
       "\"No more be grieved at that which thou hast done:\\nRoses have thorns, and silver fountains mud;\\nClouds and eclipses stain both moon and sun,\\nAnd loathsome canker lives in sweetest bud.\\nAll men make faults, and even I in this,\\nAuthorizing thy trespass with compare,\\nMyself corrupting, salving thy amiss,\\nExcusing thy sins more than thy sins are;\\nFor to thy sensual fault I bring in sense--\\nThy adverse party is thy advocate--\\nAnd 'gainst myself a lawful plea commence:\\nSuch civil war is in my love and hate\\nThat I an accessary needs must be\\nTo that sweet thief which sourly robs from me.\""
      ]
     },
     "execution_count": 6,
     "metadata": {},
     "output_type": "execute_result"
    }
   ],
   "source": [
    "\"\"\"No more be grieved at that which thou hast done:\n",
    "Roses have thorns, and silver fountains mud;\n",
    "Clouds and eclipses stain both moon and sun,\n",
    "And loathsome canker lives in sweetest bud.\n",
    "All men make faults, and even I in this,\n",
    "Authorizing thy trespass with compare,\n",
    "Myself corrupting, salving thy amiss,\n",
    "Excusing thy sins more than thy sins are;\n",
    "For to thy sensual fault I bring in sense--\n",
    "Thy adverse party is thy advocate--\n",
    "And 'gainst myself a lawful plea commence:\n",
    "Such civil war is in my love and hate\n",
    "That I an accessary needs must be\n",
    "To that sweet thief which sourly robs from me.\"\"\""
   ]
  },
  {
   "cell_type": "code",
   "execution_count": 138,
   "metadata": {},
   "outputs": [],
   "source": [
    "# @TODO: print a block of text from your corpus or anywhere\n",
    "\n"
   ]
  },
  {
   "cell_type": "markdown",
   "metadata": {},
   "source": [
    "#### 'Adding' letters "
   ]
  },
  {
   "cell_type": "markdown",
   "metadata": {},
   "source": [
    "When you 'add' string `b` to string `a`, you \"concatenate\" the two strings."
   ]
  },
  {
   "cell_type": "code",
   "execution_count": 8,
   "metadata": {},
   "outputs": [
    {
     "data": {
      "text/plain": [
       "'Helloworld'"
      ]
     },
     "execution_count": 8,
     "metadata": {},
     "output_type": "execute_result"
    }
   ],
   "source": [
    "# for example: add 'world' to 'Hello'\n",
    "\n",
    "'Hello' + 'world'"
   ]
  },
  {
   "cell_type": "code",
   "execution_count": 9,
   "metadata": {},
   "outputs": [
    {
     "data": {
      "text/plain": [
       "'Hello world'"
      ]
     },
     "execution_count": 9,
     "metadata": {},
     "output_type": "execute_result"
    }
   ],
   "source": [
    "# add ' ' and then 'world' to 'Hello'\n",
    "\n",
    "'Hello' + ' ' + 'world'"
   ]
  },
  {
   "cell_type": "code",
   "execution_count": 139,
   "metadata": {},
   "outputs": [],
   "source": [
    "# @TODO: Say Hello to you a friend of yours using '+'\n",
    "\n"
   ]
  },
  {
   "cell_type": "markdown",
   "metadata": {},
   "source": [
    "### Numbers ('integers' and 'floats')\n",
    "\n",
    "Numbers and integers use numbers *un*surrounded by quotes."
   ]
  },
  {
   "cell_type": "code",
   "execution_count": 10,
   "metadata": {},
   "outputs": [
    {
     "data": {
      "text/plain": [
       "123"
      ]
     },
     "execution_count": 10,
     "metadata": {},
     "output_type": "execute_result"
    }
   ],
   "source": [
    "# This is an integer\n",
    "\n",
    "123"
   ]
  },
  {
   "cell_type": "code",
   "execution_count": 11,
   "metadata": {},
   "outputs": [
    {
     "data": {
      "text/plain": [
       "123.0"
      ]
     },
     "execution_count": 11,
     "metadata": {},
     "output_type": "execute_result"
    }
   ],
   "source": [
    "# This is a 'float'\n",
    "\n",
    "123.0"
   ]
  },
  {
   "cell_type": "code",
   "execution_count": 12,
   "metadata": {},
   "outputs": [
    {
     "data": {
      "text/plain": [
       "True"
      ]
     },
     "execution_count": 12,
     "metadata": {},
     "output_type": "execute_result"
    }
   ],
   "source": [
    "# These are equal\n",
    "\n",
    "123 == 123.0          # '==' means 'is equal to'"
   ]
  },
  {
   "cell_type": "code",
   "execution_count": 13,
   "metadata": {},
   "outputs": [
    {
     "data": {
      "text/plain": [
       "True"
      ]
     },
     "execution_count": 13,
     "metadata": {},
     "output_type": "execute_result"
    }
   ],
   "source": [
    "# These are equal\n",
    "\n",
    "123 == 123.000000000000"
   ]
  },
  {
   "cell_type": "code",
   "execution_count": 14,
   "metadata": {},
   "outputs": [],
   "source": [
    "# @TODO: Uncomment this line below. Do you think they are equal?\n",
    "\n",
    "#123 == \"123\""
   ]
  },
  {
   "cell_type": "markdown",
   "metadata": {},
   "source": [
    "#### Arithmetic"
   ]
  },
  {
   "cell_type": "code",
   "execution_count": 15,
   "metadata": {},
   "outputs": [
    {
     "data": {
      "text/plain": [
       "173"
      ]
     },
     "execution_count": 15,
     "metadata": {},
     "output_type": "execute_result"
    }
   ],
   "source": [
    "# Addition\n",
    "\n",
    "123 + 50"
   ]
  },
  {
   "cell_type": "code",
   "execution_count": 16,
   "metadata": {},
   "outputs": [
    {
     "data": {
      "text/plain": [
       "73"
      ]
     },
     "execution_count": 16,
     "metadata": {},
     "output_type": "execute_result"
    }
   ],
   "source": [
    "# Substraction\n",
    "\n",
    "123 - 50"
   ]
  },
  {
   "cell_type": "code",
   "execution_count": 17,
   "metadata": {},
   "outputs": [
    {
     "data": {
      "text/plain": [
       "6150"
      ]
     },
     "execution_count": 17,
     "metadata": {},
     "output_type": "execute_result"
    }
   ],
   "source": [
    "# Multiplication\n",
    "\n",
    "123 * 50"
   ]
  },
  {
   "cell_type": "code",
   "execution_count": 18,
   "metadata": {},
   "outputs": [
    {
     "data": {
      "text/plain": [
       "2.46"
      ]
     },
     "execution_count": 18,
     "metadata": {},
     "output_type": "execute_result"
    }
   ],
   "source": [
    "# Division\n",
    "\n",
    "123 / 50"
   ]
  },
  {
   "cell_type": "code",
   "execution_count": 19,
   "metadata": {},
   "outputs": [
    {
     "data": {
      "text/plain": [
       "2"
      ]
     },
     "execution_count": 19,
     "metadata": {},
     "output_type": "execute_result"
    }
   ],
   "source": [
    "# Integer division (no remainder)\n",
    "\n",
    "123 // 50"
   ]
  },
  {
   "cell_type": "code",
   "execution_count": 20,
   "metadata": {},
   "outputs": [
    {
     "data": {
      "text/plain": [
       "23"
      ]
     },
     "execution_count": 20,
     "metadata": {},
     "output_type": "execute_result"
    }
   ],
   "source": [
    "# Remainder from integer division\n",
    "\n",
    "123 % 50"
   ]
  },
  {
   "cell_type": "code",
   "execution_count": 134,
   "metadata": {},
   "outputs": [],
   "source": [
    "# @TODO: How old would Shakespeare, born 1564, \n",
    "# be if he were alive today?\n",
    "\n"
   ]
  },
  {
   "cell_type": "code",
   "execution_count": 1,
   "metadata": {},
   "outputs": [],
   "source": [
    "# @TODO: How many *full* Pomodoro cycles (25 minutes each)\n",
    "# can I fit into a 2 hour work session?\n",
    "\n"
   ]
  },
  {
   "cell_type": "markdown",
   "metadata": {},
   "source": [
    "## Variables"
   ]
  },
  {
   "cell_type": "code",
   "execution_count": null,
   "metadata": {},
   "outputs": [],
   "source": []
  }
 ],
 "metadata": {
  "kernelspec": {
   "display_name": "Python 3",
   "language": "python",
   "name": "python3"
  },
  "language_info": {
   "codemirror_mode": {
    "name": "ipython",
    "version": 3
   },
   "file_extension": ".py",
   "mimetype": "text/x-python",
   "name": "python",
   "nbconvert_exporter": "python",
   "pygments_lexer": "ipython3",
   "version": "3.7.1"
  }
 },
 "nbformat": 4,
 "nbformat_minor": 2
}
