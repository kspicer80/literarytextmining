{
 "cells": [
  {
   "cell_type": "markdown",
   "metadata": {},
   "source": [
    "# (3D) Lists and words\n",
    "## (3D-1) Lists\n",
    "\n",
    "In this notebook, we'll learn:\n",
    "\n",
    "* What **lists** are\n",
    "* How to create lists\n",
    "* How to find things in lists\n",
    "* How to edit lists\n",
    "* How to add/remove things from lists\n",
    "\n",
    "## Intro to lists"
   ]
  },
  {
   "cell_type": "markdown",
   "metadata": {},
   "source": [
    "So far we've been working primarily with strings. Strings are the ground zero for text mining: they represent the sequences of letters, spaces, punctuation marks that form the very body of the text.\n",
    "\n",
    "But we've also seen some limitations of strings. When we try to count \"words\" in strings, we realize that Python has no concept of a \"word.\" All strings are Greek to Python; for Python every string is just a sequence of hieroglyphs (to shift metaphors across the Mediterreanean). So when we count the occurrences of \"she\" in a string, Python has no idea that \"she\" is a word, that it should be counted while \"sheer\" should not.\n",
    "\n",
    "For that, we need **lists**: a *sequence* of elements, each of which is distinct.\n",
    "\n",
    "So instead of the string representation of: \n",
    "\n",
    "```python\n",
    "text_as_string = \"Perhaps people thought that doom could be pushed forward and away...\"\n",
    "```\n",
    "    \n",
    "We can move to a list representation:\n",
    "\n",
    "```python\n",
    "text_as_list = ['Perhaps', 'people', 'thought', 'that', 'doom', 'could', 'be', 'pushed', 'forward', 'and', 'away', '...']\n",
    "```\n",
    "\n",
    "Each element in this list is distinct. So while to count \"she\" in text_as_string will yield 1 (in \"pu**she**d\"), to count \"she\" in text_as_list will correctly return 0."
   ]
  },
  {
   "cell_type": "code",
   "execution_count": null,
   "metadata": {},
   "outputs": [],
   "source": [
    "# Let's test this out\n",
    "text_as_string = \"Perhaps people thought that doom could be pushed forward and away...\"\n",
    "text_as_list = ['Perhaps', 'people', 'thought', 'that', 'doom', 'could', 'be', 'pushed', 'forward', 'and', 'away', '...']\n",
    "\n",
    "print('Number of \"she\" in text_as_string:',text_as_string.count('she'))\n",
    "print('Number of \"she\" in text_as_list:',text_as_list.count('she'))"
   ]
  },
  {
   "cell_type": "markdown",
   "metadata": {},
   "source": [
    "## How to create lists\n",
    "\n",
    "The syntax for creating a list is using **square brackets**.\n",
    "\n",
    "```python\n",
    "my_list = [thing1, thing2, thing3, ..., thingN]\n",
    "```\n",
    "\n",
    "Use commas to separate elements in the list."
   ]
  },
  {
   "cell_type": "code",
   "execution_count": null,
   "metadata": {},
   "outputs": [],
   "source": [
    "# Let's define a list and print it\n",
    "\n",
    "the_question = ['to','be','or','not','to','be']\n",
    "\n",
    "print(the_question)"
   ]
  },
  {
   "cell_type": "code",
   "execution_count": null,
   "metadata": {},
   "outputs": [],
   "source": [
    "## @TODO: Make a new list and print it\n",
    "#\n"
   ]
  },
  {
   "cell_type": "code",
   "execution_count": null,
   "metadata": {},
   "outputs": [],
   "source": [
    "# Lists can include any kind of data\n",
    "\n",
    "my_list = [1, 2, 3, 'hello', 4.21414]\n",
    "my_list"
   ]
  },
  {
   "cell_type": "code",
   "execution_count": null,
   "metadata": {},
   "outputs": [],
   "source": [
    "# Lists can even include other lists!\n",
    "\n",
    "my_meta_list = ['A','B',my_list,'C']\n",
    "my_meta_list"
   ]
  },
  {
   "cell_type": "markdown",
   "metadata": {},
   "source": [
    "## How to slice lists\n",
    "\n",
    "The same way as slicing strings!"
   ]
  },
  {
   "cell_type": "code",
   "execution_count": null,
   "metadata": {},
   "outputs": [],
   "source": [
    "# Slice the first word from Hamlet\n",
    "\n",
    "the_question[0]"
   ]
  },
  {
   "cell_type": "code",
   "execution_count": null,
   "metadata": {},
   "outputs": [],
   "source": [
    "## @TODO: Slice the last word from Hamlet\n",
    "#\n",
    "\n",
    "the_question[-1]"
   ]
  },
  {
   "cell_type": "code",
   "execution_count": null,
   "metadata": {},
   "outputs": [],
   "source": [
    "## @TODO: Slice the first two words\n",
    "#\n",
    "\n",
    "the_question[:2]"
   ]
  },
  {
   "cell_type": "code",
   "execution_count": null,
   "metadata": {},
   "outputs": [],
   "source": [
    "## @TODO: Slice the last two words\n",
    "#\n",
    "the_question[-2:]"
   ]
  },
  {
   "cell_type": "markdown",
   "metadata": {},
   "source": [
    "## Finding things in lists\n",
    "\n",
    "The same way as in strings!"
   ]
  },
  {
   "cell_type": "code",
   "execution_count": null,
   "metadata": {},
   "outputs": [],
   "source": [
    "the_question.index('to')"
   ]
  },
  {
   "cell_type": "code",
   "execution_count": null,
   "metadata": {},
   "outputs": [],
   "source": [
    "the_question[0]"
   ]
  },
  {
   "cell_type": "code",
   "execution_count": null,
   "metadata": {},
   "outputs": [],
   "source": [
    "the_question.index('to',1)"
   ]
  },
  {
   "cell_type": "code",
   "execution_count": null,
   "metadata": {},
   "outputs": [],
   "source": [
    "the_question[4]"
   ]
  },
  {
   "cell_type": "code",
   "execution_count": null,
   "metadata": {},
   "outputs": [],
   "source": [
    "the_question.index('be')"
   ]
  },
  {
   "cell_type": "code",
   "execution_count": null,
   "metadata": {},
   "outputs": [],
   "source": [
    "the_question.index('be',2)"
   ]
  },
  {
   "cell_type": "code",
   "execution_count": null,
   "metadata": {},
   "outputs": [],
   "source": [
    "## @TODO: Find the index or 'not'\n",
    "# Then print the two words to left and right of 'not'\n",
    "#\n",
    "\n",
    "index = the_question.index('not')\n",
    "\n",
    "the_question[index-2 : index+2+1]"
   ]
  },
  {
   "cell_type": "markdown",
   "metadata": {},
   "source": [
    "## How to edit lists"
   ]
  },
  {
   "cell_type": "code",
   "execution_count": null,
   "metadata": {},
   "outputs": [],
   "source": [
    "# Let's change what Hamlet said\n",
    "\n",
    "the_question[-1]='pee'\n",
    "\n",
    "print(the_question)"
   ]
  },
  {
   "cell_type": "code",
   "execution_count": null,
   "metadata": {},
   "outputs": [],
   "source": [
    "## @TODO: Change the other 'be' in `the_question` and print the list\n",
    "#\n",
    "\n",
    "index_be = the_question.index('be')\n",
    "the_question[index_be] = 'pee'\n",
    "\n",
    "the_question"
   ]
  },
  {
   "cell_type": "markdown",
   "metadata": {},
   "source": [
    "## How to add things to lists\n",
    "\n",
    "### Method 1: `list.append(thing)`\n",
    "\n",
    "We can use `append()` to add individual things to lists."
   ]
  },
  {
   "cell_type": "code",
   "execution_count": null,
   "metadata": {},
   "outputs": [],
   "source": [
    "the_abyss = ['And','if','you','gaze','long','into','an','abyss',',']\n",
    "print(the_abyss)\n",
    "\n",
    "the_abyss.append('the')\n",
    "print(the_abyss)\n",
    "\n",
    "the_abyss.append('abyss')\n",
    "print(the_abyss)\n",
    "\n",
    "the_abyss.append('also')\n",
    "print(the_abyss)\n",
    "\n",
    "the_abyss.append('gazes')\n",
    "print(the_abyss)\n",
    "\n",
    "the_abyss.append('into')\n",
    "print(the_abyss)\n",
    "\n",
    "the_abyss.append('you')\n",
    "print(the_abyss)\n",
    "\n",
    "the_abyss.append('.')\n",
    "print(the_abyss)"
   ]
  },
  {
   "cell_type": "code",
   "execution_count": null,
   "metadata": {},
   "outputs": [],
   "source": [
    "## @TODO: Make a knock knock joke list,\n",
    "# adding each element of the joke to the list using append(),\n",
    "# and printing after each append\n",
    "# \n",
    "# choose from:\n",
    "# 1) Knock knock! | Who's there? | Cash | Cash who? | No thanks, I'll have some peanuts.\n",
    "# 2) Knock, Knock | Who’s there? | A little old lady | A little old lady who? | Wow, I didn’t know you could yodel!\n",
    "# 3) ?\n",
    "\n",
    "joke = ['Knock Knock!']\n",
    "print(joke)\n",
    "\n",
    "joke.append(\"Who's there?\")\n",
    "print(joke)\n",
    "\n",
    "joke.append(\"Cash\")\n",
    "print(joke)\n",
    "\n",
    "joke.append(\"Cash who?\")\n",
    "print(joke)\n",
    "\n",
    "joke.append(\"No thanks, I'll have some peanuts\")\n",
    "print(joke)"
   ]
  },
  {
   "cell_type": "markdown",
   "metadata": {},
   "source": [
    "### Method 2: `list.extend([multiple, things])`\n",
    "\n",
    "We can use `extend()` to add *multiple* things to a list."
   ]
  },
  {
   "cell_type": "code",
   "execution_count": null,
   "metadata": {},
   "outputs": [],
   "source": [
    "# We can use extend\n",
    "\n",
    "the_abyss = ['And','if','you','gaze','long','into','an','abyss',',']\n",
    "print(the_abyss)\n",
    "\n",
    "the_abyss.extend(['the', 'abyss', 'also', 'gazes'])\n",
    "print(the_abyss)\n",
    "\n",
    "the_abyss.extend(['into', 'you', '.'])\n",
    "print(the_abyss)"
   ]
  },
  {
   "cell_type": "code",
   "execution_count": null,
   "metadata": {},
   "outputs": [],
   "source": [
    "## @TODO: Extend \"rhyme_scheme\" by each quatrain of a Shakespearean sonnet and print after each extend\n",
    "\n",
    "quatrain1=['a','b','a','b']\n",
    "quatrain2=['c','d','c','d']\n",
    "quatrain3=['e','f','e','f']\n",
    "couplet  =['g','g']\n",
    "\n",
    "rhyme_scheme = []\n",
    "\n",
    "rhyme_scheme.extend(quatrain1)\n",
    "rhyme_scheme.extend(quatrain2)\n",
    "rhyme_scheme.extend(quatrain3)\n",
    "rhyme_scheme.extend(couplet)\n",
    "\n",
    "print(rhyme_scheme)"
   ]
  },
  {
   "cell_type": "markdown",
   "metadata": {},
   "source": [
    "### Method 3: list addition\n",
    "\n",
    "We can also add lists: `AB = A + B`"
   ]
  },
  {
   "cell_type": "code",
   "execution_count": null,
   "metadata": {},
   "outputs": [],
   "source": [
    "A = [1,2,3,4,5]\n",
    "B = [6,7,8,9,10]\n",
    "\n",
    "print(A)\n",
    "print(B)\n",
    "print(A + B)"
   ]
  },
  {
   "cell_type": "code",
   "execution_count": null,
   "metadata": {},
   "outputs": [],
   "source": [
    "## @TODO: Rebuild rhyme_scheme using addition\n",
    "#\n",
    "\n",
    "rhyme_scheme = quatrain1 + quatrain2 + quatrain3 + couplet\n",
    "\n",
    "print(rhyme_scheme)"
   ]
  },
  {
   "cell_type": "code",
   "execution_count": null,
   "metadata": {},
   "outputs": [],
   "source": [
    "# There's also IN-PLACE addition using \"+=\"\n",
    "\n",
    "rhyming_couplets=[]\n",
    "print(rhyming_couplets)\n",
    "\n",
    "rhyming_couplets+=['a','a']\n",
    "print(rhyming_couplets)\n",
    "\n",
    "rhyming_couplets+=['b','b']\n",
    "print(rhyming_couplets)\n",
    "\n",
    "rhyming_couplets+=['c','c']\n",
    "print(rhyming_couplets)"
   ]
  },
  {
   "cell_type": "code",
   "execution_count": null,
   "metadata": {},
   "outputs": [],
   "source": [
    "string='hello'"
   ]
  },
  {
   "cell_type": "code",
   "execution_count": null,
   "metadata": {},
   "outputs": [],
   "source": [
    "string+='hello'\n",
    "\n",
    "print(string)"
   ]
  },
  {
   "cell_type": "markdown",
   "metadata": {},
   "source": [
    "## How to remove things from lists"
   ]
  },
  {
   "cell_type": "code",
   "execution_count": null,
   "metadata": {},
   "outputs": [],
   "source": [
    "hamlet_again = ['to','be','or','not','to','be']\n",
    "\n",
    "print(hamlet_again)"
   ]
  },
  {
   "cell_type": "code",
   "execution_count": null,
   "metadata": {},
   "outputs": [],
   "source": [
    "hamlet_again.remove('be')\n",
    "print(hamlet_again)"
   ]
  },
  {
   "cell_type": "markdown",
   "metadata": {},
   "source": [
    "### Careful! Lists are \"mutable\""
   ]
  },
  {
   "cell_type": "code",
   "execution_count": null,
   "metadata": {},
   "outputs": [],
   "source": [
    "###\n",
    "# Careful! Lists are \"mutable\". This means they can change in-place and still be themselves\n",
    "###\n",
    "\n",
    "# Make a list called rose\n",
    "rose = ['A', 'rose', 'by', 'any', 'other', 'name', 'would', 'smell', 'as', 'sweet']\n",
    "\n",
    "# Assign the variable 'buttflower' to the contents of 'rose'\n",
    "buttflower = list(rose)\n",
    "\n",
    "# Print the contents of rose and buttflower\n",
    "print('Before editing:')\n",
    "print('rose =',rose)\n",
    "print('buttflower =',buttflower)\n",
    "\n",
    "# Change only buttflower\n",
    "buttflower.append('AS')\n",
    "buttflower.append('FEET')\n",
    "\n",
    "# Print the contents of rose and buttflower\n",
    "print()\n",
    "print('After editing buttflower:')\n",
    "print('rose =',rose)\n",
    "print('buttflower =',buttflower)"
   ]
  },
  {
   "cell_type": "code",
   "execution_count": null,
   "metadata": {},
   "outputs": [],
   "source": [
    "# Compare this to strings! Strings are 'immutable'\n",
    "\n",
    "rose_str = 'A rose by any other name would smell as sweet'\n",
    "buttflower_str = rose_str\n",
    "\n",
    "# Print the contents of rose and buttflower\n",
    "print('Before editing:')\n",
    "print('rose_str =',rose_str)\n",
    "print('buttflower_str =',buttflower_str)\n",
    "\n",
    "# Change only buttflower_str\n",
    "buttflower_str = buttflower_str + ' AS FEET'\n",
    "\n",
    "# Print the contents of rose and buttflower\n",
    "print()\n",
    "print('After editing buttflower_str:')\n",
    "print('rose_str =',rose_str)\n",
    "print('buttflower_str =',buttflower_str)"
   ]
  },
  {
   "cell_type": "code",
   "execution_count": null,
   "metadata": {},
   "outputs": [],
   "source": []
  }
 ],
 "metadata": {
  "kernelspec": {
   "display_name": "Python 3",
   "language": "python",
   "name": "python3"
  },
  "language_info": {
   "codemirror_mode": {
    "name": "ipython",
    "version": 3
   },
   "file_extension": ".py",
   "mimetype": "text/x-python",
   "name": "python",
   "nbconvert_exporter": "python",
   "pygments_lexer": "ipython3",
   "version": "3.7.1"
  }
 },
 "nbformat": 4,
 "nbformat_minor": 2
}
