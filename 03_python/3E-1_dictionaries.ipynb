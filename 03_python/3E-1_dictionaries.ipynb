{
 "cells": [
  {
   "cell_type": "markdown",
   "metadata": {},
   "source": [
    "# (3E-1) Dictionaries\n",
    "\n",
    "In this notebook, we'll learn:\n",
    "\n",
    "* What **dictionaries** are\n",
    "* How to create/edit/update/delete dictionaries\n",
    "* How to write **if/else** statements\n",
    "\n",
    "## Why?\n",
    "\n",
    "Why do we need dictionaries in this course? For many reasons; dictionaries are one of the most fundamental and basic data types in Python. However, dictionaries are frequently used in text mining to represent **word counts**, one of the most elemental forms of data in text mining. \n",
    "\n",
    "```python\n",
    "word_counts = {\n",
    "    'to' : 2,\n",
    "    'be' : 2,\n",
    "    'or' : 1,\n",
    "    'not': 1\n",
    "}\n",
    "```\n",
    "\n",
    "We'll focus on the application of dictionaries to word counts in the [following notebook](3E-2_word_counts.ipynb); for now, let's look at what dictionaries are.\n",
    "\n",
    "## Data types in Python\n",
    "\n",
    "So far we've learned these \"data types\" in Python:\n",
    "* \"Primitive\" data types:\n",
    "    * **Integers** and **floats**: how Python stores numbers\n",
    "    * **Strings**: sequences of characters (letters, spaces, punctuation marks, even numbers in their graphesis)\n",
    "* \"Non-primitive\" data types:\n",
    "    * **Lists**: sequences of *elements*, which can be of any other data type in Python\n",
    "    * **Sets**: sets of *unique elements*\n",
    "\n",
    "Here's a graphical overview of the data types in Python.\n",
    "\n",
    "<center><img src=\"images/DataStructureFlow.png\"></center>\n",
    "\n",
    "We're now going to learn our last major data type: the **dictionary**."
   ]
  },
  {
   "cell_type": "markdown",
   "metadata": {},
   "source": [
    "## The Dictionary\n",
    "\n",
    "What is a dictionary? Known since the Sumerians, dictionaries first appeared in English in 1220 as an aid to translate between English and Latin (helping with Latin \"diction\"). The first comprehensive and scholarly dictionary in English is widely believed to be Samuel Johnson's *Dictionary of the English Language* in 1755. Here's an example of Johnson's dictionary in plain text:\n",
    "\n",
    "    Abacus\n",
    "        n. A counting table, anciently used in calculations\n",
    "    Abaft\n",
    "        adv. From the fore part of the ship, to the stern\n",
    "    Abaisance\n",
    "        n. An act of reverance, a bow\n",
    "\n",
    "We're interested here in the *form* of the dictionary: a headword, followed by a definition; a headword, followed by a definition. Headwords are traditionally alphabetized, but they needn't be (think of the digital search-based dictionaries we all use now).\n",
    "\n",
    "Python lets us model this dictionary form as such:"
   ]
  },
  {
   "cell_type": "code",
   "execution_count": 1,
   "metadata": {},
   "outputs": [
    {
     "data": {
      "text/plain": [
       "{'Abacus': 'n. A counting table, anciently used in calculations',\n",
       " 'Abaft': 'adv. From the fore part of the ship, to the stern',\n",
       " 'Abaisance': 'n. An act of reverance, a bow'}"
      ]
     },
     "execution_count": 1,
     "metadata": {},
     "output_type": "execute_result"
    }
   ],
   "source": [
    "# Create an empty dictionary\n",
    "english_lang_dict = {}\n",
    "\n",
    "# Add an entry for 'abacus'\n",
    "english_lang_dict['Abacus'] = 'n. A counting table, anciently used in calculations'\n",
    "\n",
    "# Add an entry for 'abaft'\n",
    "english_lang_dict['Abaft'] = 'adv. From the fore part of the ship, to the stern'\n",
    "\n",
    "# Add an entry for 'abaisance'\n",
    "english_lang_dict['Abaisance'] = 'n. An act of reverance, a bow'\n",
    "\n",
    "# Return the dictionary\n",
    "english_lang_dict"
   ]
  },
  {
   "cell_type": "markdown",
   "metadata": {},
   "source": [
    "### The dictionary lookup\n",
    "\n",
    "Why do we need dictionaries? Well, in real life, how do we use dictionaries? Most people would never read a dictionary left to rage, page by page, cover to cover. Instead, they use a dictionary to look up a particular word.\n",
    "\n",
    "This is also exactly why we use dictionaries in Python. Now that I have a dictionary called `english_lang_dict`, at any time I can look up the definition for any word in that dictionary."
   ]
  },
  {
   "cell_type": "code",
   "execution_count": 2,
   "metadata": {},
   "outputs": [
    {
     "name": "stdout",
     "output_type": "stream",
     "text": [
      "n. An act of reverance, a bow\n"
     ]
    }
   ],
   "source": [
    "# What's the definition of 'abaisance' again?\n",
    "\n",
    "print(english_lang_dict['Abaisance'])"
   ]
  },
  {
   "cell_type": "code",
   "execution_count": 3,
   "metadata": {},
   "outputs": [
    {
     "name": "stdout",
     "output_type": "stream",
     "text": [
      "adv. From the fore part of the ship, to the stern\n"
     ]
    }
   ],
   "source": [
    "# What about 'abaft'?\n",
    "\n",
    "print(english_lang_dict['Abaft'])"
   ]
  },
  {
   "cell_type": "code",
   "execution_count": 4,
   "metadata": {},
   "outputs": [
    {
     "name": "stdout",
     "output_type": "stream",
     "text": [
      "n. A counting table, anciently used in calculations\n"
     ]
    }
   ],
   "source": [
    "# @TODO: What about 'Abacus'?\n",
    "#\n",
    "print(english_lang_dict['Abacus'])"
   ]
  },
  {
   "cell_type": "markdown",
   "metadata": {},
   "source": [
    "### \"Keys\" and \"values\"\n",
    "\n",
    "A generalization of the dictionary form takes us beyond actual dictionaries, with actual definitions of actual words. Instead, we can think of a dictionary as a mapping between \"keys\" (e.g. headwords) and \"values\" (e.g. definitions)."
   ]
  },
  {
   "cell_type": "code",
   "execution_count": 5,
   "metadata": {},
   "outputs": [
    {
     "data": {
      "text/plain": [
       "{'key1': 'value1', 'key2': 'value2', 'key3': 'value3'}"
      ]
     },
     "execution_count": 5,
     "metadata": {},
     "output_type": "execute_result"
    }
   ],
   "source": [
    "# make dictionary\n",
    "dictionary_form = {\n",
    "    'key1' : 'value1',\n",
    "    'key2' : 'value2',\n",
    "    'key3' : 'value3',\n",
    "}\n",
    "\n",
    "# show dictionary\n",
    "dictionary_form"
   ]
  },
  {
   "cell_type": "markdown",
   "metadata": {},
   "source": [
    "This means we can store all kinds of content in a dictionary. For instance, what are the names of baseball teams again?"
   ]
  },
  {
   "cell_type": "code",
   "execution_count": 6,
   "metadata": {},
   "outputs": [
    {
     "data": {
      "text/plain": [
       "{'Colorado': 'Rockies',\n",
       " 'Boston': 'Red Sox',\n",
       " 'Minnesota': 'Twins',\n",
       " 'Milwaukee': 'Brewers',\n",
       " 'Seattle': 'Mariners'}"
      ]
     },
     "execution_count": 6,
     "metadata": {},
     "output_type": "execute_result"
    }
   ],
   "source": [
    "# create dictionary\n",
    "MLB_team = {\n",
    "    'Colorado' : 'Rockies',\n",
    "    'Boston'   : 'Red Sox',\n",
    "    'Minnesota': 'Twins',\n",
    "    'Milwaukee': 'Brewers',\n",
    "    'Seattle'  : 'Mariners'\n",
    "}\n",
    "\n",
    "# show dictionary\n",
    "MLB_team"
   ]
  },
  {
   "cell_type": "markdown",
   "metadata": {},
   "source": [
    "This creates a series of **key-value pairs**, which look something like this, with keys in blue and their values in green:\n",
    "\n",
    "<center><img src=\"images/dict-mlb.png\" width=\"300\" /><br/><small>(Source: https://realpython.com/python-dicts/)</small></center><br/>\n",
    "\n",
    "Now, when I need to look up a team name (value) based on its city (key), I can do that with:"
   ]
  },
  {
   "cell_type": "code",
   "execution_count": 7,
   "metadata": {},
   "outputs": [
    {
     "data": {
      "text/plain": [
       "'Twins'"
      ]
     },
     "execution_count": 7,
     "metadata": {},
     "output_type": "execute_result"
    }
   ],
   "source": [
    "# Which team is in Minnesota again?\n",
    "MLB_team['Minnesota']"
   ]
  },
  {
   "cell_type": "code",
   "execution_count": 8,
   "metadata": {},
   "outputs": [
    {
     "data": {
      "text/plain": [
       "'Mariners'"
      ]
     },
     "execution_count": 8,
     "metadata": {},
     "output_type": "execute_result"
    }
   ],
   "source": [
    "# Which team in Seattle?\n",
    "MLB_team['Seattle']"
   ]
  },
  {
   "cell_type": "markdown",
   "metadata": {},
   "source": [
    "### Dictionary values can be of any data type; keys can be any immutable type"
   ]
  },
  {
   "cell_type": "code",
   "execution_count": 9,
   "metadata": {},
   "outputs": [
    {
     "data": {
      "text/plain": [
       "{'list': [1, 2, 3],\n",
       " 'dict': {'dict': {'dict': 'hello'}},\n",
       " 3: 'three',\n",
       " 'three': 3}"
      ]
     },
     "execution_count": 9,
     "metadata": {},
     "output_type": "execute_result"
    }
   ],
   "source": [
    "# empty dictionary\n",
    "d={}\n",
    "\n",
    "# set string key 'list' to list value [1,2,3]\n",
    "d['list']=[1,2,3]\n",
    "\n",
    "# set string key 'dict' to dictionary value\n",
    "d['dict']={'dict':{'dict':'hello'}}\n",
    "\n",
    "# set integer key 3 to string value 'three'\n",
    "d[3]='three'\n",
    "\n",
    "# set string key 'three' to integer value 3\n",
    "d['three']=3\n",
    "\n",
    "# show dictionary\n",
    "d"
   ]
  },
  {
   "cell_type": "markdown",
   "metadata": {},
   "source": [
    "## How to create a dictionary\n",
    "\n",
    "There are a few different ways to create dictionaries.\n",
    "\n",
    "### 1. One key-value pair at a time"
   ]
  },
  {
   "cell_type": "code",
   "execution_count": 10,
   "metadata": {},
   "outputs": [],
   "source": [
    "# Create an empty dictionary\n",
    "trees = {}\n",
    "\n",
    "# Add an entry\n",
    "trees['Redwood'] = '(Sequoia sempervirens) Tallest trees on earth. Found on the Pacific coast of Northern California.'\n",
    "\n",
    "# Add an entry\n",
    "trees['Sequoia'] = '(Sequoiadendron giganteum) Largest trees on earth. Found on the western slopes of the Sierra Nevadas.'"
   ]
  },
  {
   "cell_type": "code",
   "execution_count": 11,
   "metadata": {},
   "outputs": [
    {
     "data": {
      "text/plain": [
       "{'Redwood': '(Sequoia sempervirens) Tallest trees on earth. Found on the Pacific coast of Northern California.',\n",
       " 'Sequoia': '(Sequoiadendron giganteum) Largest trees on earth. Found on the western slopes of the Sierra Nevadas.'}"
      ]
     },
     "execution_count": 11,
     "metadata": {},
     "output_type": "execute_result"
    }
   ],
   "source": [
    "# show dictionary\n",
    "trees"
   ]
  },
  {
   "cell_type": "code",
   "execution_count": 15,
   "metadata": {},
   "outputs": [],
   "source": [
    "# @TODO: Add a tree to the dictionary! (Even a fake one), and then return/print the dictionary\n",
    "#\n",
    "\n",
    "trees['Cardinal'] = 'Best tree on Earth. Found on the western side of the Campus'"
   ]
  },
  {
   "cell_type": "code",
   "execution_count": 17,
   "metadata": {},
   "outputs": [
    {
     "data": {
      "text/plain": [
       "{'Redwood': '(Sequoia sempervirens) Tallest trees on earth. Found on the Pacific coast of Northern California.',\n",
       " 'Sequoia': '(Sequoiadendron giganteum) Largest trees on earth. Found on the western slopes of the Sierra Nevadas.',\n",
       " 'Cardinal': 'Best tree on Earth. Found on the western side of the Campus'}"
      ]
     },
     "execution_count": 17,
     "metadata": {},
     "output_type": "execute_result"
    }
   ],
   "source": [
    "trees"
   ]
  },
  {
   "cell_type": "markdown",
   "metadata": {},
   "source": [
    "### 2. Using the {key:value} notation"
   ]
  },
  {
   "cell_type": "code",
   "execution_count": 28,
   "metadata": {},
   "outputs": [],
   "source": [
    "# Another way to create a dictionary is to store a bunch of key-value pairs all at once\n",
    "\n",
    "potter_houses = {\n",
    "    'Hermione' : 'Gryffindor',\n",
    "    'Severus': 'Slytherin',\n",
    "    'Sirius': 'Gryffindor',\n",
    "    'Luna': 'Ravenclaw',\n",
    "    'Cedric': 'Hufflepuff',\n",
    "    'Ryan': 'Slytherin'\n",
    "}"
   ]
  },
  {
   "cell_type": "code",
   "execution_count": 22,
   "metadata": {},
   "outputs": [],
   "source": [
    "# @TODO: Add yourself to this dictionary and your favorite Potter house\n",
    "#\n",
    "\n",
    "potter_houses['Ryan'] = 'Slytherin'"
   ]
  },
  {
   "cell_type": "code",
   "execution_count": 24,
   "metadata": {},
   "outputs": [],
   "source": [
    "# @TODO: Create a dictionary mapping your friends to their Harry Potter or Stanford house/dorm\n",
    "#\n",
    "\n",
    "potter_houses['Cardinal'] = 'Hufflepuff'"
   ]
  },
  {
   "cell_type": "code",
   "execution_count": 25,
   "metadata": {},
   "outputs": [
    {
     "data": {
      "text/plain": [
       "{'Hermione': 'Gryffindor',\n",
       " 'Severus': 'Slytherin',\n",
       " 'Sirius': 'Gryffindor',\n",
       " 'Luna': 'Ravenclaw',\n",
       " 'Cedric': 'Hufflepuff',\n",
       " 'Ryan': 'Slytherin',\n",
       " 'Cardinal': 'Hufflepuff'}"
      ]
     },
     "execution_count": 25,
     "metadata": {},
     "output_type": "execute_result"
    }
   ],
   "source": [
    "potter_houses"
   ]
  },
  {
   "cell_type": "markdown",
   "metadata": {},
   "source": [
    "## How to read things in a dictionary\n",
    "\n",
    "There are two very simple ways to access the value for any key in a dictionary:\n",
    "\n",
    "### 1. Using square bracket notation\n",
    "\n",
    "```python\n",
    "dictionary['name_of_key']  # returns value\n",
    "```"
   ]
  },
  {
   "cell_type": "code",
   "execution_count": 26,
   "metadata": {},
   "outputs": [
    {
     "data": {
      "text/plain": [
       "'Gryffindor'"
      ]
     },
     "execution_count": 26,
     "metadata": {},
     "output_type": "execute_result"
    }
   ],
   "source": [
    "# Which house is Hermione in?\n",
    "\n",
    "potter_houses['Hermione'] = 'Slytherin'"
   ]
  },
  {
   "cell_type": "code",
   "execution_count": null,
   "metadata": {},
   "outputs": [],
   "source": [
    "# @TODO: Get the entries for 'Redwood' and 'Sequoia' in the trees dictionary. Which is taller?\n",
    "#"
   ]
  },
  {
   "cell_type": "markdown",
   "metadata": {},
   "source": [
    "### 2. Using `.get()` notation"
   ]
  },
  {
   "cell_type": "code",
   "execution_count": 29,
   "metadata": {},
   "outputs": [
    {
     "ename": "KeyError",
     "evalue": "'Harry'",
     "output_type": "error",
     "traceback": [
      "\u001b[0;31m---------------------------------------------------------------------------\u001b[0m",
      "\u001b[0;31mKeyError\u001b[0m                                  Traceback (most recent call last)",
      "\u001b[0;32m<ipython-input-29-867bfc8dc7cd>\u001b[0m in \u001b[0;36m<module>\u001b[0;34m\u001b[0m\n\u001b[1;32m      1\u001b[0m \u001b[0;31m# Which house is Harry in?\u001b[0m\u001b[0;34m\u001b[0m\u001b[0;34m\u001b[0m\u001b[0;34m\u001b[0m\u001b[0m\n\u001b[1;32m      2\u001b[0m \u001b[0;34m\u001b[0m\u001b[0m\n\u001b[0;32m----> 3\u001b[0;31m \u001b[0mpotter_houses\u001b[0m\u001b[0;34m[\u001b[0m\u001b[0;34m'Harry'\u001b[0m\u001b[0;34m]\u001b[0m\u001b[0;34m\u001b[0m\u001b[0;34m\u001b[0m\u001b[0m\n\u001b[0m",
      "\u001b[0;31mKeyError\u001b[0m: 'Harry'"
     ]
    }
   ],
   "source": [
    "# Which house is Harry in?\n",
    "\n",
    "potter_houses['Harry']"
   ]
  },
  {
   "cell_type": "code",
   "execution_count": 30,
   "metadata": {},
   "outputs": [],
   "source": [
    "# Which house is Harry in? This notation will return \"None\" \n",
    "\n",
    "potter_houses.get('Harry')"
   ]
  },
  {
   "cell_type": "code",
   "execution_count": 33,
   "metadata": {},
   "outputs": [
    {
     "data": {
      "text/plain": [
       "'Unknown'"
      ]
     },
     "execution_count": 33,
     "metadata": {},
     "output_type": "execute_result"
    }
   ],
   "source": [
    "# Which house is Harry in?\n",
    "\n",
    "potter_houses.get('Harry','Unknown')"
   ]
  },
  {
   "cell_type": "code",
   "execution_count": 34,
   "metadata": {},
   "outputs": [],
   "source": [
    "word_counts={'a':10}"
   ]
  },
  {
   "cell_type": "code",
   "execution_count": 36,
   "metadata": {},
   "outputs": [
    {
     "data": {
      "text/plain": [
       "0"
      ]
     },
     "execution_count": 36,
     "metadata": {},
     "output_type": "execute_result"
    }
   ],
   "source": [
    "word_counts.get('b',0)"
   ]
  },
  {
   "cell_type": "markdown",
   "metadata": {},
   "source": [
    "## How to update a dictionary\n",
    "\n",
    "### How to add entries\n",
    "\n",
    "We've already been doing this, but the syntax is:\n",
    "\n",
    "```python\n",
    "dictionary['some new key']='some new value'\n",
    "```"
   ]
  },
  {
   "cell_type": "code",
   "execution_count": 37,
   "metadata": {},
   "outputs": [],
   "source": [
    "potter_houses['Ron']='Gryffindor'"
   ]
  },
  {
   "cell_type": "code",
   "execution_count": 38,
   "metadata": {},
   "outputs": [
    {
     "data": {
      "text/plain": [
       "{'Hermione': 'Gryffindor',\n",
       " 'Severus': 'Slytherin',\n",
       " 'Sirius': 'Gryffindor',\n",
       " 'Luna': 'Ravenclaw',\n",
       " 'Cedric': 'Hufflepuff',\n",
       " 'Ryan': 'Slytherin',\n",
       " 'Ron': 'Gryffindor'}"
      ]
     },
     "execution_count": 38,
     "metadata": {},
     "output_type": "execute_result"
    }
   ],
   "source": [
    "potter_houses"
   ]
  },
  {
   "cell_type": "markdown",
   "metadata": {},
   "source": [
    "### How to edit entries"
   ]
  },
  {
   "cell_type": "code",
   "execution_count": 39,
   "metadata": {},
   "outputs": [],
   "source": [
    "potter_houses['Ron']='Slytherin'"
   ]
  },
  {
   "cell_type": "code",
   "execution_count": 40,
   "metadata": {},
   "outputs": [
    {
     "data": {
      "text/plain": [
       "{'Hermione': 'Gryffindor',\n",
       " 'Severus': 'Slytherin',\n",
       " 'Sirius': 'Gryffindor',\n",
       " 'Luna': 'Ravenclaw',\n",
       " 'Cedric': 'Hufflepuff',\n",
       " 'Ryan': 'Slytherin',\n",
       " 'Ron': 'Slytherin'}"
      ]
     },
     "execution_count": 40,
     "metadata": {},
     "output_type": "execute_result"
    }
   ],
   "source": [
    "potter_houses"
   ]
  },
  {
   "cell_type": "markdown",
   "metadata": {},
   "source": [
    "### How to delete entries in a dictionary\n",
    "\n",
    "We use the \"del\" command:\n",
    "\n",
    "```python\n",
    "del dictionary['key_to_delete']\n",
    "```"
   ]
  },
  {
   "cell_type": "code",
   "execution_count": 41,
   "metadata": {},
   "outputs": [],
   "source": [
    "del potter_houses['Ron']"
   ]
  },
  {
   "cell_type": "code",
   "execution_count": 42,
   "metadata": {},
   "outputs": [
    {
     "data": {
      "text/plain": [
       "{'Hermione': 'Gryffindor',\n",
       " 'Severus': 'Slytherin',\n",
       " 'Sirius': 'Gryffindor',\n",
       " 'Luna': 'Ravenclaw',\n",
       " 'Cedric': 'Hufflepuff',\n",
       " 'Ryan': 'Slytherin'}"
      ]
     },
     "execution_count": 42,
     "metadata": {},
     "output_type": "execute_result"
    }
   ],
   "source": [
    "potter_houses"
   ]
  },
  {
   "cell_type": "code",
   "execution_count": 43,
   "metadata": {},
   "outputs": [
    {
     "ename": "KeyError",
     "evalue": "'Ron'",
     "output_type": "error",
     "traceback": [
      "\u001b[0;31m---------------------------------------------------------------------------\u001b[0m",
      "\u001b[0;31mKeyError\u001b[0m                                  Traceback (most recent call last)",
      "\u001b[0;32m<ipython-input-43-d880ba011dea>\u001b[0m in \u001b[0;36m<module>\u001b[0;34m\u001b[0m\n\u001b[0;32m----> 1\u001b[0;31m \u001b[0mpotter_houses\u001b[0m\u001b[0;34m[\u001b[0m\u001b[0;34m'Ron'\u001b[0m\u001b[0;34m]\u001b[0m\u001b[0;34m\u001b[0m\u001b[0;34m\u001b[0m\u001b[0m\n\u001b[0m",
      "\u001b[0;31mKeyError\u001b[0m: 'Ron'"
     ]
    }
   ],
   "source": [
    "potter_houses['Ron']"
   ]
  },
  {
   "cell_type": "markdown",
   "metadata": {},
   "source": [
    "### How to get a list of a dictionary's keys and/or values\n",
    "\n",
    "Sometimes we want to get all at once the keys of a dictionary, or its values, or both together."
   ]
  },
  {
   "cell_type": "code",
   "execution_count": 44,
   "metadata": {},
   "outputs": [],
   "source": [
    "# For instance...\n",
    "word_counts = {'to':2, 'be':2, 'or':1, 'not':1}"
   ]
  },
  {
   "cell_type": "markdown",
   "metadata": {},
   "source": [
    "#### Getting all values: `.values()`"
   ]
  },
  {
   "cell_type": "code",
   "execution_count": 45,
   "metadata": {},
   "outputs": [
    {
     "data": {
      "text/plain": [
       "dict_values([2, 2, 1, 1])"
      ]
     },
     "execution_count": 45,
     "metadata": {},
     "output_type": "execute_result"
    }
   ],
   "source": [
    "# This returns a list of all the dictionary's values\n",
    "word_counts.values()"
   ]
  },
  {
   "cell_type": "markdown",
   "metadata": {},
   "source": [
    "We can pass this list of numbers to the built-in `sum()` function"
   ]
  },
  {
   "cell_type": "code",
   "execution_count": 47,
   "metadata": {},
   "outputs": [
    {
     "data": {
      "text/plain": [
       "6"
      ]
     },
     "execution_count": 47,
     "metadata": {},
     "output_type": "execute_result"
    }
   ],
   "source": [
    "values = word_counts.values()\n",
    "\n",
    "sum(values)"
   ]
  },
  {
   "cell_type": "markdown",
   "metadata": {},
   "source": [
    "#### Getting all keys: `.keys()`"
   ]
  },
  {
   "cell_type": "code",
   "execution_count": 48,
   "metadata": {},
   "outputs": [
    {
     "data": {
      "text/plain": [
       "dict_keys(['to', 'be', 'or', 'not'])"
      ]
     },
     "execution_count": 48,
     "metadata": {},
     "output_type": "execute_result"
    }
   ],
   "source": [
    "# This returns a list of all the dictionary's keys\n",
    "word_counts.keys()"
   ]
  },
  {
   "cell_type": "markdown",
   "metadata": {},
   "source": [
    "#### Getting all key-value pairs: `.items()`"
   ]
  },
  {
   "cell_type": "code",
   "execution_count": 49,
   "metadata": {},
   "outputs": [
    {
     "data": {
      "text/plain": [
       "dict_items([('to', 2), ('be', 2), ('or', 1), ('not', 1)])"
      ]
     },
     "execution_count": 49,
     "metadata": {},
     "output_type": "execute_result"
    }
   ],
   "source": [
    "# This returns a list of 'tuples' of (key,value)    [don't worry too much about this for now]\n",
    "word_counts.items()"
   ]
  },
  {
   "cell_type": "markdown",
   "metadata": {},
   "source": [
    "### How to test if something is in a dictionary"
   ]
  },
  {
   "cell_type": "code",
   "execution_count": 50,
   "metadata": {},
   "outputs": [
    {
     "data": {
      "text/plain": [
       "False"
      ]
     },
     "execution_count": 50,
     "metadata": {},
     "output_type": "execute_result"
    }
   ],
   "source": [
    "'Ron' in potter_houses"
   ]
  },
  {
   "cell_type": "code",
   "execution_count": 51,
   "metadata": {},
   "outputs": [
    {
     "data": {
      "text/plain": [
       "True"
      ]
     },
     "execution_count": 51,
     "metadata": {},
     "output_type": "execute_result"
    }
   ],
   "source": [
    "'Hermione' in potter_houses"
   ]
  },
  {
   "cell_type": "code",
   "execution_count": 52,
   "metadata": {},
   "outputs": [
    {
     "data": {
      "text/plain": [
       "True"
      ]
     },
     "execution_count": 52,
     "metadata": {},
     "output_type": "execute_result"
    }
   ],
   "source": [
    "'Ron' not in potter_houses"
   ]
  },
  {
   "cell_type": "code",
   "execution_count": 53,
   "metadata": {},
   "outputs": [
    {
     "data": {
      "text/plain": [
       "False"
      ]
     },
     "execution_count": 53,
     "metadata": {},
     "output_type": "execute_result"
    }
   ],
   "source": [
    "'Hermione' not in potter_houses"
   ]
  },
  {
   "cell_type": "code",
   "execution_count": 59,
   "metadata": {},
   "outputs": [
    {
     "data": {
      "text/plain": [
       "True"
      ]
     },
     "execution_count": 59,
     "metadata": {},
     "output_type": "execute_result"
    }
   ],
   "source": [
    "# @TODO: Ask if Dumbledore is in potter_houses\n",
    "#\n",
    "\n",
    "'Dumbledore' in potter_houses"
   ]
  },
  {
   "cell_type": "code",
   "execution_count": 57,
   "metadata": {},
   "outputs": [],
   "source": [
    "potter_houses['Dumbledore'] = 'Gryffindor'"
   ]
  },
  {
   "cell_type": "code",
   "execution_count": 58,
   "metadata": {},
   "outputs": [
    {
     "data": {
      "text/plain": [
       "{'Hermione': 'Gryffindor',\n",
       " 'Severus': 'Slytherin',\n",
       " 'Sirius': 'Gryffindor',\n",
       " 'Luna': 'Ravenclaw',\n",
       " 'Cedric': 'Hufflepuff',\n",
       " 'Ryan': 'Slytherin',\n",
       " 'Dumbledore': 'Gryffindor'}"
      ]
     },
     "execution_count": 58,
     "metadata": {},
     "output_type": "execute_result"
    }
   ],
   "source": [
    "potter_houses"
   ]
  },
  {
   "cell_type": "markdown",
   "metadata": {},
   "source": [
    "## Booleans and If/Else statements"
   ]
  },
  {
   "cell_type": "markdown",
   "metadata": {},
   "source": [
    "### Boolean expressions\n",
    "\n",
    "We've seen a few boolean (true/false) expressions so far. There is, for instance, the magic words in Python `True` and `False`."
   ]
  },
  {
   "cell_type": "code",
   "execution_count": 60,
   "metadata": {},
   "outputs": [
    {
     "name": "stdout",
     "output_type": "stream",
     "text": [
      "True False\n"
     ]
    }
   ],
   "source": [
    "print(True, False)"
   ]
  },
  {
   "cell_type": "markdown",
   "metadata": {},
   "source": [
    "But there are also ways of **testing** the truth or falsity of expressions."
   ]
  },
  {
   "cell_type": "code",
   "execution_count": 61,
   "metadata": {},
   "outputs": [
    {
     "data": {
      "text/plain": [
       "True"
      ]
     },
     "execution_count": 61,
     "metadata": {},
     "output_type": "execute_result"
    }
   ],
   "source": [
    "# LET venus equal 'morning star'. (Note the imperative tense)\n",
    "venus = 'morning star'\n",
    "\n",
    "# DOES venus equal 'morning star'? (Note the question)\n",
    "venus == 'morning star'"
   ]
  },
  {
   "cell_type": "markdown",
   "metadata": {},
   "source": [
    "Other forms of testing truth/falsity:\n",
    "\n",
    "```python\n",
    "x == y       # is x equal to y?\n",
    "x != y       # is x not equal to y?\n",
    "x in y       # is x inside y? (\"y\" may be a list, set, or dictionary)\n",
    "x not in y   # is x not inside y? (\"y\" may be a list, set, or dictionary)\n",
    "x > y        # is x greater than y?\n",
    "x < y        # is x less than y?\n",
    "x >= y       # is x greater than or equal to y?\n",
    "x <= y       # is x less than or equal to y?\n",
    "```"
   ]
  },
  {
   "cell_type": "markdown",
   "metadata": {},
   "source": [
    "We can use these tests to **control the flow** of execution."
   ]
  },
  {
   "cell_type": "markdown",
   "metadata": {},
   "source": [
    "### \"If\"\n",
    "\n",
    "This is the most basic form of flow control. In pseudo-code:\n",
    "\n",
    "    (A) IF something is true:\n",
    "        (B) then do this\n",
    "        \n",
    "    (C) no matter what do this\n",
    "        \n",
    "Note the indentation, which implies the \"then\" to the if. (B) will only run if (A) is true. (C) will run regardless."
   ]
  },
  {
   "cell_type": "code",
   "execution_count": 63,
   "metadata": {},
   "outputs": [
    {
     "name": "stdout",
     "output_type": "stream",
     "text": [
      "Hi!\n"
     ]
    }
   ],
   "source": [
    "if 'Ron' in potter_houses:\n",
    "    print('Ron is in the dictionary!')\n",
    "    \n",
    "print('Hi!')"
   ]
  },
  {
   "cell_type": "code",
   "execution_count": 64,
   "metadata": {},
   "outputs": [
    {
     "data": {
      "text/plain": [
       "False"
      ]
     },
     "execution_count": 64,
     "metadata": {},
     "output_type": "execute_result"
    }
   ],
   "source": [
    "'Ron' in potter_houses"
   ]
  },
  {
   "cell_type": "code",
   "execution_count": 65,
   "metadata": {},
   "outputs": [
    {
     "name": "stdout",
     "output_type": "stream",
     "text": [
      "Oh no! Ron is not in the dictionary!\n",
      "Hi to you too!\n"
     ]
    }
   ],
   "source": [
    "if 'Ron' not in potter_houses:\n",
    "    print('Oh no! Ron is not in the dictionary!')\n",
    "\n",
    "print('Hi to you too!')"
   ]
  },
  {
   "cell_type": "code",
   "execution_count": 67,
   "metadata": {},
   "outputs": [
    {
     "name": "stdout",
     "output_type": "stream",
     "text": [
      "Hi Snape!\n"
     ]
    }
   ],
   "source": [
    "## @TODO: Say \"hello\" to Severus, only if he is in the dictionary\n",
    "#\n",
    "\n",
    "if 'Severus' in potter_houses:\n",
    "    print(\"Hi Snape!\")"
   ]
  },
  {
   "cell_type": "markdown",
   "metadata": {},
   "source": [
    "### \"Else\"\n",
    "\n",
    "A secondary part of an if statement is an \"else\" or \"otherwise\". In pseudo-code:\n",
    "\n",
    "    (A) IF something is true:\n",
    "        (B) then do this\n",
    "\n",
    "    (C) ELSE:\n",
    "        (D) do this instead\n",
    "        \n",
    "    (E) no matter what do this\n",
    "    \n",
    "(B) will run if (A) is true; (D) will run if (A) is *not* true. (E) will run no matter what."
   ]
  },
  {
   "cell_type": "code",
   "execution_count": 70,
   "metadata": {},
   "outputs": [
    {
     "name": "stdout",
     "output_type": "stream",
     "text": [
      "Harry is in potter_houses, and his house is Gryffindor\n",
      "Just hanging out down here.\n"
     ]
    }
   ],
   "source": [
    "if 'Harry' in potter_houses:\n",
    "    print('Harry is in potter_houses, and his house is', potter_houses['Harry'])\n",
    "else:\n",
    "    print('Harry is not in potter_houses!')\n",
    "    \n",
    "print('Just hanging out down here.')"
   ]
  },
  {
   "cell_type": "code",
   "execution_count": 69,
   "metadata": {},
   "outputs": [],
   "source": [
    "potter_houses['Harry']='Gryffindor'\n",
    "# del potter_houses['Harry']"
   ]
  },
  {
   "cell_type": "code",
   "execution_count": 74,
   "metadata": {},
   "outputs": [
    {
     "name": "stdout",
     "output_type": "stream",
     "text": [
      "sad\n"
     ]
    }
   ],
   "source": [
    "# @TODO: Write an if/else involving entries in potter_houses\n",
    "#\n",
    "\n",
    "if 'Hermione' in potter_houses:\n",
    "    ron = 'happy'\n",
    "else:\n",
    "    ron = 'sad'\n",
    "    \n",
    "print(ron)"
   ]
  },
  {
   "cell_type": "code",
   "execution_count": 76,
   "metadata": {},
   "outputs": [],
   "source": [
    "#del potter_houses['Hermione']"
   ]
  },
  {
   "cell_type": "markdown",
   "metadata": {},
   "source": [
    "### \"Elif\" (else if)\n",
    "\n",
    "Sometimes we want to test more than two cases. We do that using elif (which means \"else if\"). Something like this (again in pseudo-code):\n",
    "\n",
    "    (A) [IF] something is true:\n",
    "        (B) then do this\n",
    "        \n",
    "    (C) [ELIF] ok, if not (A), but this other thing is true:\n",
    "        (D) then do this\n",
    "\n",
    "    (E) [ELSE] if neither (A) nor (C) is true:\n",
    "        (F) do this instead\n",
    "        \n",
    "    (G) no matter what do this\n",
    "    \n",
    "(B) will run if (A) is true; (D) will run if (A) is not true and (C) is true; (E) will run if neither (A) nor (C) is true. (G) will run no matter what."
   ]
  },
  {
   "cell_type": "code",
   "execution_count": 83,
   "metadata": {},
   "outputs": [
    {
     "name": "stdout",
     "output_type": "stream",
     "text": [
      "Neither Voldemort nor Snape is in the house.\n"
     ]
    }
   ],
   "source": [
    "# If/Elif/Else Example\n",
    "\n",
    "if 'Voldemort' in potter_houses:\n",
    "    print('The name that shall not be spoken is in the house!')\n",
    "elif 'Severus' in potter_houses:\n",
    "    print('Snape is in the house!')\n",
    "else:\n",
    "    print('Neither Voldemort nor Snape is in the house.')"
   ]
  },
  {
   "cell_type": "code",
   "execution_count": 80,
   "metadata": {},
   "outputs": [],
   "source": [
    "# @TODO: Edit potter_houses such that 'The name that shall not be spoken is in the house!'\n",
    "#    appears in the output of the If/Elif/Else Example above\n",
    "#\n",
    "\n",
    "potter_houses['Voldemort'] = 'Slytherin'"
   ]
  },
  {
   "cell_type": "code",
   "execution_count": 82,
   "metadata": {},
   "outputs": [],
   "source": [
    "# @TODO: Edit potter_houses such that 'Neither Voldemort nor Snape is in the house'\n",
    "#    appears in the output of the If/Elif/Else Example above\n",
    "#\n",
    "\n",
    "del potter_houses['Voldemort']\n",
    "del potter_houses['Severus']"
   ]
  },
  {
   "cell_type": "code",
   "execution_count": null,
   "metadata": {},
   "outputs": [],
   "source": []
  }
 ],
 "metadata": {
  "kernelspec": {
   "display_name": "Python 3",
   "language": "python",
   "name": "python3"
  },
  "language_info": {
   "codemirror_mode": {
    "name": "ipython",
    "version": 3
   },
   "file_extension": ".py",
   "mimetype": "text/x-python",
   "name": "python",
   "nbconvert_exporter": "python",
   "pygments_lexer": "ipython3",
   "version": "3.7.1"
  }
 },
 "nbformat": 4,
 "nbformat_minor": 2
}
