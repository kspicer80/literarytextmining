{
 "cells": [
  {
   "cell_type": "markdown",
   "metadata": {},
   "source": [
    "# (3E-1) Dictionaries\n",
    "\n",
    "In this notebook, we'll learn:\n",
    "\n",
    "* What **dictionaries** are\n",
    "* How to create/edit/update/delete dictionaries\n",
    "* How to write **if/else** statements\n",
    "\n",
    "## Why?\n",
    "\n",
    "Why do we need dictionaries in this course? For many reasons; dictionaries are one of the most fundamental and basic data types in Python. However, dictionaries are frequently used in text mining to represent **word counts**, one of the most elemental forms of data in text mining. \n",
    "\n",
    "```python\n",
    "word_counts = {\n",
    "    'to' : 2,\n",
    "    'be' : 2,\n",
    "    'or' : 1,\n",
    "    'not': 1\n",
    "}\n",
    "```\n",
    "\n",
    "We'll focus on the application of dictionaries to word counts in the [following notebook](3E-2_word_counts.ipynb); for now, let's look at what dictionaries are.\n",
    "\n",
    "## Data types in Python\n",
    "\n",
    "So far we've learned these \"data types\" in Python:\n",
    "* \"Primitive\" data types:\n",
    "    * **Integers** and **floats**: how Python stores numbers\n",
    "    * **Strings**: sequences of characters (letters, spaces, punctuation marks, even numbers in their graphesis)\n",
    "* \"Non-primitive\" data types:\n",
    "    * **Lists**: sequences of *elements*, which can be of any other data type in Python\n",
    "    * **Sets**: sets of *unique elements*\n",
    "\n",
    "Here's a graphical overview of the data types in Python.\n",
    "\n",
    "<center><img src=\"images/DataStructureFlow.png\"></center>\n",
    "\n",
    "We're now going to learn our last major data type: the **dictionary**."
   ]
  },
  {
   "cell_type": "markdown",
   "metadata": {},
   "source": [
    "## The Dictionary\n",
    "\n",
    "What is a dictionary? Known since the Sumerians, dictionaries first appeared in English in 1220 as an aid to translate between English and Latin (helping with Latin \"diction\"). The first comprehensive and scholarly dictionary in English is widely believed to be Samuel Johnson's *Dictionary of the English Language* in 1755. Here's an example of Johnson's dictionary in plain text:\n",
    "\n",
    "    Abacus\n",
    "        n. A counting table, anciently used in calculations\n",
    "    Abaft\n",
    "        adv. From the fore part of the ship, to the stern\n",
    "    Abaisance\n",
    "        n. An act of reverance, a bow\n",
    "\n",
    "We're interested here in the *form* of the dictionary: a headword, followed by a definition; a headword, followed by a definition. Headwords are traditionally alphabetized, but they needn't be (think of the digital search-based dictionaries we all use now).\n",
    "\n",
    "Python lets us model this dictionary form as such:"
   ]
  },
  {
   "cell_type": "code",
   "execution_count": null,
   "metadata": {},
   "outputs": [],
   "source": [
    "# Create an empty dictionary\n",
    "english_lang_dict = {}\n",
    "\n",
    "# Add an entry for 'abacus'\n",
    "english_lang_dict['Abacus'] = 'n. A counting table, anciently used in calculations'\n",
    "\n",
    "# Add an entry for 'abaft'\n",
    "english_lang_dict['Abaft'] = 'adv. From the fore part of the ship, to the stern'\n",
    "\n",
    "# Add an entry for 'abaisance'\n",
    "english_lang_dict['Abaisance'] = 'n. An act of reverance, a bow'\n",
    "\n",
    "# Return the dictionary\n",
    "english_lang_dict"
   ]
  },
  {
   "cell_type": "markdown",
   "metadata": {},
   "source": [
    "### The dictionary lookup\n",
    "\n",
    "Why do we need dictionaries? Well, in real life, how do we use dictionaries? Most people would never read a dictionary left to rage, page by page, cover to cover. Instead, they use a dictionary to look up a particular word.\n",
    "\n",
    "This is also exactly why we use dictionaries in Python. Now that I have a dictionary called `english_lang_dict`, at any time I can look up the definition for any word in that dictionary."
   ]
  },
  {
   "cell_type": "code",
   "execution_count": null,
   "metadata": {},
   "outputs": [],
   "source": [
    "# What's the definition of 'abaisance' again?\n",
    "\n",
    "print(english_lang_dict['Abaisance'])"
   ]
  },
  {
   "cell_type": "code",
   "execution_count": 85,
   "metadata": {},
   "outputs": [
    {
     "name": "stdout",
     "output_type": "stream",
     "text": [
      "adv. From the fore part of the ship, to the stern\n"
     ]
    }
   ],
   "source": [
    "# What about 'abaft'?\n",
    "\n",
    "print(english_lang_dict['Abaft'])"
   ]
  },
  {
   "cell_type": "code",
   "execution_count": 88,
   "metadata": {},
   "outputs": [],
   "source": [
    "# @TODO: What about 'Abacus'?\n",
    "#\n"
   ]
  },
  {
   "cell_type": "markdown",
   "metadata": {},
   "source": [
    "### \"Keys\" and \"values\"\n",
    "\n",
    "A generalization of the dictionary form takes us beyond actual dictionaries, with actual definitions of actual words. Instead, we can think of a dictionary as a mapping between \"keys\" (e.g. headwords) and \"values\" (e.g. definitions)."
   ]
  },
  {
   "cell_type": "code",
   "execution_count": null,
   "metadata": {},
   "outputs": [],
   "source": [
    "# make dictionary\n",
    "dictionary_form = {\n",
    "    'key1' : 'value1',\n",
    "    'key2' : 'value2',\n",
    "    'key3' : 'value3',\n",
    "}\n",
    "\n",
    "# show dictionary\n",
    "dictionary_form"
   ]
  },
  {
   "cell_type": "markdown",
   "metadata": {},
   "source": [
    "This means we can store all kinds of content in a dictionary. For instance, what are the names of baseball teams again?"
   ]
  },
  {
   "cell_type": "code",
   "execution_count": null,
   "metadata": {},
   "outputs": [],
   "source": [
    "# create dictionary\n",
    "MLB_team = {\n",
    "    'Colorado' : 'Rockies',\n",
    "    'Boston'   : 'Red Sox',\n",
    "    'Minnesota': 'Twins',\n",
    "    'Milwaukee': 'Brewers',\n",
    "    'Seattle'  : 'Mariners'\n",
    "}\n",
    "\n",
    "# show dictionary\n",
    "MLB_team"
   ]
  },
  {
   "cell_type": "markdown",
   "metadata": {},
   "source": [
    "This creates a series of **key-value pairs**, which look something like this, with keys in blue and their values in green:\n",
    "\n",
    "<center><img src=\"images/dict-mlb.png\" width=\"300\" /><br/><small>(Source: https://realpython.com/python-dicts/)</small></center><br/>\n",
    "\n",
    "Now, when I need to look up a team name (value) based on its city (key), I can do that with:"
   ]
  },
  {
   "cell_type": "code",
   "execution_count": null,
   "metadata": {},
   "outputs": [],
   "source": [
    "# Which team is in Minnesota again?\n",
    "MLB_team['Minnesota']"
   ]
  },
  {
   "cell_type": "code",
   "execution_count": null,
   "metadata": {},
   "outputs": [],
   "source": [
    "# Which team in Seattle?\n",
    "MLB_team['Seattle']"
   ]
  },
  {
   "cell_type": "markdown",
   "metadata": {},
   "source": [
    "## How to create a dictionary\n",
    "\n",
    "There are a few different ways to create dictionaries.\n",
    "\n",
    "### 1. One key-value pair at a time"
   ]
  },
  {
   "cell_type": "code",
   "execution_count": null,
   "metadata": {},
   "outputs": [],
   "source": [
    "# Create an empty dictionary\n",
    "trees = {}\n",
    "\n",
    "# Add an entry\n",
    "trees['Redwood'] = '(Sequoia sempervirens) Tallest trees on earth. Found on the Pacific coast of Northern California.'\n",
    "\n",
    "# Add an entry\n",
    "trees['Sequoia'] = '(Sequoiadendron giganteum) Largest trees on earth. Found on the western slopes of the Sierra Nevadas.'"
   ]
  },
  {
   "cell_type": "code",
   "execution_count": null,
   "metadata": {},
   "outputs": [],
   "source": [
    "# show dictionary\n",
    "trees"
   ]
  },
  {
   "cell_type": "code",
   "execution_count": null,
   "metadata": {},
   "outputs": [],
   "source": [
    "# @TODO: Add a tree to the dictionary! (Even a fake one), and then return/print the dictionary\n",
    "#\n",
    "\n"
   ]
  },
  {
   "cell_type": "markdown",
   "metadata": {},
   "source": [
    "### 2. Using the {key:value} notation"
   ]
  },
  {
   "cell_type": "code",
   "execution_count": null,
   "metadata": {},
   "outputs": [],
   "source": [
    "# Another way to create a dictionary is to store a bunch of key-value pairs all at once\n",
    "\n",
    "potter_houses = {\n",
    "    'Hermione' : 'Gryffindor',\n",
    "    'Severus': 'Slytherin',\n",
    "    'Sirius': 'Gryffindor',\n",
    "    'Luna': 'Ravenclaw',\n",
    "    'Cedric': 'Hufflepuff',\n",
    "}"
   ]
  },
  {
   "cell_type": "code",
   "execution_count": null,
   "metadata": {},
   "outputs": [],
   "source": [
    "# @TODO: Add yourself to this dictionary and your favorite Potter house\n",
    "#\n",
    "\n"
   ]
  },
  {
   "cell_type": "code",
   "execution_count": null,
   "metadata": {},
   "outputs": [],
   "source": [
    "# @TODO: Create a dictionary mapping your friends to their Harry Potter or Stanford house/dorm\n",
    "#\n",
    "\n"
   ]
  },
  {
   "cell_type": "markdown",
   "metadata": {},
   "source": [
    "## How to read things in a dictionary\n",
    "\n",
    "There are two very simple ways to access the value for any key in a dictionary:\n",
    "\n",
    "### 1. Using square bracket notation\n",
    "\n",
    "```python\n",
    "dictionary['name_of_key']  # returns value\n",
    "```"
   ]
  },
  {
   "cell_type": "code",
   "execution_count": null,
   "metadata": {},
   "outputs": [],
   "source": [
    "# Which house is Hermione in?\n",
    "\n",
    "potter_houses['Hermione']"
   ]
  },
  {
   "cell_type": "code",
   "execution_count": null,
   "metadata": {},
   "outputs": [],
   "source": [
    "# @TODO: Get the entries for 'Redwood' and 'Sequoia' in the trees dictionary. Which is taller?\n",
    "#"
   ]
  },
  {
   "cell_type": "markdown",
   "metadata": {},
   "source": [
    "### 2. Using `.get()` notation"
   ]
  },
  {
   "cell_type": "code",
   "execution_count": null,
   "metadata": {},
   "outputs": [],
   "source": [
    "# Which house is Harry in?\n",
    "\n",
    "potter_houses['Harry']"
   ]
  },
  {
   "cell_type": "code",
   "execution_count": null,
   "metadata": {},
   "outputs": [],
   "source": [
    "# Which house is Harry in? This notation will return \"None\" \n",
    "\n",
    "potter_houses.get('Harry')"
   ]
  },
  {
   "cell_type": "code",
   "execution_count": null,
   "metadata": {},
   "outputs": [],
   "source": [
    "# Which house is Harry in?\n",
    "\n",
    "potter_houses.get('Harry','Unknown')"
   ]
  },
  {
   "cell_type": "markdown",
   "metadata": {},
   "source": [
    "## How to update a dictionary\n",
    "\n",
    "### How to add entries\n",
    "\n",
    "We've already been doing this, but the syntax is:\n",
    "\n",
    "```python\n",
    "dictionary['some new key']='some new value'\n",
    "```"
   ]
  },
  {
   "cell_type": "code",
   "execution_count": null,
   "metadata": {},
   "outputs": [],
   "source": [
    "potter_houses['Ron']='Gryffindor'"
   ]
  },
  {
   "cell_type": "code",
   "execution_count": null,
   "metadata": {},
   "outputs": [],
   "source": [
    "potter_houses"
   ]
  },
  {
   "cell_type": "markdown",
   "metadata": {},
   "source": [
    "### How to edit entries"
   ]
  },
  {
   "cell_type": "code",
   "execution_count": null,
   "metadata": {},
   "outputs": [],
   "source": [
    "potter_houses['Ron']='Slytherin'"
   ]
  },
  {
   "cell_type": "code",
   "execution_count": null,
   "metadata": {},
   "outputs": [],
   "source": [
    "potter_houses"
   ]
  },
  {
   "cell_type": "markdown",
   "metadata": {},
   "source": [
    "### How to delete entries in a dictionary\n",
    "\n",
    "We use the \"del\" command:\n",
    "\n",
    "```python\n",
    "del dictionary['key_to_delete']\n",
    "```"
   ]
  },
  {
   "cell_type": "code",
   "execution_count": null,
   "metadata": {},
   "outputs": [],
   "source": [
    "del potter_houses['Ron']"
   ]
  },
  {
   "cell_type": "code",
   "execution_count": null,
   "metadata": {},
   "outputs": [],
   "source": [
    "potter_houses"
   ]
  },
  {
   "cell_type": "code",
   "execution_count": null,
   "metadata": {},
   "outputs": [],
   "source": [
    "potter_houses['Ron']"
   ]
  },
  {
   "cell_type": "markdown",
   "metadata": {},
   "source": [
    "## Test if something is in a dictionary"
   ]
  },
  {
   "cell_type": "code",
   "execution_count": null,
   "metadata": {},
   "outputs": [],
   "source": [
    "'Ron' in potter_houses"
   ]
  },
  {
   "cell_type": "code",
   "execution_count": null,
   "metadata": {},
   "outputs": [],
   "source": [
    "'Hermione' in potter_houses"
   ]
  },
  {
   "cell_type": "code",
   "execution_count": null,
   "metadata": {},
   "outputs": [],
   "source": [
    "'Ron' not in potter_houses"
   ]
  },
  {
   "cell_type": "code",
   "execution_count": null,
   "metadata": {},
   "outputs": [],
   "source": [
    "'Hermione' not in potter_houses"
   ]
  },
  {
   "cell_type": "code",
   "execution_count": null,
   "metadata": {},
   "outputs": [],
   "source": [
    "# @TODO: Ask if Dumbledore is in potter_houses\n",
    "#\n"
   ]
  },
  {
   "cell_type": "markdown",
   "metadata": {},
   "source": [
    "## If/Else statements\n",
    "\n",
    "### \"If\"\n",
    "\n",
    "This is the most basic form of flow control. In pseudo-code:\n",
    "\n",
    "    (A) IF something is true:\n",
    "        (B) then do this\n",
    "        \n",
    "    (C) no matter what do this\n",
    "        \n",
    "Note the indentation, which implies the \"then\" to the if. (B) will only run if (A) is true. (C) will run regardless."
   ]
  },
  {
   "cell_type": "code",
   "execution_count": null,
   "metadata": {},
   "outputs": [],
   "source": [
    "if 'Ron' in potter_houses:\n",
    "    print('Ron is in the dictionary!')\n",
    "    \n",
    "print('Hi!')"
   ]
  },
  {
   "cell_type": "code",
   "execution_count": null,
   "metadata": {},
   "outputs": [],
   "source": [
    "if 'Ron' not in potter_houses:\n",
    "    print('Oh no! Ron is not in the dictionary!')\n",
    "\n",
    "print('Hi to you too!')"
   ]
  },
  {
   "cell_type": "code",
   "execution_count": null,
   "metadata": {},
   "outputs": [],
   "source": [
    "## @TODO: Say \"hello\" to Severus, only if he is in the dictionary\n",
    "#\n"
   ]
  },
  {
   "cell_type": "markdown",
   "metadata": {},
   "source": [
    "### \"Else\"\n",
    "\n",
    "A secondary part of an if statement is an \"else\" or \"otherwise\". In pseudo-code:\n",
    "\n",
    "    (A) IF something is true:\n",
    "        (B) then do this\n",
    "\n",
    "    (C) ELSE:\n",
    "        (D) do this instead\n",
    "        \n",
    "    (E) no matter what do this\n",
    "    \n",
    "(B) will run if (A) is true; (D) will run if (A) is *not* true. (E) will run no matter what."
   ]
  },
  {
   "cell_type": "code",
   "execution_count": null,
   "metadata": {},
   "outputs": [],
   "source": [
    "if 'Harry' in potter_houses:\n",
    "    print('Harry is in potter_houses, and his house is', potter_houses['Harry'])\n",
    "else:\n",
    "    print('Harry is not in potter_houses!')\n",
    "    \n",
    "print('Just hanging out down here.')"
   ]
  },
  {
   "cell_type": "code",
   "execution_count": null,
   "metadata": {},
   "outputs": [],
   "source": [
    "# potter_houses['Harry']='Gryffindor'\n",
    "# del potter_houses['Harry']"
   ]
  },
  {
   "cell_type": "code",
   "execution_count": null,
   "metadata": {},
   "outputs": [],
   "source": [
    "# @TODO: Write an if/else involving entries in potter_houses\n",
    "#\n",
    "\n"
   ]
  },
  {
   "cell_type": "markdown",
   "metadata": {},
   "source": [
    "### \"Elif\" (else if)\n",
    "\n",
    "Sometimes we want to test more than two cases. We do that using elif (which means \"else if\"). Something like this (again in pseudo-code):\n",
    "\n",
    "    (A) [IF] something is true:\n",
    "        (B) then do this\n",
    "        \n",
    "    (C) [ELIF] ok, if not (A), but this other thing is true:\n",
    "        (D) then do this\n",
    "\n",
    "    (E) [ELSE] if neither (A) nor (C) is true:\n",
    "        (F) do this instead\n",
    "        \n",
    "    (G) no matter what do this\n",
    "    \n",
    "(B) will run if (A) is true; (D) will run if (A) is not true and (C) is true; (E) will run if neither (A) nor (C) is true. (G) will run no matter what."
   ]
  },
  {
   "cell_type": "code",
   "execution_count": null,
   "metadata": {},
   "outputs": [],
   "source": [
    "# If/Elif/Else Example\n",
    "\n",
    "if 'Voldemort' in potter_houses:\n",
    "    print('The name that shall not be spoken is in the house!')\n",
    "elif 'Severus' in potter_houses:\n",
    "    print('Snape is in the house!')\n",
    "else:\n",
    "    print('Neither Voldemort nor Snape is in the house.')"
   ]
  },
  {
   "cell_type": "code",
   "execution_count": null,
   "metadata": {},
   "outputs": [],
   "source": [
    "# @TODO: Edit potter_houses such that 'The name that shall not be spoken is in the house!'\n",
    "#    appears in the output of the If/Elif/Else Example above\n",
    "#\n"
   ]
  },
  {
   "cell_type": "code",
   "execution_count": 89,
   "metadata": {},
   "outputs": [],
   "source": [
    "# @TODO: Edit potter_houses such that 'Neither Voldemort nor Snape is in the house'\n",
    "#    appears in the output of the If/Elif/Else Example above\n",
    "#\n"
   ]
  }
 ],
 "metadata": {
  "kernelspec": {
   "display_name": "Python 3",
   "language": "python",
   "name": "python3"
  },
  "language_info": {
   "codemirror_mode": {
    "name": "ipython",
    "version": 3
   },
   "file_extension": ".py",
   "mimetype": "text/x-python",
   "name": "python",
   "nbconvert_exporter": "python",
   "pygments_lexer": "ipython3",
   "version": "3.7.1"
  }
 },
 "nbformat": 4,
 "nbformat_minor": 2
}
