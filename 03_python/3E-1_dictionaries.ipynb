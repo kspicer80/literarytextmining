{
 "cells": [
  {
   "cell_type": "markdown",
   "metadata": {},
   "source": [
    "# (3E-1) Dictionaries\n",
    "\n",
    "In this notebook, we'll learn:\n",
    "\n",
    "* What dictionaries are\n",
    "* How to create/edit/update/delete dictionaries\n",
    "\n",
    "## Data types in Python\n",
    "\n",
    "So far we've learned these \"data types\" in Python:\n",
    "* \"Primitive\" data types:\n",
    "    * **Integers** and **floats**: how Python stores numbers\n",
    "    * **Strings**: sequences of characters (letters, spaces, punctuation marks, even numbers in their graphesis)\n",
    "* \"Non-primitive\" data types:\n",
    "    * **Lists**: sequences of *elements*, which can be of any other data type in Python\n",
    "    * **Sets**: sets of *unique elements*\n",
    "\n",
    "Here's a graphical overview of the data types in Python.\n",
    "\n",
    "<center><img src=\"images/DataStructureFlow.png\"></center>\n",
    "\n",
    "We're now going to learn our last major data type: the **dictionary**."
   ]
  },
  {
   "cell_type": "markdown",
   "metadata": {},
   "source": [
    "## The Dictionary\n",
    "\n",
    "What is a dictionary? Known since the Sumerians, dictionaries first appeared in English in 1220 as an aid to translate between English and Latin (helping with Latin \"diction\"). The first comprehensive and scholarly dictionary in English is widely believed to be Samuel Johnson's *Dictionary of the English Language* in 1755. Here's an example of Johnson's dictionary in plain text:\n",
    "\n",
    "    Abacus\n",
    "        n. A counting table, anciently used in calculations\n",
    "    Abaft\n",
    "        adv. From the fore part of the ship, to the stern\n",
    "    Abaisance\n",
    "        n. An act of reverance, a bow\n",
    "\n",
    "We're interested here in the *form* of the dictionary: a headword, followed by a definition; a headword, followed by a definition. Headwords are traditionally alphabetized, but they needn't be (think of the digital search-based dictionaries we all use now).\n",
    "\n",
    "Python lets us model this dictionary form as such:"
   ]
  },
  {
   "cell_type": "code",
   "execution_count": 2,
   "metadata": {},
   "outputs": [
    {
     "data": {
      "text/plain": [
       "{'Abacus': 'n. A counting table, anciently used in calculations',\n",
       " 'Abaft': 'adv. From the fore part of the ship, to the stern',\n",
       " 'Abaisance': 'n. An act of reverance, a bow'}"
      ]
     },
     "execution_count": 2,
     "metadata": {},
     "output_type": "execute_result"
    }
   ],
   "source": [
    "# Create an empty dictionary\n",
    "english_lang_dict = {}\n",
    "\n",
    "# Add an entry for 'abacus'\n",
    "english_lang_dict['Abacus'] = 'n. A counting table, anciently used in calculations'\n",
    "\n",
    "# Add an entry for 'abaft'\n",
    "english_lang_dict['Abaft'] = 'adv. From the fore part of the ship, to the stern'\n",
    "\n",
    "# Add an entry for 'abaisance'\n",
    "english_lang_dict['Abaisance'] = 'n. An act of reverance, a bow'\n",
    "\n",
    "# Return the dictionary\n",
    "english_lang_dict"
   ]
  },
  {
   "cell_type": "markdown",
   "metadata": {},
   "source": [
    "### The dictionary lookup\n",
    "\n",
    "Why do we need dictionaries? Well, in real life, how do we use dictionaries? Most people would never read a dictionary left to rage, page by page, cover to cover. Instead, they use a dictionary to look up a particular word.\n",
    "\n",
    "This is also exactly why we use dictionaries in Python. Now that I have a dictionary called `english_lang_dict`, at any time I can look up the definition for any word in that dictionary."
   ]
  },
  {
   "cell_type": "code",
   "execution_count": 9,
   "metadata": {},
   "outputs": [
    {
     "name": "stdout",
     "output_type": "stream",
     "text": [
      "n. An act of reverance, a bow\n"
     ]
    }
   ],
   "source": [
    "# What's the definition of 'abaisance' again?\n",
    "\n",
    "print(english_lang_dict['Abaisance'])"
   ]
  },
  {
   "cell_type": "code",
   "execution_count": 10,
   "metadata": {},
   "outputs": [
    {
     "name": "stdout",
     "output_type": "stream",
     "text": [
      "adv. From the fore part of the ship, to the stern\n"
     ]
    }
   ],
   "source": [
    "# What about 'abaft'?\n",
    "\n",
    "print(english_lang_dict['Abaft'])"
   ]
  },
  {
   "cell_type": "markdown",
   "metadata": {},
   "source": [
    "### \"Keys\" and \"values\"\n",
    "\n",
    "A generalization of the dictionary form takes us beyond actual dictionaries, with actual definitions of actual words. Instead, we can think of a dictionary as a mapping between \"keys\" (e.g. headwords) and \"values\" (e.g. definitions)."
   ]
  },
  {
   "cell_type": "code",
   "execution_count": 13,
   "metadata": {},
   "outputs": [
    {
     "data": {
      "text/plain": [
       "{'key1': 'value1', 'key2': 'value2', 'key3': 'value3'}"
      ]
     },
     "execution_count": 13,
     "metadata": {},
     "output_type": "execute_result"
    }
   ],
   "source": [
    "# make dictionary\n",
    "dictionary_form = {\n",
    "    'key1' : 'value1',\n",
    "    'key2' : 'value2',\n",
    "    'key3' : 'value3',\n",
    "}\n",
    "\n",
    "# return dictionary\n",
    "dictionary_form"
   ]
  },
  {
   "cell_type": "markdown",
   "metadata": {},
   "source": [
    "This means we can store all kinds of content in a dictionary. For instance, what are the names of baseball teams again?"
   ]
  },
  {
   "cell_type": "code",
   "execution_count": 16,
   "metadata": {},
   "outputs": [
    {
     "data": {
      "text/plain": [
       "{'Boston': 'Red Sox',\n",
       " 'Colorado': 'Rockies',\n",
       " 'Milwaukee': 'Brewers',\n",
       " 'Minnesota': 'Twins',\n",
       " 'Seattle': 'Mariners'}"
      ]
     },
     "execution_count": 16,
     "metadata": {},
     "output_type": "execute_result"
    }
   ],
   "source": [
    "# create dictionary\n",
    "MLB_team = {\n",
    "    'Colorado' : 'Rockies',\n",
    "    'Boston'   : 'Red Sox',\n",
    "    'Minnesota': 'Twins',\n",
    "    'Milwaukee': 'Brewers',\n",
    "    'Seattle'  : 'Mariners'\n",
    "}\n",
    "\n",
    "# return dictionary\n",
    "MLB_team"
   ]
  },
  {
   "cell_type": "markdown",
   "metadata": {},
   "source": [
    "This creates a series of **key-value pairs**, which look something like this, with keys in blue and their values in green:\n",
    "\n",
    "<center><img src=\"images/dict-mlb.png\" width=\"300\" /><br/><small>(Source: https://realpython.com/python-dicts/)</small></center><br/>\n",
    "\n",
    "Now, when I need to look up a team name (value) based on its city (key), I can do that with:"
   ]
  },
  {
   "cell_type": "code",
   "execution_count": 17,
   "metadata": {},
   "outputs": [
    {
     "data": {
      "text/plain": [
       "'Twins'"
      ]
     },
     "execution_count": 17,
     "metadata": {},
     "output_type": "execute_result"
    }
   ],
   "source": [
    "# Which team is in Minnesota again?\n",
    "MLB_team['Minnesota']"
   ]
  },
  {
   "cell_type": "code",
   "execution_count": 18,
   "metadata": {},
   "outputs": [
    {
     "data": {
      "text/plain": [
       "'Mariners'"
      ]
     },
     "execution_count": 18,
     "metadata": {},
     "output_type": "execute_result"
    }
   ],
   "source": [
    "# Which team in Seattle?\n",
    "MLB_team['Seattle']"
   ]
  },
  {
   "cell_type": "markdown",
   "metadata": {},
   "source": [
    "## Working with dictionaries\n",
    "\n",
    "### Creating dictionaries\n",
    "\n",
    "There are a few different ways to create dictionaries.\n",
    "\n",
    "#### 1. One key-value pair at a time"
   ]
  },
  {
   "cell_type": "code",
   "execution_count": 26,
   "metadata": {},
   "outputs": [],
   "source": [
    "# Create an empty dictionary\n",
    "trees = {}\n",
    "\n",
    "# Add an entry\n",
    "trees['Redwood'] = '(Sequoia sempervirens) Tallest trees on earth. Found on the Pacific coast of Northern California.'\n",
    "\n",
    "# Add an entry\n",
    "trees['Sequoia'] = '(Sequoiadendron giganteum) Largest trees on earth. Found on the western slopes of the Sierra Nevadas.'"
   ]
  },
  {
   "cell_type": "code",
   "execution_count": 30,
   "metadata": {},
   "outputs": [
    {
     "data": {
      "text/plain": [
       "{'Redwood': '(Sequoia sempervirens) Tallest trees on earth. Found on the Pacific coast of Northern California.',\n",
       " 'Sequoia': '(Sequoiadendron giganteum) Largest trees on earth. Found on the western slopes of the Sierra Nevadas.'}"
      ]
     },
     "execution_count": 30,
     "metadata": {},
     "output_type": "execute_result"
    }
   ],
   "source": [
    "# show dictionary\n",
    "trees"
   ]
  },
  {
   "cell_type": "code",
   "execution_count": 31,
   "metadata": {},
   "outputs": [],
   "source": [
    "# @TODO: Add a tree to the dictionary! (Even a fake one), and then return/print the dictionary\n",
    "#\n",
    "\n"
   ]
  },
  {
   "cell_type": "markdown",
   "metadata": {},
   "source": [
    "#### 2. Using the {key:value} notation"
   ]
  },
  {
   "cell_type": "code",
   "execution_count": 33,
   "metadata": {},
   "outputs": [],
   "source": [
    "# Another way to create a dictionary is to store a bunch of key-value pairs all at once\n",
    "\n",
    "potter_houses = {\n",
    "    'Harry Potter' : 'Gryffindor',\n",
    "}"
   ]
  },
  {
   "cell_type": "code",
   "execution_count": null,
   "metadata": {},
   "outputs": [],
   "source": []
  }
 ],
 "metadata": {
  "kernelspec": {
   "display_name": "Python 2",
   "language": "python",
   "name": "python2"
  },
  "language_info": {
   "codemirror_mode": {
    "name": "ipython",
    "version": 2
   },
   "file_extension": ".py",
   "mimetype": "text/x-python",
   "name": "python",
   "nbconvert_exporter": "python",
   "pygments_lexer": "ipython2",
   "version": "2.7.15"
  }
 },
 "nbformat": 4,
 "nbformat_minor": 2
}
